{
  "nbformat": 4,
  "nbformat_minor": 0,
  "metadata": {
    "colab": {
      "name": "Petai-training-deeplab.ipynb",
      "provenance": [],
      "collapsed_sections": []
    },
    "kernelspec": {
      "name": "python3",
      "display_name": "Python 3"
    },
    "accelerator": "GPU"
  },
  "cells": [
    {
      "cell_type": "code",
      "metadata": {
        "id": "hGmETWVoAK5m",
        "colab_type": "code",
        "colab": {}
      },
      "source": [
        "from google.colab import drive\n",
        "drive.mount('/content/drive')"
      ],
      "execution_count": 0,
      "outputs": []
    },
    {
      "cell_type": "code",
      "metadata": {
        "id": "DrkS6HNXRbZF",
        "colab_type": "code",
        "colab": {}
      },
      "source": [
        "import time"
      ],
      "execution_count": 0,
      "outputs": []
    },
    {
      "cell_type": "code",
      "metadata": {
        "id": "eE3LTK5cSDYm",
        "colab_type": "code",
        "colab": {}
      },
      "source": [
        "pip install tensorboardX"
      ],
      "execution_count": 0,
      "outputs": []
    },
    {
      "cell_type": "code",
      "metadata": {
        "id": "_cHRH7bYRsHG",
        "colab_type": "code",
        "outputId": "4f35e477-4f24-4252-d948-d852271edf89",
        "colab": {
          "base_uri": "https://localhost:8080/",
          "height": 33
        }
      },
      "source": [
        "%cd /content/drive/My Drive/PETAI-master/"
      ],
      "execution_count": 0,
      "outputs": [
        {
          "output_type": "stream",
          "text": [
            "/content/drive/My Drive/PETAI-master\n"
          ],
          "name": "stdout"
        }
      ]
    },
    {
      "cell_type": "code",
      "metadata": {
        "id": "LTXxuFpzkuVv",
        "colab_type": "code",
        "colab": {}
      },
      "source": [
        "start = time.time()\n",
        "!python train_DeepLab.py --train --batch_size 32 --aug True --n_epoch 50 --base_lr 0.001 --exp ResNet9_ADAM_Mult1 --arch DeepLab_ResNet9_0.001_32_ADAM_Mult1\n",
        "done = time.time()\n",
        "elapsed = done - start\n",
        "print(\"\\n\\n Total Runtime:\", elapsed/60, \"minutes\")"
      ],
      "execution_count": 0,
      "outputs": []
    },
    {
      "cell_type": "code",
      "metadata": {
        "id": "czHOfn51XVDP",
        "colab_type": "code",
        "colab": {}
      },
      "source": [
        ""
      ],
      "execution_count": 0,
      "outputs": []
    }
  ]
}