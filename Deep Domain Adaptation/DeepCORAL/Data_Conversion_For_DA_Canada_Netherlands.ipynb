{
  "nbformat": 4,
  "nbformat_minor": 0,
  "metadata": {
    "colab": {
      "name": "Data-Conversion-For-DA-Canada-Netherlands.ipynb",
      "provenance": [],
      "collapsed_sections": []
    },
    "kernelspec": {
      "name": "python3",
      "display_name": "Python 3"
    },
    "accelerator": "GPU"
  },
  "cells": [
    {
      "cell_type": "code",
      "metadata": {
        "id": "R_7d6F-kBQpU",
        "colab_type": "code",
        "colab": {
          "base_uri": "https://localhost:8080/",
          "height": 35
        },
        "outputId": "6fba3a7c-1a9f-43f3-a4cd-ead8ffe2e34a"
      },
      "source": [
        "from google.colab import drive\n",
        "drive.mount('/content/drive')"
      ],
      "execution_count": null,
      "outputs": [
        {
          "output_type": "stream",
          "text": [
            "Drive already mounted at /content/drive; to attempt to forcibly remount, call drive.mount(\"/content/drive\", force_remount=True).\n"
          ],
          "name": "stdout"
        }
      ]
    },
    {
      "cell_type": "code",
      "metadata": {
        "id": "yexUv18VAC4v",
        "colab_type": "code",
        "colab": {
          "base_uri": "https://localhost:8080/",
          "height": 35
        },
        "outputId": "b9a81b58-6d82-43b2-a8c4-02e7688ddb20"
      },
      "source": [
        "%cd /content/drive/My Drive/PETAI-master/Penobscot Interpretation Dataset Version 2.0.0"
      ],
      "execution_count": null,
      "outputs": [
        {
          "output_type": "stream",
          "text": [
            "/content/drive/My Drive/PETAI-master/Penobscot Interpretation Dataset Version 2.0.0\n"
          ],
          "name": "stdout"
        }
      ]
    },
    {
      "cell_type": "code",
      "metadata": {
        "id": "hg8aGMoIAKug",
        "colab_type": "code",
        "colab": {
          "base_uri": "https://localhost:8080/",
          "height": 35
        },
        "outputId": "abe590ba-5e12-4b19-a89c-76a244728322"
      },
      "source": [
        "%ls"
      ],
      "execution_count": null,
      "outputs": [
        {
          "output_type": "stream",
          "text": [
            "crosslines.zip  inlines.zip  masks.zip\n"
          ],
          "name": "stdout"
        }
      ]
    },
    {
      "cell_type": "code",
      "metadata": {
        "id": "4_Uli_AL_l6U",
        "colab_type": "code",
        "colab": {
          "base_uri": "https://localhost:8080/",
          "height": 1000
        },
        "outputId": "0f46ed09-2d4d-4553-8b5a-d2626fea3e94"
      },
      "source": [
        "!unzip crosslines.zip -d '/content/'\n",
        "!unzip inlines.zip -d '/content/'\n",
        "!unzip masks.zip -d '/content/'"
      ],
      "execution_count": null,
      "outputs": [
        {
          "output_type": "stream",
          "text": [
            "Archive:  crosslines.zip\n",
            "   creating: /content/crosslines/\n",
            "  inflating: /content/crosslines/crossline_1363.tiff  \n",
            "  inflating: /content/crosslines/crossline_1226.tiff  \n",
            "  inflating: /content/crosslines/crossline_1158.tiff  \n",
            "  inflating: /content/crosslines/crossline_1334.tiff  \n",
            "  inflating: /content/crosslines/crossline_1271.tiff  \n",
            "  inflating: /content/crosslines/crossline_1322.tiff  \n",
            "  inflating: /content/crosslines/crossline_1288.tiff  \n",
            "  inflating: /content/crosslines/crossline_1267.tiff  \n",
            "  inflating: /content/crosslines/crossline_1119.tiff  \n",
            "  inflating: /content/crosslines/crossline_1375.tiff  \n",
            "  inflating: /content/crosslines/crossline_1230.tiff  \n",
            "  inflating: /content/crosslines/crossline_1027.tiff  \n",
            "  inflating: /content/crosslines/crossline_1477.tiff  \n",
            "  inflating: /content/crosslines/crossline_1162.tiff  \n",
            "  inflating: /content/crosslines/crossline_1420.tiff  \n",
            "  inflating: /content/crosslines/crossline_1070.tiff  \n",
            "  inflating: /content/crosslines/crossline_1135.tiff  \n",
            "  inflating: /content/crosslines/crossline_1359.tiff  \n",
            "  inflating: /content/crosslines/crossline_1066.tiff  \n",
            "  inflating: /content/crosslines/crossline_1436.tiff  \n",
            "  inflating: /content/crosslines/crossline_1123.tiff  \n",
            "  inflating: /content/crosslines/crossline_1089.tiff  \n",
            "  inflating: /content/crosslines/crossline_1461.tiff  \n",
            "  inflating: /content/crosslines/crossline_1031.tiff  \n",
            "  inflating: /content/crosslines/crossline_1174.tiff  \n",
            "  inflating: /content/crosslines/crossline_1318.tiff  \n",
            "  inflating: /content/crosslines/crossline_1380.tiff  \n",
            "  inflating: /content/crosslines/crossline_1103.tiff  \n",
            "  inflating: /content/crosslines/crossline_1046.tiff  \n",
            "  inflating: /content/crosslines/crossline_1416.tiff  \n",
            "  inflating: /content/crosslines/crossline_1338.tiff  \n",
            "  inflating: /content/crosslines/crossline_1292.tiff  \n",
            "  inflating: /content/crosslines/crossline_1154.tiff  \n",
            "  inflating: /content/crosslines/crossline_1441.tiff  \n",
            "  inflating: /content/crosslines/crossline_1011.tiff  \n",
            "  inflating: /content/crosslines/crossline_1284.tiff  \n",
            "  inflating: /content/crosslines/crossline_1142.tiff  \n",
            "  inflating: /content/crosslines/crossline_1007.tiff  \n",
            "  inflating: /content/crosslines/crossline_1457.tiff  \n",
            "  inflating: /content/crosslines/crossline_1379.tiff  \n",
            "  inflating: /content/crosslines/crossline_1396.tiff  \n",
            "  inflating: /content/crosslines/crossline_1115.tiff  \n",
            "  inflating: /content/crosslines/crossline_1400.tiff  \n",
            "  inflating: /content/crosslines/crossline_1050.tiff  \n",
            "  inflating: /content/crosslines/crossline_1247.tiff  \n",
            "  inflating: /content/crosslines/crossline_1302.tiff  \n",
            "  inflating: /content/crosslines/crossline_1181.tiff  \n",
            "  inflating: /content/crosslines/crossline_1210.tiff  \n",
            "  inflating: /content/crosslines/crossline_1355.tiff  \n",
            "  inflating: /content/crosslines/crossline_1139.tiff  \n",
            "  inflating: /content/crosslines/crossline_1093.tiff  \n",
            "  inflating: /content/crosslines/crossline_1206.tiff  \n",
            "  inflating: /content/crosslines/crossline_1343.tiff  \n",
            "  inflating: /content/crosslines/crossline_1085.tiff  \n",
            "  inflating: /content/crosslines/crossline_1251.tiff  \n",
            "  inflating: /content/crosslines/crossline_1314.tiff  \n",
            "  inflating: /content/crosslines/crossline_1197.tiff  \n",
            "  inflating: /content/crosslines/crossline_1178.tiff  \n",
            "  inflating: /content/crosslines/crossline_1196.tiff  \n",
            "  inflating: /content/crosslines/crossline_1179.tiff  \n",
            "  inflating: /content/crosslines/crossline_1250.tiff  \n",
            "  inflating: /content/crosslines/crossline_1315.tiff  \n",
            "  inflating: /content/crosslines/crossline_1084.tiff  \n",
            "  inflating: /content/crosslines/crossline_1207.tiff  \n",
            "  inflating: /content/crosslines/crossline_1342.tiff  \n",
            "  inflating: /content/crosslines/crossline_1138.tiff  \n",
            "  inflating: /content/crosslines/crossline_1092.tiff  \n",
            "  inflating: /content/crosslines/crossline_1211.tiff  \n",
            "  inflating: /content/crosslines/crossline_1354.tiff  \n",
            "  inflating: /content/crosslines/crossline_1180.tiff  \n",
            "  inflating: /content/crosslines/crossline_1246.tiff  \n",
            "  inflating: /content/crosslines/crossline_1303.tiff  \n",
            "  inflating: /content/crosslines/crossline_1114.tiff  \n",
            "  inflating: /content/crosslines/crossline_1401.tiff  \n",
            "  inflating: /content/crosslines/crossline_1051.tiff  \n",
            "  inflating: /content/crosslines/crossline_1378.tiff  \n",
            "  inflating: /content/crosslines/crossline_1397.tiff  \n",
            "  inflating: /content/crosslines/crossline_1143.tiff  \n",
            "  inflating: /content/crosslines/crossline_1006.tiff  \n",
            "  inflating: /content/crosslines/crossline_1456.tiff  \n",
            "  inflating: /content/crosslines/crossline_1285.tiff  \n",
            "  inflating: /content/crosslines/crossline_1155.tiff  \n",
            "  inflating: /content/crosslines/crossline_1440.tiff  \n",
            "  inflating: /content/crosslines/crossline_1010.tiff  \n",
            "  inflating: /content/crosslines/crossline_1339.tiff  \n",
            "  inflating: /content/crosslines/crossline_1293.tiff  \n",
            "  inflating: /content/crosslines/crossline_1102.tiff  \n",
            "  inflating: /content/crosslines/crossline_1047.tiff  \n",
            "  inflating: /content/crosslines/crossline_1417.tiff  \n",
            "  inflating: /content/crosslines/crossline_1381.tiff  \n",
            "  inflating: /content/crosslines/crossline_1319.tiff  \n",
            "  inflating: /content/crosslines/crossline_1460.tiff  \n",
            "  inflating: /content/crosslines/crossline_1030.tiff  \n",
            "  inflating: /content/crosslines/crossline_1175.tiff  \n",
            "  inflating: /content/crosslines/crossline_1067.tiff  \n",
            "  inflating: /content/crosslines/crossline_1437.tiff  \n",
            "  inflating: /content/crosslines/crossline_1122.tiff  \n",
            "  inflating: /content/crosslines/crossline_1088.tiff  \n",
            "  inflating: /content/crosslines/crossline_1358.tiff  \n",
            "  inflating: /content/crosslines/crossline_1421.tiff  \n",
            "  inflating: /content/crosslines/crossline_1071.tiff  \n",
            "  inflating: /content/crosslines/crossline_1134.tiff  \n",
            "  inflating: /content/crosslines/crossline_1026.tiff  \n",
            "  inflating: /content/crosslines/crossline_1476.tiff  \n",
            "  inflating: /content/crosslines/crossline_1163.tiff  \n",
            "  inflating: /content/crosslines/crossline_1374.tiff  \n",
            "  inflating: /content/crosslines/crossline_1231.tiff  \n",
            "  inflating: /content/crosslines/crossline_1118.tiff  \n",
            "  inflating: /content/crosslines/crossline_1323.tiff  \n",
            "  inflating: /content/crosslines/crossline_1289.tiff  \n",
            "  inflating: /content/crosslines/crossline_1266.tiff  \n",
            "  inflating: /content/crosslines/crossline_1335.tiff  \n",
            "  inflating: /content/crosslines/crossline_1270.tiff  \n",
            "  inflating: /content/crosslines/crossline_1159.tiff  \n",
            "  inflating: /content/crosslines/crossline_1362.tiff  \n",
            "  inflating: /content/crosslines/crossline_1227.tiff  \n",
            "  inflating: /content/crosslines/crossline_1369.tiff  \n",
            "  inflating: /content/crosslines/crossline_1386.tiff  \n",
            "  inflating: /content/crosslines/crossline_1105.tiff  \n",
            "  inflating: /content/crosslines/crossline_1040.tiff  \n",
            "  inflating: /content/crosslines/crossline_1410.tiff  \n",
            "  inflating: /content/crosslines/crossline_1294.tiff  \n",
            "  inflating: /content/crosslines/crossline_1152.tiff  \n",
            "  inflating: /content/crosslines/crossline_1447.tiff  \n",
            "  inflating: /content/crosslines/crossline_1017.tiff  \n",
            "  inflating: /content/crosslines/crossline_1282.tiff  \n",
            "  inflating: /content/crosslines/crossline_1328.tiff  \n",
            "  inflating: /content/crosslines/crossline_1144.tiff  \n",
            "  inflating: /content/crosslines/crossline_1001.tiff  \n",
            "  inflating: /content/crosslines/crossline_1451.tiff  \n",
            "  inflating: /content/crosslines/crossline_1390.tiff  \n",
            "  inflating: /content/crosslines/crossline_1113.tiff  \n",
            "  inflating: /content/crosslines/crossline_1406.tiff  \n",
            "  inflating: /content/crosslines/crossline_1056.tiff  \n",
            "  inflating: /content/crosslines/crossline_1241.tiff  \n",
            "  inflating: /content/crosslines/crossline_1304.tiff  \n",
            "  inflating: /content/crosslines/crossline_1187.tiff  \n",
            "  inflating: /content/crosslines/crossline_1168.tiff  \n",
            "  inflating: /content/crosslines/crossline_1216.tiff  \n",
            "  inflating: /content/crosslines/crossline_1353.tiff  \n",
            "  inflating: /content/crosslines/crossline_1095.tiff  \n",
            "  inflating: /content/crosslines/crossline_1200.tiff  \n",
            "  inflating: /content/crosslines/crossline_1345.tiff  \n",
            "  inflating: /content/crosslines/crossline_1083.tiff  \n",
            "  inflating: /content/crosslines/crossline_1129.tiff  \n",
            "  inflating: /content/crosslines/crossline_1257.tiff  \n",
            "  inflating: /content/crosslines/crossline_1312.tiff  \n",
            "  inflating: /content/crosslines/crossline_1191.tiff  \n",
            "  inflating: /content/crosslines/crossline_1109.tiff  \n",
            "  inflating: /content/crosslines/crossline_1365.tiff  \n",
            "  inflating: /content/crosslines/crossline_1220.tiff  \n",
            "  inflating: /content/crosslines/crossline_1298.tiff  \n",
            "  inflating: /content/crosslines/crossline_1332.tiff  \n",
            "  inflating: /content/crosslines/crossline_1277.tiff  \n",
            "  inflating: /content/crosslines/crossline_1148.tiff  \n",
            "  inflating: /content/crosslines/crossline_1324.tiff  \n",
            "  inflating: /content/crosslines/crossline_1261.tiff  \n",
            "  inflating: /content/crosslines/crossline_1373.tiff  \n",
            "  inflating: /content/crosslines/crossline_1236.tiff  \n",
            "  inflating: /content/crosslines/crossline_1021.tiff  \n",
            "  inflating: /content/crosslines/crossline_1471.tiff  \n",
            "  inflating: /content/crosslines/crossline_1164.tiff  \n",
            "  inflating: /content/crosslines/crossline_1308.tiff  \n",
            "  inflating: /content/crosslines/crossline_1426.tiff  \n",
            "  inflating: /content/crosslines/crossline_1076.tiff  \n",
            "  inflating: /content/crosslines/crossline_1099.tiff  \n",
            "  inflating: /content/crosslines/crossline_1133.tiff  \n",
            "  inflating: /content/crosslines/crossline_1060.tiff  \n",
            "  inflating: /content/crosslines/crossline_1430.tiff  \n",
            "  inflating: /content/crosslines/crossline_1125.tiff  \n",
            "  inflating: /content/crosslines/crossline_1349.tiff  \n",
            "  inflating: /content/crosslines/crossline_1467.tiff  \n",
            "  inflating: /content/crosslines/crossline_1037.tiff  \n",
            "  inflating: /content/crosslines/crossline_1172.tiff  \n",
            "  inflating: /content/crosslines/crossline_1466.tiff  \n",
            "  inflating: /content/crosslines/crossline_1036.tiff  \n",
            "  inflating: /content/crosslines/crossline_1173.tiff  \n",
            "  inflating: /content/crosslines/crossline_1348.tiff  \n",
            "  inflating: /content/crosslines/crossline_1061.tiff  \n",
            "  inflating: /content/crosslines/crossline_1431.tiff  \n",
            "  inflating: /content/crosslines/crossline_1124.tiff  \n",
            "  inflating: /content/crosslines/crossline_1427.tiff  \n",
            "  inflating: /content/crosslines/crossline_1077.tiff  \n",
            "  inflating: /content/crosslines/crossline_1098.tiff  \n",
            "  inflating: /content/crosslines/crossline_1132.tiff  \n",
            "  inflating: /content/crosslines/crossline_1309.tiff  \n",
            "  inflating: /content/crosslines/crossline_1020.tiff  \n",
            "  inflating: /content/crosslines/crossline_1470.tiff  \n",
            "  inflating: /content/crosslines/crossline_1165.tiff  \n",
            "  inflating: /content/crosslines/crossline_1372.tiff  \n",
            "  inflating: /content/crosslines/crossline_1237.tiff  \n",
            "  inflating: /content/crosslines/crossline_1325.tiff  \n",
            "  inflating: /content/crosslines/crossline_1260.tiff  \n",
            "  inflating: /content/crosslines/crossline_1149.tiff  \n",
            "  inflating: /content/crosslines/crossline_1299.tiff  \n",
            "  inflating: /content/crosslines/crossline_1333.tiff  \n",
            "  inflating: /content/crosslines/crossline_1276.tiff  \n",
            "  inflating: /content/crosslines/crossline_1364.tiff  \n",
            "  inflating: /content/crosslines/crossline_1221.tiff  \n",
            "  inflating: /content/crosslines/crossline_1108.tiff  \n",
            "  inflating: /content/crosslines/crossline_1190.tiff  \n",
            "  inflating: /content/crosslines/crossline_1256.tiff  \n",
            "  inflating: /content/crosslines/crossline_1313.tiff  \n",
            "  inflating: /content/crosslines/crossline_1082.tiff  \n",
            "  inflating: /content/crosslines/crossline_1128.tiff  \n",
            "  inflating: /content/crosslines/crossline_1201.tiff  \n",
            "  inflating: /content/crosslines/crossline_1344.tiff  \n",
            "  inflating: /content/crosslines/crossline_1094.tiff  \n",
            "  inflating: /content/crosslines/crossline_1217.tiff  \n",
            "  inflating: /content/crosslines/crossline_1352.tiff  \n",
            "  inflating: /content/crosslines/crossline_1186.tiff  \n",
            "  inflating: /content/crosslines/crossline_1169.tiff  \n",
            "  inflating: /content/crosslines/crossline_1240.tiff  \n",
            "  inflating: /content/crosslines/crossline_1305.tiff  \n",
            "  inflating: /content/crosslines/crossline_1112.tiff  \n",
            "  inflating: /content/crosslines/crossline_1407.tiff  \n",
            "  inflating: /content/crosslines/crossline_1057.tiff  \n",
            "  inflating: /content/crosslines/crossline_1391.tiff  \n",
            "  inflating: /content/crosslines/crossline_1145.tiff  \n",
            "  inflating: /content/crosslines/crossline_1000.tiff  \n",
            "  inflating: /content/crosslines/crossline_1450.tiff  \n",
            "  inflating: /content/crosslines/crossline_1283.tiff  \n",
            "  inflating: /content/crosslines/crossline_1329.tiff  \n",
            "  inflating: /content/crosslines/crossline_1153.tiff  \n",
            "  inflating: /content/crosslines/crossline_1446.tiff  \n",
            "  inflating: /content/crosslines/crossline_1016.tiff  \n",
            "  inflating: /content/crosslines/crossline_1295.tiff  \n",
            "  inflating: /content/crosslines/crossline_1104.tiff  \n",
            "  inflating: /content/crosslines/crossline_1041.tiff  \n",
            "  inflating: /content/crosslines/crossline_1411.tiff  \n",
            "  inflating: /content/crosslines/crossline_1368.tiff  \n",
            "  inflating: /content/crosslines/crossline_1387.tiff  \n",
            "  inflating: /content/crosslines/crossline_1039.tiff  \n",
            "  inflating: /content/crosslines/crossline_1469.tiff  \n",
            "  inflating: /content/crosslines/crossline_1193.tiff  \n",
            "  inflating: /content/crosslines/crossline_1310.tiff  \n",
            "  inflating: /content/crosslines/crossline_1255.tiff  \n",
            "  inflating: /content/crosslines/crossline_1081.tiff  \n",
            "  inflating: /content/crosslines/crossline_1347.tiff  \n",
            "  inflating: /content/crosslines/crossline_1202.tiff  \n",
            "  inflating: /content/crosslines/crossline_1097.tiff  \n",
            "  inflating: /content/crosslines/crossline_1078.tiff  \n",
            "  inflating: /content/crosslines/crossline_1428.tiff  \n",
            "  inflating: /content/crosslines/crossline_1351.tiff  \n",
            "  inflating: /content/crosslines/crossline_1214.tiff  \n",
            "  inflating: /content/crosslines/crossline_1185.tiff  \n",
            "  inflating: /content/crosslines/crossline_1306.tiff  \n",
            "  inflating: /content/crosslines/crossline_1243.tiff  \n",
            "  inflating: /content/crosslines/crossline_1404.tiff  \n",
            "  inflating: /content/crosslines/crossline_1054.tiff  \n",
            "  inflating: /content/crosslines/crossline_1111.tiff  \n",
            "  inflating: /content/crosslines/crossline_1238.tiff  \n",
            "  inflating: /content/crosslines/crossline_1392.tiff  \n",
            "  inflating: /content/crosslines/crossline_1003.tiff  \n",
            "  inflating: /content/crosslines/crossline_1453.tiff  \n",
            "  inflating: /content/crosslines/crossline_1146.tiff  \n",
            "  inflating: /content/crosslines/crossline_1280.tiff  \n",
            "  inflating: /content/crosslines/crossline_1445.tiff  \n",
            "  inflating: /content/crosslines/crossline_1015.tiff  \n",
            "  inflating: /content/crosslines/crossline_1150.tiff  \n",
            "  inflating: /content/crosslines/crossline_1279.tiff  \n",
            "  inflating: /content/crosslines/crossline_1296.tiff  \n",
            "  inflating: /content/crosslines/crossline_1042.tiff  \n",
            "  inflating: /content/crosslines/crossline_1412.tiff  \n",
            "  inflating: /content/crosslines/crossline_1107.tiff  \n",
            "  inflating: /content/crosslines/crossline_1384.tiff  \n",
            "  inflating: /content/crosslines/crossline_1259.tiff  \n",
            "  inflating: /content/crosslines/crossline_1170.tiff  \n",
            "  inflating: /content/crosslines/crossline_1465.tiff  \n",
            "  inflating: /content/crosslines/crossline_1035.tiff  \n",
            "  inflating: /content/crosslines/crossline_1127.tiff  \n",
            "  inflating: /content/crosslines/crossline_1062.tiff  \n",
            "  inflating: /content/crosslines/crossline_1432.tiff  \n",
            "  inflating: /content/crosslines/crossline_1218.tiff  \n",
            "  inflating: /content/crosslines/crossline_1131.tiff  \n",
            "  inflating: /content/crosslines/crossline_1424.tiff  \n",
            "  inflating: /content/crosslines/crossline_1074.tiff  \n",
            "  inflating: /content/crosslines/crossline_1166.tiff  \n",
            "  inflating: /content/crosslines/crossline_1023.tiff  \n",
            "  inflating: /content/crosslines/crossline_1473.tiff  \n",
            "  inflating: /content/crosslines/crossline_1189.tiff  \n",
            "  inflating: /content/crosslines/crossline_1234.tiff  \n",
            "  inflating: /content/crosslines/crossline_1371.tiff  \n",
            "  inflating: /content/crosslines/crossline_1058.tiff  \n",
            "  inflating: /content/crosslines/crossline_1408.tiff  \n",
            "  inflating: /content/crosslines/crossline_1263.tiff  \n",
            "  inflating: /content/crosslines/crossline_1326.tiff  \n",
            "  inflating: /content/crosslines/crossline_1275.tiff  \n",
            "  inflating: /content/crosslines/crossline_1330.tiff  \n",
            "  inflating: /content/crosslines/crossline_1019.tiff  \n",
            "  inflating: /content/crosslines/crossline_1449.tiff  \n",
            "  inflating: /content/crosslines/crossline_1222.tiff  \n",
            "  inflating: /content/crosslines/crossline_1388.tiff  \n",
            "  inflating: /content/crosslines/crossline_1367.tiff  \n",
            "  inflating: /content/crosslines/crossline_1223.tiff  \n",
            "  inflating: /content/crosslines/crossline_1389.tiff  \n",
            "  inflating: /content/crosslines/crossline_1366.tiff  \n",
            "  inflating: /content/crosslines/crossline_1018.tiff  \n",
            "  inflating: /content/crosslines/crossline_1448.tiff  \n",
            "  inflating: /content/crosslines/crossline_1274.tiff  \n",
            "  inflating: /content/crosslines/crossline_1331.tiff  \n",
            "  inflating: /content/crosslines/crossline_1262.tiff  \n",
            "  inflating: /content/crosslines/crossline_1327.tiff  \n",
            "  inflating: /content/crosslines/crossline_1059.tiff  \n",
            "  inflating: /content/crosslines/crossline_1409.tiff  \n",
            "  inflating: /content/crosslines/crossline_1235.tiff  \n",
            "  inflating: /content/crosslines/crossline_1370.tiff  \n",
            "  inflating: /content/crosslines/crossline_1167.tiff  \n",
            "  inflating: /content/crosslines/crossline_1022.tiff  \n",
            "  inflating: /content/crosslines/crossline_1472.tiff  \n",
            "  inflating: /content/crosslines/crossline_1188.tiff  \n",
            "  inflating: /content/crosslines/crossline_1130.tiff  \n",
            "  inflating: /content/crosslines/crossline_1425.tiff  \n",
            "  inflating: /content/crosslines/crossline_1075.tiff  \n",
            "  inflating: /content/crosslines/crossline_1219.tiff  \n",
            "  inflating: /content/crosslines/crossline_1126.tiff  \n",
            "  inflating: /content/crosslines/crossline_1063.tiff  \n",
            "  inflating: /content/crosslines/crossline_1433.tiff  \n",
            "  inflating: /content/crosslines/crossline_1171.tiff  \n",
            "  inflating: /content/crosslines/crossline_1464.tiff  \n",
            "  inflating: /content/crosslines/crossline_1034.tiff  \n",
            "  inflating: /content/crosslines/crossline_1258.tiff  \n",
            "  inflating: /content/crosslines/crossline_1385.tiff  \n",
            "  inflating: /content/crosslines/crossline_1043.tiff  \n",
            "  inflating: /content/crosslines/crossline_1413.tiff  \n",
            "  inflating: /content/crosslines/crossline_1106.tiff  \n",
            "  inflating: /content/crosslines/crossline_1278.tiff  \n",
            "  inflating: /content/crosslines/crossline_1297.tiff  \n",
            "  inflating: /content/crosslines/crossline_1444.tiff  \n",
            "  inflating: /content/crosslines/crossline_1014.tiff  \n",
            "  inflating: /content/crosslines/crossline_1151.tiff  \n",
            "  inflating: /content/crosslines/crossline_1281.tiff  \n",
            "  inflating: /content/crosslines/crossline_1002.tiff  \n",
            "  inflating: /content/crosslines/crossline_1452.tiff  \n",
            "  inflating: /content/crosslines/crossline_1147.tiff  \n",
            "  inflating: /content/crosslines/crossline_1239.tiff  \n",
            "  inflating: /content/crosslines/crossline_1393.tiff  \n",
            "  inflating: /content/crosslines/crossline_1405.tiff  \n",
            "  inflating: /content/crosslines/crossline_1055.tiff  \n",
            "  inflating: /content/crosslines/crossline_1110.tiff  \n",
            "  inflating: /content/crosslines/crossline_1307.tiff  \n",
            "  inflating: /content/crosslines/crossline_1242.tiff  \n",
            "  inflating: /content/crosslines/crossline_1184.tiff  \n",
            "  inflating: /content/crosslines/crossline_1350.tiff  \n",
            "  inflating: /content/crosslines/crossline_1215.tiff  \n",
            "  inflating: /content/crosslines/crossline_1096.tiff  \n",
            "  inflating: /content/crosslines/crossline_1079.tiff  \n",
            "  inflating: /content/crosslines/crossline_1429.tiff  \n",
            "  inflating: /content/crosslines/crossline_1346.tiff  \n",
            "  inflating: /content/crosslines/crossline_1203.tiff  \n",
            "  inflating: /content/crosslines/crossline_1080.tiff  \n",
            "  inflating: /content/crosslines/crossline_1311.tiff  \n",
            "  inflating: /content/crosslines/crossline_1254.tiff  \n",
            "  inflating: /content/crosslines/crossline_1038.tiff  \n",
            "  inflating: /content/crosslines/crossline_1468.tiff  \n",
            "  inflating: /content/crosslines/crossline_1192.tiff  \n",
            "  inflating: /content/crosslines/crossline_1176.tiff  \n",
            "  inflating: /content/crosslines/crossline_1463.tiff  \n",
            "  inflating: /content/crosslines/crossline_1199.tiff  \n",
            "  inflating: /content/crosslines/crossline_1033.tiff  \n",
            "  inflating: /content/crosslines/crossline_1208.tiff  \n",
            "  inflating: /content/crosslines/crossline_1121.tiff  \n",
            "  inflating: /content/crosslines/crossline_1064.tiff  \n",
            "  inflating: /content/crosslines/crossline_1434.tiff  \n",
            "  inflating: /content/crosslines/crossline_1137.tiff  \n",
            "  inflating: /content/crosslines/crossline_1422.tiff  \n",
            "  inflating: /content/crosslines/crossline_1072.tiff  \n",
            "  inflating: /content/crosslines/crossline_1249.tiff  \n",
            "  inflating: /content/crosslines/crossline_1160.tiff  \n",
            "  inflating: /content/crosslines/crossline_1025.tiff  \n",
            "  inflating: /content/crosslines/crossline_1475.tiff  \n",
            "  inflating: /content/crosslines/crossline_1398.tiff  \n",
            "  inflating: /content/crosslines/crossline_1232.tiff  \n",
            "  inflating: /content/crosslines/crossline_1377.tiff  \n",
            "  inflating: /content/crosslines/crossline_1265.tiff  \n",
            "  inflating: /content/crosslines/crossline_1320.tiff  \n",
            "  inflating: /content/crosslines/crossline_1459.tiff  \n",
            "  inflating: /content/crosslines/crossline_1009.tiff  \n",
            "  inflating: /content/crosslines/crossline_1273.tiff  \n",
            "  inflating: /content/crosslines/crossline_1336.tiff  \n",
            "  inflating: /content/crosslines/crossline_1224.tiff  \n",
            "  inflating: /content/crosslines/crossline_1361.tiff  \n",
            "  inflating: /content/crosslines/crossline_1418.tiff  \n",
            "  inflating: /content/crosslines/crossline_1048.tiff  \n",
            "  inflating: /content/crosslines/crossline_1480.tiff  \n",
            "  inflating: /content/crosslines/crossline_1195.tiff  \n",
            "  inflating: /content/crosslines/crossline_1316.tiff  \n",
            "  inflating: /content/crosslines/crossline_1253.tiff  \n",
            "  inflating: /content/crosslines/crossline_1087.tiff  \n",
            "  inflating: /content/crosslines/crossline_1438.tiff  \n",
            "  inflating: /content/crosslines/crossline_1068.tiff  \n",
            "  inflating: /content/crosslines/crossline_1341.tiff  \n",
            "  inflating: /content/crosslines/crossline_1204.tiff  \n",
            "  inflating: /content/crosslines/crossline_1091.tiff  \n",
            "  inflating: /content/crosslines/crossline_1357.tiff  \n",
            "  inflating: /content/crosslines/crossline_1212.tiff  \n",
            "  inflating: /content/crosslines/crossline_1479.tiff  \n",
            "  inflating: /content/crosslines/crossline_1183.tiff  \n",
            "  inflating: /content/crosslines/crossline_1029.tiff  \n",
            "  inflating: /content/crosslines/crossline_1300.tiff  \n",
            "  inflating: /content/crosslines/crossline_1245.tiff  \n",
            "  inflating: /content/crosslines/crossline_1402.tiff  \n",
            "  inflating: /content/crosslines/crossline_1052.tiff  \n",
            "  inflating: /content/crosslines/crossline_1117.tiff  \n",
            "  inflating: /content/crosslines/crossline_1394.tiff  \n",
            "  inflating: /content/crosslines/crossline_1005.tiff  \n",
            "  inflating: /content/crosslines/crossline_1455.tiff  \n",
            "  inflating: /content/crosslines/crossline_1140.tiff  \n",
            "  inflating: /content/crosslines/crossline_1269.tiff  \n",
            "  inflating: /content/crosslines/crossline_1286.tiff  \n",
            "  inflating: /content/crosslines/crossline_1443.tiff  \n",
            "  inflating: /content/crosslines/crossline_1013.tiff  \n",
            "  inflating: /content/crosslines/crossline_1156.tiff  \n",
            "  inflating: /content/crosslines/crossline_1290.tiff  \n",
            "  inflating: /content/crosslines/crossline_1044.tiff  \n",
            "  inflating: /content/crosslines/crossline_1414.tiff  \n",
            "  inflating: /content/crosslines/crossline_1101.tiff  \n",
            "  inflating: /content/crosslines/crossline_1382.tiff  \n",
            "  inflating: /content/crosslines/crossline_1228.tiff  \n",
            "  inflating: /content/crosslines/crossline_1383.tiff  \n",
            "  inflating: /content/crosslines/crossline_1229.tiff  \n",
            "  inflating: /content/crosslines/crossline_1045.tiff  \n",
            "  inflating: /content/crosslines/crossline_1415.tiff  \n",
            "  inflating: /content/crosslines/crossline_1100.tiff  \n",
            "  inflating: /content/crosslines/crossline_1291.tiff  \n",
            "  inflating: /content/crosslines/crossline_1442.tiff  \n",
            "  inflating: /content/crosslines/crossline_1012.tiff  \n",
            "  inflating: /content/crosslines/crossline_1157.tiff  \n",
            "  inflating: /content/crosslines/crossline_1268.tiff  \n",
            "  inflating: /content/crosslines/crossline_1287.tiff  \n",
            "  inflating: /content/crosslines/crossline_1004.tiff  \n",
            "  inflating: /content/crosslines/crossline_1454.tiff  \n",
            "  inflating: /content/crosslines/crossline_1141.tiff  \n",
            "  inflating: /content/crosslines/crossline_1395.tiff  \n",
            "  inflating: /content/crosslines/crossline_1403.tiff  \n",
            "  inflating: /content/crosslines/crossline_1053.tiff  \n",
            "  inflating: /content/crosslines/crossline_1116.tiff  \n",
            "  inflating: /content/crosslines/crossline_1301.tiff  \n",
            "  inflating: /content/crosslines/crossline_1244.tiff  \n",
            "  inflating: /content/crosslines/crossline_1478.tiff  \n",
            "  inflating: /content/crosslines/crossline_1182.tiff  \n",
            "  inflating: /content/crosslines/crossline_1028.tiff  \n",
            "  inflating: /content/crosslines/crossline_1356.tiff  \n",
            "  inflating: /content/crosslines/crossline_1213.tiff  \n",
            "  inflating: /content/crosslines/crossline_1090.tiff  \n",
            "  inflating: /content/crosslines/crossline_1340.tiff  \n",
            "  inflating: /content/crosslines/crossline_1205.tiff  \n",
            "  inflating: /content/crosslines/crossline_1086.tiff  \n",
            "  inflating: /content/crosslines/crossline_1439.tiff  \n",
            "  inflating: /content/crosslines/crossline_1069.tiff  \n",
            "  inflating: /content/crosslines/crossline_1317.tiff  \n",
            "  inflating: /content/crosslines/crossline_1252.tiff  \n",
            "  inflating: /content/crosslines/crossline_1194.tiff  \n",
            "  inflating: /content/crosslines/crossline_1419.tiff  \n",
            "  inflating: /content/crosslines/crossline_1049.tiff  \n",
            "  inflating: /content/crosslines/crossline_1225.tiff  \n",
            "  inflating: /content/crosslines/crossline_1360.tiff  \n",
            "  inflating: /content/crosslines/crossline_1272.tiff  \n",
            "  inflating: /content/crosslines/crossline_1337.tiff  \n",
            "  inflating: /content/crosslines/crossline_1458.tiff  \n",
            "  inflating: /content/crosslines/crossline_1008.tiff  \n",
            "  inflating: /content/crosslines/crossline_1264.tiff  \n",
            "  inflating: /content/crosslines/crossline_1321.tiff  \n",
            "  inflating: /content/crosslines/crossline_1399.tiff  \n",
            "  inflating: /content/crosslines/crossline_1233.tiff  \n",
            "  inflating: /content/crosslines/crossline_1376.tiff  \n",
            "  inflating: /content/crosslines/crossline_1161.tiff  \n",
            "  inflating: /content/crosslines/crossline_1024.tiff  \n",
            "  inflating: /content/crosslines/crossline_1474.tiff  \n",
            "  inflating: /content/crosslines/crossline_1248.tiff  \n",
            "  inflating: /content/crosslines/crossline_1136.tiff  \n",
            "  inflating: /content/crosslines/crossline_1423.tiff  \n",
            "  inflating: /content/crosslines/crossline_1073.tiff  \n",
            "  inflating: /content/crosslines/crossline_1120.tiff  \n",
            "  inflating: /content/crosslines/crossline_1065.tiff  \n",
            "  inflating: /content/crosslines/crossline_1435.tiff  \n",
            "  inflating: /content/crosslines/crossline_1209.tiff  \n",
            "  inflating: /content/crosslines/crossline_1177.tiff  \n",
            "  inflating: /content/crosslines/crossline_1462.tiff  \n",
            "  inflating: /content/crosslines/crossline_1198.tiff  \n",
            "  inflating: /content/crosslines/crossline_1032.tiff  \n",
            "Archive:  inlines.zip\n",
            "   creating: /content/inlines/\n",
            "  inflating: /content/inlines/inline_1458.tiff  \n",
            "  inflating: /content/inlines/inline_1008.tiff  \n",
            "  inflating: /content/inlines/inline_1321.tiff  \n",
            "  inflating: /content/inlines/inline_1264.tiff  \n",
            "  inflating: /content/inlines/inline_1376.tiff  \n",
            "  inflating: /content/inlines/inline_1399.tiff  \n",
            "  inflating: /content/inlines/inline_1233.tiff  \n",
            "  inflating: /content/inlines/inline_1419.tiff  \n",
            "  inflating: /content/inlines/inline_1049.tiff  \n",
            "  inflating: /content/inlines/inline_1360.tiff  \n",
            "  inflating: /content/inlines/inline_1225.tiff  \n",
            "  inflating: /content/inlines/inline_1337.tiff  \n",
            "  inflating: /content/inlines/inline_1272.tiff  \n",
            "  inflating: /content/inlines/inline_1065.tiff  \n",
            "  inflating: /content/inlines/inline_1435.tiff  \n",
            "  inflating: /content/inlines/inline_1120.tiff  \n",
            "  inflating: /content/inlines/inline_1570.tiff  \n",
            "  inflating: /content/inlines/inline_1209.tiff  \n",
            "  inflating: /content/inlines/inline_1462.tiff  \n",
            "  inflating: /content/inlines/inline_1198.tiff  \n",
            "  inflating: /content/inlines/inline_1032.tiff  \n",
            "  inflating: /content/inlines/inline_1527.tiff  \n",
            "  inflating: /content/inlines/inline_1177.tiff  \n",
            "  inflating: /content/inlines/inline_1024.tiff  \n",
            "  inflating: /content/inlines/inline_1474.tiff  \n",
            "  inflating: /content/inlines/inline_1161.tiff  \n",
            "  inflating: /content/inlines/inline_1531.tiff  \n",
            "  inflating: /content/inlines/inline_1248.tiff  \n",
            "  inflating: /content/inlines/inline_1423.tiff  \n",
            "  inflating: /content/inlines/inline_1073.tiff  \n",
            "  inflating: /content/inlines/inline_1589.tiff  \n",
            "  inflating: /content/inlines/inline_1566.tiff  \n",
            "  inflating: /content/inlines/inline_1136.tiff  \n",
            "  inflating: /content/inlines/inline_1287.tiff  \n",
            "  inflating: /content/inlines/inline_1268.tiff  \n",
            "  inflating: /content/inlines/inline_1141.tiff  \n",
            "  inflating: /content/inlines/inline_1511.tiff  \n",
            "  inflating: /content/inlines/inline_1004.tiff  \n",
            "  inflating: /content/inlines/inline_1454.tiff  \n",
            "  inflating: /content/inlines/inline_1395.tiff  \n",
            "  inflating: /content/inlines/inline_1546.tiff  \n",
            "  inflating: /content/inlines/inline_1116.tiff  \n",
            "  inflating: /content/inlines/inline_1403.tiff  \n",
            "  inflating: /content/inlines/inline_1053.tiff  \n",
            "  inflating: /content/inlines/inline_1229.tiff  \n",
            "  inflating: /content/inlines/inline_1100.tiff  \n",
            "  inflating: /content/inlines/inline_1550.tiff  \n",
            "  inflating: /content/inlines/inline_1045.tiff  \n",
            "  inflating: /content/inlines/inline_1415.tiff  \n",
            "  inflating: /content/inlines/inline_1291.tiff  \n",
            "  inflating: /content/inlines/inline_1507.tiff  \n",
            "  inflating: /content/inlines/inline_1157.tiff  \n",
            "  inflating: /content/inlines/inline_1442.tiff  \n",
            "  inflating: /content/inlines/inline_1012.tiff  \n",
            "  inflating: /content/inlines/inline_1205.tiff  \n",
            "  inflating: /content/inlines/inline_1340.tiff  \n",
            "  inflating: /content/inlines/inline_1439.tiff  \n",
            "  inflating: /content/inlines/inline_1069.tiff  \n",
            "  inflating: /content/inlines/inline_1593.tiff  \n",
            "  inflating: /content/inlines/inline_1086.tiff  \n",
            "  inflating: /content/inlines/inline_1252.tiff  \n",
            "  inflating: /content/inlines/inline_1317.tiff  \n",
            "  inflating: /content/inlines/inline_1194.tiff  \n",
            "  inflating: /content/inlines/inline_1481.tiff  \n",
            "  inflating: /content/inlines/inline_1244.tiff  \n",
            "  inflating: /content/inlines/inline_1301.tiff  \n",
            "  inflating: /content/inlines/inline_1478.tiff  \n",
            "  inflating: /content/inlines/inline_1182.tiff  \n",
            "  inflating: /content/inlines/inline_1028.tiff  \n",
            "  inflating: /content/inlines/inline_1497.tiff  \n",
            "  inflating: /content/inlines/inline_1213.tiff  \n",
            "  inflating: /content/inlines/inline_1356.tiff  \n",
            "  inflating: /content/inlines/inline_1585.tiff  \n",
            "  inflating: /content/inlines/inline_1090.tiff  \n",
            "  inflating: /content/inlines/inline_1584.tiff  \n",
            "  inflating: /content/inlines/inline_1091.tiff  \n",
            "  inflating: /content/inlines/inline_1212.tiff  \n",
            "  inflating: /content/inlines/inline_1357.tiff  \n",
            "  inflating: /content/inlines/inline_1479.tiff  \n",
            "  inflating: /content/inlines/inline_1183.tiff  \n",
            "  inflating: /content/inlines/inline_1029.tiff  \n",
            "  inflating: /content/inlines/inline_1496.tiff  \n",
            "  inflating: /content/inlines/inline_1245.tiff  \n",
            "  inflating: /content/inlines/inline_1300.tiff  \n",
            "  inflating: /content/inlines/inline_1195.tiff  \n",
            "  inflating: /content/inlines/inline_1480.tiff  \n",
            "  inflating: /content/inlines/inline_1253.tiff  \n",
            "  inflating: /content/inlines/inline_1316.tiff  \n",
            "  inflating: /content/inlines/inline_1438.tiff  \n",
            "  inflating: /content/inlines/.DS_Store  \n",
            "  inflating: /content/inlines/inline_1068.tiff  \n",
            "  inflating: /content/inlines/inline_1592.tiff  \n",
            "  inflating: /content/inlines/inline_1087.tiff  \n",
            "  inflating: /content/inlines/inline_1204.tiff  \n",
            "  inflating: /content/inlines/inline_1341.tiff  \n",
            "  inflating: /content/inlines/inline_1506.tiff  \n",
            "  inflating: /content/inlines/inline_1156.tiff  \n",
            "  inflating: /content/inlines/inline_1443.tiff  \n",
            "  inflating: /content/inlines/inline_1013.tiff  \n",
            "  inflating: /content/inlines/inline_1290.tiff  \n",
            "  inflating: /content/inlines/inline_1101.tiff  \n",
            "  inflating: /content/inlines/inline_1551.tiff  \n",
            "  inflating: /content/inlines/inline_1044.tiff  \n",
            "  inflating: /content/inlines/inline_1414.tiff  \n",
            "  inflating: /content/inlines/inline_1228.tiff  \n",
            "  inflating: /content/inlines/inline_1547.tiff  \n",
            "  inflating: /content/inlines/inline_1117.tiff  \n",
            "  inflating: /content/inlines/inline_1402.tiff  \n",
            "  inflating: /content/inlines/inline_1052.tiff  \n",
            "  inflating: /content/inlines/inline_1394.tiff  \n",
            "  inflating: /content/inlines/inline_1140.tiff  \n",
            "  inflating: /content/inlines/inline_1510.tiff  \n",
            "  inflating: /content/inlines/inline_1005.tiff  \n",
            "  inflating: /content/inlines/inline_1455.tiff  \n",
            "  inflating: /content/inlines/inline_1286.tiff  \n",
            "  inflating: /content/inlines/inline_1269.tiff  \n",
            "  inflating: /content/inlines/inline_1422.tiff  \n",
            "  inflating: /content/inlines/inline_1072.tiff  \n",
            "  inflating: /content/inlines/inline_1588.tiff  \n",
            "  inflating: /content/inlines/inline_1567.tiff  \n",
            "  inflating: /content/inlines/inline_1137.tiff  \n",
            "  inflating: /content/inlines/inline_1249.tiff  \n",
            "  inflating: /content/inlines/inline_1025.tiff  \n",
            "  inflating: /content/inlines/inline_1475.tiff  \n",
            "  inflating: /content/inlines/inline_1160.tiff  \n",
            "  inflating: /content/inlines/inline_1530.tiff  \n",
            "  inflating: /content/inlines/inline_1463.tiff  \n",
            "  inflating: /content/inlines/inline_1199.tiff  \n",
            "  inflating: /content/inlines/inline_1033.tiff  \n",
            "  inflating: /content/inlines/inline_1526.tiff  \n",
            "  inflating: /content/inlines/inline_1176.tiff  \n",
            "  inflating: /content/inlines/inline_1208.tiff  \n",
            "  inflating: /content/inlines/inline_1064.tiff  \n",
            "  inflating: /content/inlines/inline_1434.tiff  \n",
            "  inflating: /content/inlines/inline_1121.tiff  \n",
            "  inflating: /content/inlines/inline_1571.tiff  \n",
            "  inflating: /content/inlines/inline_1336.tiff  \n",
            "  inflating: /content/inlines/inline_1273.tiff  \n",
            "  inflating: /content/inlines/inline_1361.tiff  \n",
            "  inflating: /content/inlines/inline_1224.tiff  \n",
            "  inflating: /content/inlines/inline_1418.tiff  \n",
            "  inflating: /content/inlines/inline_1048.tiff  \n",
            "  inflating: /content/inlines/inline_1377.tiff  \n",
            "  inflating: /content/inlines/inline_1398.tiff  \n",
            "  inflating: /content/inlines/inline_1232.tiff  \n",
            "  inflating: /content/inlines/inline_1320.tiff  \n",
            "  inflating: /content/inlines/inline_1265.tiff  \n",
            "  inflating: /content/inlines/inline_1459.tiff  \n",
            "  inflating: /content/inlines/inline_1009.tiff  \n",
            "  inflating: /content/inlines/inline_1281.tiff  \n",
            "  inflating: /content/inlines/inline_1147.tiff  \n",
            "  inflating: /content/inlines/inline_1517.tiff  \n",
            "  inflating: /content/inlines/inline_1002.tiff  \n",
            "  inflating: /content/inlines/inline_1452.tiff  \n",
            "  inflating: /content/inlines/inline_1239.tiff  \n",
            "  inflating: /content/inlines/inline_1393.tiff  \n",
            "  inflating: /content/inlines/inline_1540.tiff  \n",
            "  inflating: /content/inlines/inline_1110.tiff  \n",
            "  inflating: /content/inlines/inline_1405.tiff  \n",
            "  inflating: /content/inlines/inline_1055.tiff  \n",
            "  inflating: /content/inlines/inline_1106.tiff  \n",
            "  inflating: /content/inlines/inline_1556.tiff  \n",
            "  inflating: /content/inlines/inline_1043.tiff  \n",
            "  inflating: /content/inlines/inline_1413.tiff  \n",
            "  inflating: /content/inlines/inline_1297.tiff  \n",
            "  inflating: /content/inlines/inline_1278.tiff  \n",
            "  inflating: /content/inlines/inline_1501.tiff  \n",
            "  inflating: /content/inlines/inline_1151.tiff  \n",
            "  inflating: /content/inlines/inline_1444.tiff  \n",
            "  inflating: /content/inlines/inline_1014.tiff  \n",
            "  inflating: /content/inlines/inline_1203.tiff  \n",
            "  inflating: /content/inlines/inline_1346.tiff  \n",
            "  inflating: /content/inlines/inline_1595.tiff  \n",
            "  inflating: /content/inlines/inline_1080.tiff  \n",
            "  inflating: /content/inlines/inline_1254.tiff  \n",
            "  inflating: /content/inlines/inline_1311.tiff  \n",
            "  inflating: /content/inlines/inline_1038.tiff  \n",
            "  inflating: /content/inlines/inline_1468.tiff  \n",
            "  inflating: /content/inlines/inline_1192.tiff  \n",
            "  inflating: /content/inlines/inline_1487.tiff  \n",
            "  inflating: /content/inlines/inline_1242.tiff  \n",
            "  inflating: /content/inlines/inline_1307.tiff  \n",
            "  inflating: /content/inlines/inline_1184.tiff  \n",
            "  inflating: /content/inlines/inline_1491.tiff  \n",
            "  inflating: /content/inlines/inline_1215.tiff  \n",
            "  inflating: /content/inlines/inline_1350.tiff  \n",
            "  inflating: /content/inlines/inline_1079.tiff  \n",
            "  inflating: /content/inlines/inline_1583.tiff  \n",
            "  inflating: /content/inlines/inline_1429.tiff  \n",
            "  inflating: /content/inlines/inline_1096.tiff  \n",
            "  inflating: /content/inlines/inline_1327.tiff  \n",
            "  inflating: /content/inlines/inline_1262.tiff  \n",
            "  inflating: /content/inlines/inline_1059.tiff  \n",
            "  inflating: /content/inlines/inline_1409.tiff  \n",
            "  inflating: /content/inlines/inline_1370.tiff  \n",
            "  inflating: /content/inlines/inline_1235.tiff  \n",
            "  inflating: /content/inlines/inline_1366.tiff  \n",
            "  inflating: /content/inlines/inline_1223.tiff  \n",
            "  inflating: /content/inlines/inline_1389.tiff  \n",
            "  inflating: /content/inlines/inline_1018.tiff  \n",
            "  inflating: /content/inlines/inline_1448.tiff  \n",
            "  inflating: /content/inlines/inline_1331.tiff  \n",
            "  inflating: /content/inlines/inline_1274.tiff  \n",
            "  inflating: /content/inlines/inline_1063.tiff  \n",
            "  inflating: /content/inlines/inline_1599.tiff  \n",
            "  inflating: /content/inlines/inline_1433.tiff  \n",
            "  inflating: /content/inlines/inline_1126.tiff  \n",
            "  inflating: /content/inlines/inline_1576.tiff  \n",
            "  inflating: /content/inlines/inline_1464.tiff  \n",
            "  inflating: /content/inlines/inline_1034.tiff  \n",
            "  inflating: /content/inlines/inline_1521.tiff  \n",
            "  inflating: /content/inlines/inline_1171.tiff  \n",
            "  inflating: /content/inlines/inline_1258.tiff  \n",
            "  inflating: /content/inlines/inline_1022.tiff  \n",
            "  inflating: /content/inlines/inline_1472.tiff  \n",
            "  inflating: /content/inlines/inline_1188.tiff  \n",
            "  inflating: /content/inlines/inline_1167.tiff  \n",
            "  inflating: /content/inlines/inline_1537.tiff  \n",
            "  inflating: /content/inlines/inline_1425.tiff  \n",
            "  inflating: /content/inlines/inline_1075.tiff  \n",
            "  inflating: /content/inlines/inline_1560.tiff  \n",
            "  inflating: /content/inlines/inline_1130.tiff  \n",
            "  inflating: /content/inlines/inline_1219.tiff  \n",
            "  inflating: /content/inlines/inline_1218.tiff  \n",
            "  inflating: /content/inlines/inline_1424.tiff  \n",
            "  inflating: /content/inlines/inline_1074.tiff  \n",
            "  inflating: /content/inlines/inline_1561.tiff  \n",
            "  inflating: /content/inlines/inline_1131.tiff  \n",
            "  inflating: /content/inlines/inline_1023.tiff  \n",
            "  inflating: /content/inlines/inline_1473.tiff  \n",
            "  inflating: /content/inlines/inline_1189.tiff  \n",
            "  inflating: /content/inlines/inline_1166.tiff  \n",
            "  inflating: /content/inlines/inline_1536.tiff  \n",
            "  inflating: /content/inlines/inline_1259.tiff  \n",
            "  inflating: /content/inlines/inline_1465.tiff  \n",
            "  inflating: /content/inlines/inline_1035.tiff  \n",
            "  inflating: /content/inlines/inline_1520.tiff  \n",
            "  inflating: /content/inlines/inline_1170.tiff  \n",
            "  inflating: /content/inlines/inline_1062.tiff  \n",
            "  inflating: /content/inlines/inline_1598.tiff  \n",
            "  inflating: /content/inlines/inline_1432.tiff  \n",
            "  inflating: /content/inlines/inline_1127.tiff  \n",
            "  inflating: /content/inlines/inline_1577.tiff  \n",
            "  inflating: /content/inlines/inline_1330.tiff  \n",
            "  inflating: /content/inlines/inline_1275.tiff  \n",
            "  inflating: /content/inlines/inline_1019.tiff  \n",
            "  inflating: /content/inlines/inline_1449.tiff  \n",
            "  inflating: /content/inlines/inline_1367.tiff  \n",
            "  inflating: /content/inlines/inline_1222.tiff  \n",
            "  inflating: /content/inlines/inline_1388.tiff  \n",
            "  inflating: /content/inlines/inline_1371.tiff  \n",
            "  inflating: /content/inlines/inline_1234.tiff  \n",
            "  inflating: /content/inlines/inline_1058.tiff  \n",
            "  inflating: /content/inlines/inline_1408.tiff  \n",
            "  inflating: /content/inlines/inline_1326.tiff  \n",
            "  inflating: /content/inlines/inline_1263.tiff  \n",
            "  inflating: /content/inlines/inline_1078.tiff  \n",
            "  inflating: /content/inlines/inline_1582.tiff  \n",
            "  inflating: /content/inlines/inline_1428.tiff  \n",
            "  inflating: /content/inlines/inline_1097.tiff  \n",
            "  inflating: /content/inlines/inline_1214.tiff  \n",
            "  inflating: /content/inlines/inline_1351.tiff  \n",
            "  inflating: /content/inlines/inline_1185.tiff  \n",
            "  inflating: /content/inlines/inline_1490.tiff  \n",
            "  inflating: /content/inlines/inline_1243.tiff  \n",
            "  inflating: /content/inlines/inline_1306.tiff  \n",
            "  inflating: /content/inlines/inline_1039.tiff  \n",
            "  inflating: /content/inlines/inline_1469.tiff  \n",
            "  inflating: /content/inlines/inline_1193.tiff  \n",
            "  inflating: /content/inlines/inline_1486.tiff  \n",
            "  inflating: /content/inlines/inline_1255.tiff  \n",
            "  inflating: /content/inlines/inline_1310.tiff  \n",
            "  inflating: /content/inlines/inline_1594.tiff  \n",
            "  inflating: /content/inlines/inline_1081.tiff  \n",
            "  inflating: /content/inlines/inline_1202.tiff  \n",
            "  inflating: /content/inlines/inline_1347.tiff  \n",
            "  inflating: /content/inlines/inline_1500.tiff  \n",
            "  inflating: /content/inlines/inline_1150.tiff  \n",
            "  inflating: /content/inlines/inline_1445.tiff  \n",
            "  inflating: /content/inlines/inline_1015.tiff  \n",
            "  inflating: /content/inlines/inline_1296.tiff  \n",
            "  inflating: /content/inlines/inline_1279.tiff  \n",
            "  inflating: /content/inlines/inline_1107.tiff  \n",
            "  inflating: /content/inlines/inline_1557.tiff  \n",
            "  inflating: /content/inlines/inline_1042.tiff  \n",
            "  inflating: /content/inlines/inline_1412.tiff  \n",
            "  inflating: /content/inlines/inline_1541.tiff  \n",
            "  inflating: /content/inlines/inline_1111.tiff  \n",
            "  inflating: /content/inlines/inline_1404.tiff  \n",
            "  inflating: /content/inlines/inline_1054.tiff  \n",
            "  inflating: /content/inlines/inline_1238.tiff  \n",
            "  inflating: /content/inlines/inline_1392.tiff  \n",
            "  inflating: /content/inlines/inline_1146.tiff  \n",
            "  inflating: /content/inlines/inline_1516.tiff  \n",
            "  inflating: /content/inlines/inline_1003.tiff  \n",
            "  inflating: /content/inlines/inline_1453.tiff  \n",
            "  inflating: /content/inlines/inline_1280.tiff  \n",
            "  inflating: /content/inlines/inline_1094.tiff  \n",
            "  inflating: /content/inlines/inline_1581.tiff  \n",
            "  inflating: /content/inlines/inline_1352.tiff  \n",
            "  inflating: /content/inlines/inline_1217.tiff  \n",
            "  inflating: /content/inlines/inline_1539.tiff  \n",
            "  inflating: /content/inlines/inline_1169.tiff  \n",
            "  inflating: /content/inlines/inline_1493.tiff  \n",
            "  inflating: /content/inlines/inline_1186.tiff  \n",
            "  inflating: /content/inlines/inline_1305.tiff  \n",
            "  inflating: /content/inlines/inline_1240.tiff  \n",
            "  inflating: /content/inlines/inline_1485.tiff  \n",
            "  inflating: /content/inlines/inline_1190.tiff  \n",
            "  inflating: /content/inlines/inline_1313.tiff  \n",
            "  inflating: /content/inlines/inline_1256.tiff  \n",
            "  inflating: /content/inlines/inline_1578.tiff  \n",
            "  inflating: /content/inlines/inline_1082.tiff  \n",
            "  inflating: /content/inlines/inline_1128.tiff  \n",
            "  inflating: /content/inlines/inline_1597.tiff  \n",
            "  inflating: /content/inlines/inline_1344.tiff  \n",
            "  inflating: /content/inlines/inline_1201.tiff  \n",
            "  inflating: /content/inlines/inline_1446.tiff  \n",
            "  inflating: /content/inlines/inline_1016.tiff  \n",
            "  inflating: /content/inlines/inline_1503.tiff  \n",
            "  inflating: /content/inlines/inline_1153.tiff  \n",
            "  inflating: /content/inlines/inline_1295.tiff  \n",
            "  inflating: /content/inlines/inline_1041.tiff  \n",
            "  inflating: /content/inlines/inline_1411.tiff  \n",
            "  inflating: /content/inlines/inline_1104.tiff  \n",
            "  inflating: /content/inlines/inline_1554.tiff  \n",
            "  inflating: /content/inlines/inline_1387.tiff  \n",
            "  inflating: /content/inlines/inline_1368.tiff  \n",
            "  inflating: /content/inlines/inline_1407.tiff  \n",
            "  inflating: /content/inlines/inline_1057.tiff  \n",
            "  inflating: /content/inlines/inline_1542.tiff  \n",
            "  inflating: /content/inlines/inline_1112.tiff  \n",
            "  inflating: /content/inlines/inline_1391.tiff  \n",
            "  inflating: /content/inlines/inline_1000.tiff  \n",
            "  inflating: /content/inlines/inline_1450.tiff  \n",
            "  inflating: /content/inlines/inline_1145.tiff  \n",
            "  inflating: /content/inlines/inline_1515.tiff  \n",
            "  inflating: /content/inlines/inline_1283.tiff  \n",
            "  inflating: /content/inlines/inline_1329.tiff  \n",
            "  inflating: /content/inlines/inline_1562.tiff  \n",
            "  inflating: /content/inlines/inline_1098.tiff  \n",
            "  inflating: /content/inlines/inline_1132.tiff  \n",
            "  inflating: /content/inlines/inline_1427.tiff  \n",
            "  inflating: /content/inlines/inline_1077.tiff  \n",
            "  inflating: /content/inlines/inline_1309.tiff  \n",
            "  inflating: /content/inlines/inline_1165.tiff  \n",
            "  inflating: /content/inlines/inline_1535.tiff  \n",
            "  inflating: /content/inlines/inline_1020.tiff  \n",
            "  inflating: /content/inlines/inline_1470.tiff  \n",
            "  inflating: /content/inlines/inline_1523.tiff  \n",
            "  inflating: /content/inlines/inline_1173.tiff  \n",
            "  inflating: /content/inlines/inline_1489.tiff  \n",
            "  inflating: /content/inlines/inline_1466.tiff  \n",
            "  inflating: /content/inlines/inline_1036.tiff  \n",
            "  inflating: /content/inlines/inline_1348.tiff  \n",
            "  inflating: /content/inlines/inline_1124.tiff  \n",
            "  inflating: /content/inlines/inline_1574.tiff  \n",
            "  inflating: /content/inlines/inline_1061.tiff  \n",
            "  inflating: /content/inlines/inline_1431.tiff  \n",
            "  inflating: /content/inlines/inline_1276.tiff  \n",
            "  inflating: /content/inlines/inline_1299.tiff  \n",
            "  inflating: /content/inlines/inline_1333.tiff  \n",
            "  inflating: /content/inlines/inline_1221.tiff  \n",
            "  inflating: /content/inlines/inline_1364.tiff  \n",
            "  inflating: /content/inlines/inline_1558.tiff  \n",
            "  inflating: /content/inlines/inline_1108.tiff  \n",
            "  inflating: /content/inlines/inline_1237.tiff  \n",
            "  inflating: /content/inlines/inline_1372.tiff  \n",
            "  inflating: /content/inlines/inline_1260.tiff  \n",
            "  inflating: /content/inlines/inline_1325.tiff  \n",
            "  inflating: /content/inlines/inline_1519.tiff  \n",
            "  inflating: /content/inlines/inline_1149.tiff  \n",
            "  inflating: /content/inlines/inline_1518.tiff  \n",
            "  inflating: /content/inlines/inline_1148.tiff  \n",
            "  inflating: /content/inlines/inline_1261.tiff  \n",
            "  inflating: /content/inlines/inline_1324.tiff  \n",
            "  inflating: /content/inlines/inline_1236.tiff  \n",
            "  inflating: /content/inlines/inline_1373.tiff  \n",
            "  inflating: /content/inlines/inline_1559.tiff  \n",
            "  inflating: /content/inlines/inline_1109.tiff  \n",
            "  inflating: /content/inlines/inline_1220.tiff  \n",
            "  inflating: /content/inlines/inline_1365.tiff  \n",
            "  inflating: /content/inlines/inline_1277.tiff  \n",
            "  inflating: /content/inlines/inline_1298.tiff  \n",
            "  inflating: /content/inlines/inline_1332.tiff  \n",
            "  inflating: /content/inlines/inline_1125.tiff  \n",
            "  inflating: /content/inlines/inline_1575.tiff  \n",
            "  inflating: /content/inlines/inline_1060.tiff  \n",
            "  inflating: /content/inlines/inline_1430.tiff  \n",
            "  inflating: /content/inlines/inline_1349.tiff  \n",
            "  inflating: /content/inlines/inline_1522.tiff  \n",
            "  inflating: /content/inlines/inline_1172.tiff  \n",
            "  inflating: /content/inlines/inline_1488.tiff  \n",
            "  inflating: /content/inlines/inline_1467.tiff  \n",
            "  inflating: /content/inlines/inline_1037.tiff  \n",
            "  inflating: /content/inlines/inline_1164.tiff  \n",
            "  inflating: /content/inlines/inline_1534.tiff  \n",
            "  inflating: /content/inlines/inline_1021.tiff  \n",
            "  inflating: /content/inlines/inline_1471.tiff  \n",
            "  inflating: /content/inlines/inline_1308.tiff  \n",
            "  inflating: /content/inlines/inline_1563.tiff  \n",
            "  inflating: /content/inlines/inline_1099.tiff  \n",
            "  inflating: /content/inlines/inline_1133.tiff  \n",
            "  inflating: /content/inlines/inline_1426.tiff  \n",
            "  inflating: /content/inlines/inline_1076.tiff  \n",
            "  inflating: /content/inlines/inline_1282.tiff  \n",
            "  inflating: /content/inlines/inline_1328.tiff  \n",
            "  inflating: /content/inlines/inline_1001.tiff  \n",
            "  inflating: /content/inlines/inline_1451.tiff  \n",
            "  inflating: /content/inlines/inline_1144.tiff  \n",
            "  inflating: /content/inlines/inline_1514.tiff  \n",
            "  inflating: /content/inlines/inline_1390.tiff  \n",
            "  inflating: /content/inlines/inline_1406.tiff  \n",
            "  inflating: /content/inlines/inline_1056.tiff  \n",
            "  inflating: /content/inlines/inline_1543.tiff  \n",
            "  inflating: /content/inlines/inline_1113.tiff  \n",
            "  inflating: /content/inlines/inline_1369.tiff  \n",
            "  inflating: /content/inlines/inline_1040.tiff  \n",
            "  inflating: /content/inlines/inline_1410.tiff  \n",
            "  inflating: /content/inlines/inline_1105.tiff  \n",
            "  inflating: /content/inlines/inline_1555.tiff  \n",
            "  inflating: /content/inlines/inline_1294.tiff  \n",
            "  inflating: /content/inlines/inline_1447.tiff  \n",
            "  inflating: /content/inlines/inline_1017.tiff  \n",
            "  inflating: /content/inlines/inline_1502.tiff  \n",
            "  inflating: /content/inlines/inline_1152.tiff  \n",
            "  inflating: /content/inlines/inline_1345.tiff  \n",
            "  inflating: /content/inlines/inline_1200.tiff  \n",
            "  inflating: /content/inlines/inline_1579.tiff  \n",
            "  inflating: /content/inlines/inline_1083.tiff  \n",
            "  inflating: /content/inlines/inline_1129.tiff  \n",
            "  inflating: /content/inlines/inline_1596.tiff  \n",
            "  inflating: /content/inlines/inline_1312.tiff  \n",
            "  inflating: /content/inlines/inline_1257.tiff  \n",
            "  inflating: /content/inlines/inline_1484.tiff  \n",
            "  inflating: /content/inlines/inline_1191.tiff  \n",
            "  inflating: /content/inlines/inline_1304.tiff  \n",
            "  inflating: /content/inlines/inline_1241.tiff  \n",
            "  inflating: /content/inlines/inline_1538.tiff  \n",
            "  inflating: /content/inlines/inline_1168.tiff  \n",
            "  inflating: /content/inlines/inline_1492.tiff  \n",
            "  inflating: /content/inlines/inline_1187.tiff  \n",
            "  inflating: /content/inlines/inline_1353.tiff  \n",
            "  inflating: /content/inlines/inline_1216.tiff  \n",
            "  inflating: /content/inlines/inline_1095.tiff  \n",
            "  inflating: /content/inlines/inline_1580.tiff  \n",
            "  inflating: /content/inlines/inline_1358.tiff  \n",
            "  inflating: /content/inlines/inline_1564.tiff  \n",
            "  inflating: /content/inlines/inline_1134.tiff  \n",
            "  inflating: /content/inlines/inline_1421.tiff  \n",
            "  inflating: /content/inlines/inline_1071.tiff  \n",
            "  inflating: /content/inlines/inline_1163.tiff  \n",
            "  inflating: /content/inlines/inline_1499.tiff  \n",
            "  inflating: /content/inlines/inline_1533.tiff  \n",
            "  inflating: /content/inlines/inline_1026.tiff  \n",
            "  inflating: /content/inlines/inline_1476.tiff  \n",
            "  inflating: /content/inlines/inline_1319.tiff  \n",
            "  inflating: /content/inlines/inline_1525.tiff  \n",
            "  inflating: /content/inlines/inline_1175.tiff  \n",
            "  inflating: /content/inlines/inline_1460.tiff  \n",
            "  inflating: /content/inlines/inline_1030.tiff  \n",
            "  inflating: /content/inlines/inline_1122.tiff  \n",
            "  inflating: /content/inlines/inline_1572.tiff  \n",
            "  inflating: /content/inlines/inline_1088.tiff  \n",
            "  inflating: /content/inlines/inline_1067.tiff  \n",
            "  inflating: /content/inlines/inline_1437.tiff  \n",
            "  inflating: /content/inlines/inline_1270.tiff  \n",
            "  inflating: /content/inlines/inline_1335.tiff  \n",
            "  inflating: /content/inlines/inline_1159.tiff  \n",
            "  inflating: /content/inlines/inline_1509.tiff  \n",
            "  inflating: /content/inlines/inline_1227.tiff  \n",
            "  inflating: /content/inlines/inline_1362.tiff  \n",
            "  inflating: /content/inlines/inline_1231.tiff  \n",
            "  inflating: /content/inlines/inline_1374.tiff  \n",
            "  inflating: /content/inlines/inline_1118.tiff  \n",
            "  inflating: /content/inlines/inline_1548.tiff  \n",
            "  inflating: /content/inlines/inline_1266.tiff  \n",
            "  inflating: /content/inlines/inline_1323.tiff  \n",
            "  inflating: /content/inlines/inline_1289.tiff  \n",
            "  inflating: /content/inlines/inline_1138.tiff  \n",
            "  inflating: /content/inlines/inline_1568.tiff  \n",
            "  inflating: /content/inlines/inline_1092.tiff  \n",
            "  inflating: /content/inlines/inline_1587.tiff  \n",
            "  inflating: /content/inlines/inline_1354.tiff  \n",
            "  inflating: /content/inlines/inline_1211.tiff  \n",
            "  inflating: /content/inlines/inline_1495.tiff  \n",
            "  inflating: /content/inlines/inline_1180.tiff  \n",
            "  inflating: /content/inlines/inline_1303.tiff  \n",
            "  inflating: /content/inlines/inline_1246.tiff  \n",
            "  inflating: /content/inlines/inline_1179.tiff  \n",
            "  inflating: /content/inlines/inline_1483.tiff  \n",
            "  inflating: /content/inlines/inline_1529.tiff  \n",
            "  inflating: /content/inlines/inline_1196.tiff  \n",
            "  inflating: /content/inlines/inline_1315.tiff  \n",
            "  inflating: /content/inlines/inline_1600.tiff  \n",
            "  inflating: /content/inlines/inline_1250.tiff  \n",
            "  inflating: /content/inlines/inline_1084.tiff  \n",
            "  inflating: /content/inlines/inline_1591.tiff  \n",
            "  inflating: /content/inlines/inline_1342.tiff  \n",
            "  inflating: /content/inlines/inline_1207.tiff  \n",
            "  inflating: /content/inlines/inline_1440.tiff  \n",
            "  inflating: /content/inlines/inline_1010.tiff  \n",
            "  inflating: /content/inlines/inline_1505.tiff  \n",
            "  inflating: /content/inlines/inline_1155.tiff  \n",
            "  inflating: /content/inlines/inline_1339.tiff  \n",
            "  inflating: /content/inlines/inline_1293.tiff  \n",
            "  inflating: /content/inlines/inline_1047.tiff  \n",
            "  inflating: /content/inlines/inline_1417.tiff  \n",
            "  inflating: /content/inlines/inline_1102.tiff  \n",
            "  inflating: /content/inlines/inline_1552.tiff  \n",
            "  inflating: /content/inlines/inline_1381.tiff  \n",
            "  inflating: /content/inlines/inline_1401.tiff  \n",
            "  inflating: /content/inlines/inline_1051.tiff  \n",
            "  inflating: /content/inlines/inline_1544.tiff  \n",
            "  inflating: /content/inlines/inline_1114.tiff  \n",
            "  inflating: /content/inlines/inline_1397.tiff  \n",
            "  inflating: /content/inlines/inline_1378.tiff  \n",
            "  inflating: /content/inlines/inline_1006.tiff  \n",
            "  inflating: /content/inlines/inline_1456.tiff  \n",
            "  inflating: /content/inlines/inline_1143.tiff  \n",
            "  inflating: /content/inlines/inline_1513.tiff  \n",
            "  inflating: /content/inlines/inline_1285.tiff  \n",
            "  inflating: /content/inlines/inline_1284.tiff  \n",
            "  inflating: /content/inlines/inline_1007.tiff  \n",
            "  inflating: /content/inlines/inline_1457.tiff  \n",
            "  inflating: /content/inlines/inline_1142.tiff  \n",
            "  inflating: /content/inlines/inline_1512.tiff  \n",
            "  inflating: /content/inlines/inline_1396.tiff  \n",
            "  inflating: /content/inlines/inline_1379.tiff  \n",
            "  inflating: /content/inlines/inline_1400.tiff  \n",
            "  inflating: /content/inlines/inline_1050.tiff  \n",
            "  inflating: /content/inlines/inline_1545.tiff  \n",
            "  inflating: /content/inlines/inline_1115.tiff  \n",
            "  inflating: /content/inlines/inline_1380.tiff  \n",
            "  inflating: /content/inlines/inline_1046.tiff  \n",
            "  inflating: /content/inlines/inline_1416.tiff  \n",
            "  inflating: /content/inlines/inline_1103.tiff  \n",
            "  inflating: /content/inlines/inline_1553.tiff  \n",
            "  inflating: /content/inlines/inline_1338.tiff  \n",
            "  inflating: /content/inlines/inline_1292.tiff  \n",
            "  inflating: /content/inlines/inline_1441.tiff  \n",
            "  inflating: /content/inlines/inline_1011.tiff  \n",
            "  inflating: /content/inlines/inline_1504.tiff  \n",
            "  inflating: /content/inlines/inline_1154.tiff  \n",
            "  inflating: /content/inlines/inline_1343.tiff  \n",
            "  inflating: /content/inlines/inline_1206.tiff  \n",
            "  inflating: /content/inlines/inline_1085.tiff  \n",
            "  inflating: /content/inlines/inline_1590.tiff  \n",
            "  inflating: /content/inlines/inline_1314.tiff  \n",
            "  inflating: /content/inlines/inline_1251.tiff  \n",
            "  inflating: /content/inlines/inline_1178.tiff  \n",
            "  inflating: /content/inlines/inline_1482.tiff  \n",
            "  inflating: /content/inlines/inline_1528.tiff  \n",
            "  inflating: /content/inlines/inline_1197.tiff  \n",
            "  inflating: /content/inlines/inline_1302.tiff  \n",
            "  inflating: /content/inlines/inline_1247.tiff  \n",
            "  inflating: /content/inlines/inline_1494.tiff  \n",
            "  inflating: /content/inlines/inline_1181.tiff  \n",
            "  inflating: /content/inlines/inline_1355.tiff  \n",
            "  inflating: /content/inlines/inline_1210.tiff  \n",
            "  inflating: /content/inlines/inline_1139.tiff  \n",
            "  inflating: /content/inlines/inline_1569.tiff  \n",
            "  inflating: /content/inlines/inline_1093.tiff  \n",
            "  inflating: /content/inlines/inline_1586.tiff  \n",
            "  inflating: /content/inlines/inline_1267.tiff  \n",
            "  inflating: /content/inlines/inline_1322.tiff  \n",
            "  inflating: /content/inlines/inline_1288.tiff  \n",
            "  inflating: /content/inlines/inline_1119.tiff  \n",
            "  inflating: /content/inlines/inline_1549.tiff  \n",
            "  inflating: /content/inlines/inline_1230.tiff  \n",
            "  inflating: /content/inlines/inline_1375.tiff  \n",
            "  inflating: /content/inlines/inline_1226.tiff  \n",
            "  inflating: /content/inlines/inline_1363.tiff  \n",
            "  inflating: /content/inlines/inline_1158.tiff  \n",
            "  inflating: /content/inlines/inline_1508.tiff  \n",
            "  inflating: /content/inlines/inline_1271.tiff  \n",
            "  inflating: /content/inlines/inline_1334.tiff  \n",
            "  inflating: /content/inlines/inline_1123.tiff  \n",
            "  inflating: /content/inlines/inline_1573.tiff  \n",
            "  inflating: /content/inlines/inline_1089.tiff  \n",
            "  inflating: /content/inlines/inline_1066.tiff  \n",
            "  inflating: /content/inlines/inline_1436.tiff  \n",
            "  inflating: /content/inlines/inline_1524.tiff  \n",
            "  inflating: /content/inlines/inline_1174.tiff  \n",
            "  inflating: /content/inlines/inline_1461.tiff  \n",
            "  inflating: /content/inlines/inline_1031.tiff  \n",
            "  inflating: /content/inlines/inline_1318.tiff  \n",
            "  inflating: /content/inlines/inline_1162.tiff  \n",
            "  inflating: /content/inlines/inline_1498.tiff  \n",
            "  inflating: /content/inlines/inline_1532.tiff  \n",
            "  inflating: /content/inlines/inline_1027.tiff  \n",
            "  inflating: /content/inlines/inline_1477.tiff  \n",
            "  inflating: /content/inlines/inline_1565.tiff  \n",
            "  inflating: /content/inlines/inline_1135.tiff  \n",
            "  inflating: /content/inlines/inline_1420.tiff  \n",
            "  inflating: /content/inlines/inline_1070.tiff  \n",
            "  inflating: /content/inlines/inline_1359.tiff  \n",
            "Archive:  masks.zip\n",
            "   creating: /content/masks/\n",
            "  inflating: /content/masks/inline_1393_mask.png  \n",
            "   creating: /content/__MACOSX/\n",
            "   creating: /content/__MACOSX/masks/\n",
            "  inflating: /content/__MACOSX/masks/._inline_1393_mask.png  \n",
            "  inflating: /content/masks/inline_1392_mask.png  \n",
            "  inflating: /content/__MACOSX/masks/._inline_1392_mask.png  \n",
            "  inflating: /content/masks/crossline_1340_mask.png  \n",
            "  inflating: /content/__MACOSX/masks/._crossline_1340_mask.png  \n",
            "  inflating: /content/masks/crossline_1126_mask.png  \n",
            "  inflating: /content/__MACOSX/masks/._crossline_1126_mask.png  \n",
            "  inflating: /content/masks/crossline_1127_mask.png  \n",
            "  inflating: /content/__MACOSX/masks/._crossline_1127_mask.png  \n",
            "  inflating: /content/masks/crossline_1341_mask.png  \n",
            "  inflating: /content/__MACOSX/masks/._crossline_1341_mask.png  \n",
            "  inflating: /content/masks/crossline_1472_mask.png  \n",
            "  inflating: /content/__MACOSX/masks/._crossline_1472_mask.png  \n",
            "  inflating: /content/masks/inline_1209_mask.png  \n",
            "  inflating: /content/__MACOSX/masks/._inline_1209_mask.png  \n",
            "  inflating: /content/masks/inline_1208_mask.png  \n",
            "  inflating: /content/__MACOSX/masks/._inline_1208_mask.png  \n",
            "  inflating: /content/masks/crossline_1473_mask.png  \n",
            "  inflating: /content/__MACOSX/masks/._crossline_1473_mask.png  \n",
            "  inflating: /content/masks/crossline_1248_mask.png  \n",
            "  inflating: /content/__MACOSX/masks/._crossline_1248_mask.png  \n",
            "  inflating: /content/masks/inline_1433_mask.png  \n",
            "  inflating: /content/__MACOSX/masks/._inline_1433_mask.png  \n",
            "  inflating: /content/masks/inline_1432_mask.png  \n",
            "  inflating: /content/__MACOSX/masks/._inline_1432_mask.png  \n",
            "  inflating: /content/masks/crossline_1249_mask.png  \n",
            "  inflating: /content/__MACOSX/masks/._crossline_1249_mask.png  \n",
            "  inflating: /content/masks/inline_1167_mask.png  \n",
            "  inflating: /content/__MACOSX/masks/._inline_1167_mask.png  \n",
            "  inflating: /content/masks/inline_1301_mask.png  \n",
            "  inflating: /content/__MACOSX/masks/._inline_1301_mask.png  \n",
            "  inflating: /content/masks/inline_1300_mask.png  \n",
            "  inflating: /content/__MACOSX/masks/._inline_1300_mask.png  \n",
            "  inflating: /content/masks/inline_1166_mask.png  \n",
            "  inflating: /content/__MACOSX/masks/._inline_1166_mask.png  \n",
            "  inflating: /content/masks/crossline_1293_mask.png  \n",
            "  inflating: /content/__MACOSX/masks/._crossline_1293_mask.png  \n",
            "  inflating: /content/masks/crossline_1292_mask.png  \n",
            "  inflating: /content/__MACOSX/masks/._crossline_1292_mask.png  \n",
            "  inflating: /content/masks/inline_1240_mask.png  \n",
            "  inflating: /content/__MACOSX/masks/._inline_1240_mask.png  \n",
            "  inflating: /content/masks/inline_1026_mask.png  \n",
            "  inflating: /content/__MACOSX/masks/._inline_1026_mask.png  \n",
            "  inflating: /content/masks/inline_1027_mask.png  \n",
            "  inflating: /content/__MACOSX/masks/._inline_1027_mask.png  \n",
            "  inflating: /content/masks/inline_1241_mask.png  \n",
            "  inflating: /content/__MACOSX/masks/._inline_1241_mask.png  \n",
            "  inflating: /content/masks/inline_1572_mask.png  \n",
            "  inflating: /content/__MACOSX/masks/._inline_1572_mask.png  \n",
            "  inflating: /content/masks/crossline_1309_mask.png  \n",
            "  inflating: /content/__MACOSX/masks/._crossline_1309_mask.png  \n",
            "  inflating: /content/masks/crossline_1308_mask.png  \n",
            "  inflating: /content/__MACOSX/masks/._crossline_1308_mask.png  \n",
            "  inflating: /content/masks/inline_1573_mask.png  \n",
            "  inflating: /content/__MACOSX/masks/._inline_1573_mask.png  \n",
            "  inflating: /content/masks/inline_1348_mask.png  \n",
            "  inflating: /content/__MACOSX/masks/._inline_1348_mask.png  \n",
            "  inflating: /content/masks/inline_1349_mask.png  \n",
            "  inflating: /content/__MACOSX/masks/._inline_1349_mask.png  \n",
            "  inflating: /content/masks/crossline_1067_mask.png  \n",
            "  inflating: /content/__MACOSX/masks/._crossline_1067_mask.png  \n",
            "  inflating: /content/masks/crossline_1201_mask.png  \n",
            "  inflating: /content/__MACOSX/masks/._crossline_1201_mask.png  \n",
            "  inflating: /content/masks/crossline_1200_mask.png  \n",
            "  inflating: /content/__MACOSX/masks/._crossline_1200_mask.png  \n",
            "  inflating: /content/masks/crossline_1066_mask.png  \n",
            "  inflating: /content/__MACOSX/masks/._crossline_1066_mask.png  \n",
            "  inflating: /content/masks/crossline_1082_mask.png  \n",
            "  inflating: /content/__MACOSX/masks/._crossline_1082_mask.png  \n",
            "  inflating: /content/masks/crossline_1083_mask.png  \n",
            "  inflating: /content/__MACOSX/masks/._crossline_1083_mask.png  \n",
            "  inflating: /content/masks/inline_1051_mask.png  \n",
            "  inflating: /content/__MACOSX/masks/._inline_1051_mask.png  \n",
            "  inflating: /content/masks/inline_1237_mask.png  \n",
            "  inflating: /content/__MACOSX/masks/._inline_1237_mask.png  \n",
            "  inflating: /content/masks/inline_1236_mask.png  \n",
            "  inflating: /content/__MACOSX/masks/._inline_1236_mask.png  \n",
            "  inflating: /content/masks/inline_1050_mask.png  \n",
            "  inflating: /content/__MACOSX/masks/._inline_1050_mask.png  \n",
            "  inflating: /content/masks/inline_1505_mask.png  \n",
            "  inflating: /content/__MACOSX/masks/._inline_1505_mask.png  \n",
            "  inflating: /content/masks/crossline_1118_mask.png  \n",
            "  inflating: /content/__MACOSX/masks/._crossline_1118_mask.png  \n",
            "  inflating: /content/masks/inline_1504_mask.png  \n",
            "  inflating: /content/__MACOSX/masks/._inline_1504_mask.png  \n",
            "  inflating: /content/masks/crossline_1119_mask.png  \n",
            "  inflating: /content/__MACOSX/masks/._crossline_1119_mask.png  \n",
            "  inflating: /content/masks/inline_1597_mask.png  \n",
            "  inflating: /content/__MACOSX/masks/._inline_1597_mask.png  \n",
            "  inflating: /content/masks/inline_1596_mask.png  \n",
            "  inflating: /content/__MACOSX/masks/._inline_1596_mask.png  \n",
            "  inflating: /content/masks/inline_1159_mask.png  \n",
            "  inflating: /content/__MACOSX/masks/._inline_1159_mask.png  \n",
            "  inflating: /content/masks/inline_1158_mask.png  \n",
            "  inflating: /content/__MACOSX/masks/._inline_1158_mask.png  \n",
            "  inflating: /content/masks/crossline_1276_mask.png  \n",
            "  inflating: /content/__MACOSX/masks/._crossline_1276_mask.png  \n",
            "  inflating: /content/masks/crossline_1010_mask.png  \n",
            "  inflating: /content/__MACOSX/masks/._crossline_1010_mask.png  \n",
            "  inflating: /content/masks/crossline_1011_mask.png  \n",
            "  inflating: /content/__MACOSX/masks/._crossline_1011_mask.png  \n",
            "  inflating: /content/masks/crossline_1277_mask.png  \n",
            "  inflating: /content/__MACOSX/masks/._crossline_1277_mask.png  \n",
            "  inflating: /content/masks/inline_1182_mask.png  \n",
            "  inflating: /content/__MACOSX/masks/._inline_1182_mask.png  \n",
            "  inflating: /content/masks/inline_1183_mask.png  \n",
            "  inflating: /content/__MACOSX/masks/._inline_1183_mask.png  \n",
            "  inflating: /content/masks/crossline_1151_mask.png  \n",
            "  inflating: /content/__MACOSX/masks/._crossline_1151_mask.png  \n",
            "  inflating: /content/masks/crossline_1337_mask.png  \n",
            "  inflating: /content/__MACOSX/masks/._crossline_1337_mask.png  \n",
            "  inflating: /content/masks/crossline_1336_mask.png  \n",
            "  inflating: /content/__MACOSX/masks/._crossline_1336_mask.png  \n",
            "  inflating: /content/masks/crossline_1150_mask.png  \n",
            "  inflating: /content/__MACOSX/masks/._crossline_1150_mask.png  \n",
            "  inflating: /content/masks/inline_1018_mask.png  \n",
            "  inflating: /content/__MACOSX/masks/._inline_1018_mask.png  \n",
            "  inflating: /content/masks/crossline_1405_mask.png  \n",
            "  inflating: /content/__MACOSX/masks/._crossline_1405_mask.png  \n",
            "  inflating: /content/masks/inline_1019_mask.png  \n",
            "  inflating: /content/__MACOSX/masks/._inline_1019_mask.png  \n",
            "  inflating: /content/masks/crossline_1404_mask.png  \n",
            "  inflating: /content/__MACOSX/masks/._crossline_1404_mask.png  \n",
            "  inflating: /content/masks/crossline_1059_mask.png  \n",
            "  inflating: /content/__MACOSX/masks/._crossline_1059_mask.png  \n",
            "  inflating: /content/masks/inline_1444_mask.png  \n",
            "  inflating: /content/__MACOSX/masks/._inline_1444_mask.png  \n",
            "  inflating: /content/masks/crossline_1058_mask.png  \n",
            "  inflating: /content/__MACOSX/masks/._crossline_1058_mask.png  \n",
            "  inflating: /content/masks/inline_1445_mask.png  \n",
            "  inflating: /content/__MACOSX/masks/._inline_1445_mask.png  \n",
            "  inflating: /content/masks/inline_1376_mask.png  \n",
            "  inflating: /content/__MACOSX/masks/._inline_1376_mask.png  \n",
            "  inflating: /content/masks/inline_1110_mask.png  \n",
            "  inflating: /content/__MACOSX/masks/._inline_1110_mask.png  \n",
            "  inflating: /content/masks/inline_1111_mask.png  \n",
            "  inflating: /content/__MACOSX/masks/._inline_1111_mask.png  \n",
            "  inflating: /content/masks/inline_1377_mask.png  \n",
            "  inflating: /content/__MACOSX/masks/._inline_1377_mask.png  \n",
            "  inflating: /content/masks/inline_1470_mask.png  \n",
            "  inflating: /content/__MACOSX/masks/._inline_1470_mask.png  \n",
            "  inflating: /content/masks/inline_1471_mask.png  \n",
            "  inflating: /content/__MACOSX/masks/._inline_1471_mask.png  \n",
            "  inflating: /content/masks/crossline_1391_mask.png  \n",
            "  inflating: /content/__MACOSX/masks/._crossline_1391_mask.png  \n",
            "  inflating: /content/masks/crossline_1390_mask.png  \n",
            "  inflating: /content/__MACOSX/masks/._crossline_1390_mask.png  \n",
            "  inflating: /content/masks/inline_1342_mask.png  \n",
            "  inflating: /content/__MACOSX/masks/._inline_1342_mask.png  \n",
            "  inflating: /content/masks/inline_1124_mask.png  \n",
            "  inflating: /content/__MACOSX/masks/._inline_1124_mask.png  \n",
            "  inflating: /content/masks/inline_1125_mask.png  \n",
            "  inflating: /content/__MACOSX/masks/._inline_1125_mask.png  \n",
            "  inflating: /content/masks/inline_1343_mask.png  \n",
            "  inflating: /content/__MACOSX/masks/._inline_1343_mask.png  \n",
            "  inflating: /content/masks/crossline_1165_mask.png  \n",
            "  inflating: /content/__MACOSX/masks/._crossline_1165_mask.png  \n",
            "  inflating: /content/masks/inline_1578_mask.png  \n",
            "  inflating: /content/__MACOSX/masks/._inline_1578_mask.png  \n",
            "  inflating: /content/masks/crossline_1303_mask.png  \n",
            "  inflating: /content/__MACOSX/masks/._crossline_1303_mask.png  \n",
            "  inflating: /content/masks/crossline_1302_mask.png  \n",
            "  inflating: /content/__MACOSX/masks/._crossline_1302_mask.png  \n",
            "  inflating: /content/masks/crossline_1164_mask.png  \n",
            "  inflating: /content/__MACOSX/masks/._crossline_1164_mask.png  \n",
            "  inflating: /content/masks/inline_1579_mask.png  \n",
            "  inflating: /content/__MACOSX/masks/._inline_1579_mask.png  \n",
            "  inflating: /content/masks/crossline_1299_mask.png  \n",
            "  inflating: /content/__MACOSX/masks/._crossline_1299_mask.png  \n",
            "  inflating: /content/masks/crossline_1298_mask.png  \n",
            "  inflating: /content/__MACOSX/masks/._crossline_1298_mask.png  \n",
            "  inflating: /content/masks/crossline_1431_mask.png  \n",
            "  inflating: /content/__MACOSX/masks/._crossline_1431_mask.png  \n",
            "  inflating: /content/masks/crossline_1430_mask.png  \n",
            "  inflating: /content/__MACOSX/masks/._crossline_1430_mask.png  \n",
            "  inflating: /content/masks/inline_1291_mask.png  \n",
            "  inflating: /content/__MACOSX/masks/._inline_1291_mask.png  \n",
            "  inflating: /content/masks/inline_1290_mask.png  \n",
            "  inflating: /content/__MACOSX/masks/._inline_1290_mask.png  \n",
            "  inflating: /content/masks/crossline_1242_mask.png  \n",
            "  inflating: /content/__MACOSX/masks/._crossline_1242_mask.png  \n",
            "  inflating: /content/masks/inline_1439_mask.png  \n",
            "  inflating: /content/__MACOSX/masks/._inline_1439_mask.png  \n",
            "  inflating: /content/masks/crossline_1024_mask.png  \n",
            "  inflating: /content/__MACOSX/masks/._crossline_1024_mask.png  \n",
            "  inflating: /content/masks/inline_1438_mask.png  \n",
            "  inflating: /content/__MACOSX/masks/._inline_1438_mask.png  \n",
            "  inflating: /content/masks/crossline_1025_mask.png  \n",
            "  inflating: /content/__MACOSX/masks/._crossline_1025_mask.png  \n",
            "  inflating: /content/masks/crossline_1243_mask.png  \n",
            "  inflating: /content/__MACOSX/masks/._crossline_1243_mask.png  \n",
            "  inflating: /content/masks/crossline_1478_mask.png  \n",
            "  inflating: /content/__MACOSX/masks/._crossline_1478_mask.png  \n",
            "  inflating: /content/masks/inline_1065_mask.png  \n",
            "  inflating: /content/__MACOSX/masks/._inline_1065_mask.png  \n",
            "  inflating: /content/masks/inline_1203_mask.png  \n",
            "  inflating: /content/__MACOSX/masks/._inline_1203_mask.png  \n",
            "  inflating: /content/masks/inline_1202_mask.png  \n",
            "  inflating: /content/__MACOSX/masks/._inline_1202_mask.png  \n",
            "  inflating: /content/masks/crossline_1479_mask.png  \n",
            "  inflating: /content/__MACOSX/masks/._crossline_1479_mask.png  \n",
            "  inflating: /content/masks/inline_1064_mask.png  \n",
            "  inflating: /content/__MACOSX/masks/._inline_1064_mask.png  \n",
            "  inflating: /content/masks/inline_1399_mask.png  \n",
            "  inflating: /content/__MACOSX/masks/._inline_1399_mask.png  \n",
            "  inflating: /content/masks/inline_1398_mask.png  \n",
            "  inflating: /content/__MACOSX/masks/._inline_1398_mask.png  \n",
            "  inflating: /content/masks/inline_1531_mask.png  \n",
            "  inflating: /content/__MACOSX/masks/._inline_1531_mask.png  \n",
            "  inflating: /content/masks/inline_1530_mask.png  \n",
            "  inflating: /content/__MACOSX/masks/._inline_1530_mask.png  \n",
            "  inflating: /content/masks/inline_1080_mask.png  \n",
            "  inflating: /content/__MACOSX/masks/._inline_1080_mask.png  \n",
            "  inflating: /content/masks/inline_1081_mask.png  \n",
            "  inflating: /content/__MACOSX/masks/._inline_1081_mask.png  \n",
            "  inflating: /content/masks/crossline_1053_mask.png  \n",
            "  inflating: /content/__MACOSX/masks/._crossline_1053_mask.png  \n",
            "  inflating: /content/masks/crossline_1235_mask.png  \n",
            "  inflating: /content/__MACOSX/masks/._crossline_1235_mask.png  \n",
            "  inflating: /content/masks/crossline_1234_mask.png  \n",
            "  inflating: /content/__MACOSX/masks/._crossline_1234_mask.png  \n",
            "  inflating: /content/masks/crossline_1052_mask.png  \n",
            "  inflating: /content/__MACOSX/masks/._crossline_1052_mask.png  \n",
            "  inflating: /content/masks/inline_1274_mask.png  \n",
            "  inflating: /content/__MACOSX/masks/._inline_1274_mask.png  \n",
            "  inflating: /content/masks/inline_1012_mask.png  \n",
            "  inflating: /content/__MACOSX/masks/._inline_1012_mask.png  \n",
            "  inflating: /content/masks/inline_1013_mask.png  \n",
            "  inflating: /content/__MACOSX/masks/._inline_1013_mask.png  \n",
            "  inflating: /content/masks/inline_1275_mask.png  \n",
            "  inflating: /content/__MACOSX/masks/._inline_1275_mask.png  \n",
            "  inflating: /content/masks/inline_1188_mask.png  \n",
            "  inflating: /content/__MACOSX/masks/._inline_1188_mask.png  \n",
            "  inflating: /content/masks/inline_1189_mask.png  \n",
            "  inflating: /content/__MACOSX/masks/._inline_1189_mask.png  \n",
            "  inflating: /content/masks/inline_1546_mask.png  \n",
            "  inflating: /content/__MACOSX/masks/._inline_1546_mask.png  \n",
            "  inflating: /content/masks/inline_1547_mask.png  \n",
            "  inflating: /content/__MACOSX/masks/._inline_1547_mask.png  \n",
            "  inflating: /content/masks/inline_1407_mask.png  \n",
            "  inflating: /content/__MACOSX/masks/._inline_1407_mask.png  \n",
            "  inflating: /content/masks/inline_1406_mask.png  \n",
            "  inflating: /content/__MACOSX/masks/._inline_1406_mask.png  \n",
            "  inflating: /content/masks/crossline_1180_mask.png  \n",
            "  inflating: /content/__MACOSX/masks/._crossline_1180_mask.png  \n",
            "  inflating: /content/masks/crossline_1181_mask.png  \n",
            "  inflating: /content/__MACOSX/masks/._crossline_1181_mask.png  \n",
            "  inflating: /content/masks/inline_1153_mask.png  \n",
            "  inflating: /content/__MACOSX/masks/._inline_1153_mask.png  \n",
            "  inflating: /content/masks/inline_1335_mask.png  \n",
            "  inflating: /content/__MACOSX/masks/._inline_1335_mask.png  \n",
            "  inflating: /content/masks/inline_1334_mask.png  \n",
            "  inflating: /content/__MACOSX/masks/._inline_1334_mask.png  \n",
            "  inflating: /content/masks/inline_1152_mask.png  \n",
            "  inflating: /content/__MACOSX/masks/._inline_1152_mask.png  \n",
            "  inflating: /content/masks/crossline_1374_mask.png  \n",
            "  inflating: /content/__MACOSX/masks/._crossline_1374_mask.png  \n",
            "  inflating: /content/masks/crossline_1112_mask.png  \n",
            "  inflating: /content/__MACOSX/masks/._crossline_1112_mask.png  \n",
            "  inflating: /content/masks/crossline_1113_mask.png  \n",
            "  inflating: /content/__MACOSX/masks/._crossline_1113_mask.png  \n",
            "  inflating: /content/masks/crossline_1375_mask.png  \n",
            "  inflating: /content/__MACOSX/masks/._crossline_1375_mask.png  \n",
            "  inflating: /content/masks/crossline_1088_mask.png  \n",
            "  inflating: /content/__MACOSX/masks/._crossline_1088_mask.png  \n",
            "  inflating: /content/masks/inline_1495_mask.png  \n",
            "  inflating: /content/__MACOSX/masks/._inline_1495_mask.png  \n",
            "  inflating: /content/masks/crossline_1089_mask.png  \n",
            "  inflating: /content/__MACOSX/masks/._crossline_1089_mask.png  \n",
            "  inflating: /content/masks/inline_1494_mask.png  \n",
            "  inflating: /content/__MACOSX/masks/._inline_1494_mask.png  \n",
            "  inflating: /content/masks/crossline_1446_mask.png  \n",
            "  inflating: /content/__MACOSX/masks/._crossline_1446_mask.png  \n",
            "  inflating: /content/masks/crossline_1447_mask.png  \n",
            "  inflating: /content/__MACOSX/masks/._crossline_1447_mask.png  \n",
            "  inflating: /content/masks/inline_1139_mask.png  \n",
            "  inflating: /content/__MACOSX/masks/._inline_1139_mask.png  \n",
            "  inflating: /content/masks/inline_1138_mask.png  \n",
            "  inflating: /content/__MACOSX/masks/._inline_1138_mask.png  \n",
            "  inflating: /content/masks/crossline_1070_mask.png  \n",
            "  inflating: /content/__MACOSX/masks/._crossline_1070_mask.png  \n",
            "  inflating: /content/masks/crossline_1216_mask.png  \n",
            "  inflating: /content/__MACOSX/masks/._crossline_1216_mask.png  \n",
            "  inflating: /content/masks/crossline_1217_mask.png  \n",
            "  inflating: /content/__MACOSX/masks/._crossline_1217_mask.png  \n",
            "  inflating: /content/masks/crossline_1071_mask.png  \n",
            "  inflating: /content/__MACOSX/masks/._crossline_1071_mask.png  \n",
            "  inflating: /content/masks/inline_1257_mask.png  \n",
            "  inflating: /content/__MACOSX/masks/._inline_1257_mask.png  \n",
            "  inflating: /content/masks/inline_1031_mask.png  \n",
            "  inflating: /content/__MACOSX/masks/._inline_1031_mask.png  \n",
            "  inflating: /content/masks/inline_1030_mask.png  \n",
            "  inflating: /content/__MACOSX/masks/._inline_1030_mask.png  \n",
            "  inflating: /content/masks/inline_1256_mask.png  \n",
            "  inflating: /content/__MACOSX/masks/._inline_1256_mask.png  \n",
            "  inflating: /content/masks/crossline_1284_mask.png  \n",
            "  inflating: /content/__MACOSX/masks/._crossline_1284_mask.png  \n",
            "  inflating: /content/masks/crossline_1285_mask.png  \n",
            "  inflating: /content/__MACOSX/masks/._crossline_1285_mask.png  \n",
            "  inflating: /content/masks/crossline_1178_mask.png  \n",
            "  inflating: /content/__MACOSX/masks/._crossline_1178_mask.png  \n",
            "  inflating: /content/masks/inline_1565_mask.png  \n",
            "  inflating: /content/__MACOSX/masks/._inline_1565_mask.png  \n",
            "  inflating: /content/masks/crossline_1179_mask.png  \n",
            "  inflating: /content/__MACOSX/masks/._crossline_1179_mask.png  \n",
            "  inflating: /content/masks/inline_1564_mask.png  \n",
            "  inflating: /content/__MACOSX/masks/._inline_1564_mask.png  \n",
            "  inflating: /content/masks/inline_1424_mask.png  \n",
            "  inflating: /content/__MACOSX/masks/._inline_1424_mask.png  \n",
            "  inflating: /content/masks/crossline_1039_mask.png  \n",
            "  inflating: /content/__MACOSX/masks/._crossline_1039_mask.png  \n",
            "  inflating: /content/masks/inline_1425_mask.png  \n",
            "  inflating: /content/__MACOSX/masks/._inline_1425_mask.png  \n",
            "  inflating: /content/masks/crossline_1038_mask.png  \n",
            "  inflating: /content/__MACOSX/masks/._crossline_1038_mask.png  \n",
            "  inflating: /content/masks/inline_1170_mask.png  \n",
            "  inflating: /content/__MACOSX/masks/._inline_1170_mask.png  \n",
            "  inflating: /content/masks/inline_1316_mask.png  \n",
            "  inflating: /content/__MACOSX/masks/._inline_1316_mask.png  \n",
            "  inflating: /content/masks/inline_1317_mask.png  \n",
            "  inflating: /content/__MACOSX/masks/._inline_1317_mask.png  \n",
            "  inflating: /content/masks/inline_1171_mask.png  \n",
            "  inflating: /content/__MACOSX/masks/._inline_1171_mask.png  \n",
            "  inflating: /content/masks/crossline_1357_mask.png  \n",
            "  inflating: /content/__MACOSX/masks/._crossline_1357_mask.png  \n",
            "  inflating: /content/masks/crossline_1131_mask.png  \n",
            "  inflating: /content/__MACOSX/masks/._crossline_1131_mask.png  \n",
            "  inflating: /content/masks/crossline_1130_mask.png  \n",
            "  inflating: /content/__MACOSX/masks/._crossline_1130_mask.png  \n",
            "  inflating: /content/masks/crossline_1356_mask.png  \n",
            "  inflating: /content/__MACOSX/masks/._crossline_1356_mask.png  \n",
            "  inflating: /content/masks/inline_1384_mask.png  \n",
            "  inflating: /content/__MACOSX/masks/._inline_1384_mask.png  \n",
            "  inflating: /content/masks/inline_1385_mask.png  \n",
            "  inflating: /content/__MACOSX/masks/._inline_1385_mask.png  \n",
            "  inflating: /content/masks/crossline_1465_mask.png  \n",
            "  inflating: /content/__MACOSX/masks/._crossline_1465_mask.png  \n",
            "  inflating: /content/masks/inline_1078_mask.png  \n",
            "  inflating: /content/__MACOSX/masks/._inline_1078_mask.png  \n",
            "  inflating: /content/masks/crossline_1464_mask.png  \n",
            "  inflating: /content/__MACOSX/masks/._crossline_1464_mask.png  \n",
            "  inflating: /content/masks/inline_1079_mask.png  \n",
            "  inflating: /content/__MACOSX/masks/._inline_1079_mask.png  \n",
            "  inflating: /content/masks/inline_1453_mask.png  \n",
            "  inflating: /content/__MACOSX/masks/._inline_1453_mask.png  \n",
            "  inflating: /content/masks/crossline_1228_mask.png  \n",
            "  inflating: /content/__MACOSX/masks/._crossline_1228_mask.png  \n",
            "  inflating: /content/masks/crossline_1229_mask.png  \n",
            "  inflating: /content/__MACOSX/masks/._crossline_1229_mask.png  \n",
            "  inflating: /content/masks/inline_1452_mask.png  \n",
            "  inflating: /content/__MACOSX/masks/._inline_1452_mask.png  \n",
            "  inflating: /content/masks/crossline_1480_mask.png  \n",
            "  inflating: /content/__MACOSX/masks/._crossline_1480_mask.png  \n",
            "  inflating: /content/masks/inline_1361_mask.png  \n",
            "  inflating: /content/__MACOSX/masks/._inline_1361_mask.png  \n",
            "  inflating: /content/masks/inline_1107_mask.png  \n",
            "  inflating: /content/__MACOSX/masks/._inline_1107_mask.png  \n",
            "  inflating: /content/masks/inline_1106_mask.png  \n",
            "  inflating: /content/__MACOSX/masks/._inline_1106_mask.png  \n",
            "  inflating: /content/masks/inline_1360_mask.png  \n",
            "  inflating: /content/__MACOSX/masks/._inline_1360_mask.png  \n",
            "  inflating: /content/masks/crossline_1146_mask.png  \n",
            "  inflating: /content/__MACOSX/masks/._crossline_1146_mask.png  \n",
            "  inflating: /content/masks/crossline_1320_mask.png  \n",
            "  inflating: /content/__MACOSX/masks/._crossline_1320_mask.png  \n",
            "  inflating: /content/masks/crossline_1321_mask.png  \n",
            "  inflating: /content/__MACOSX/masks/._crossline_1321_mask.png  \n",
            "  inflating: /content/masks/crossline_1147_mask.png  \n",
            "  inflating: /content/__MACOSX/masks/._crossline_1147_mask.png  \n",
            "  inflating: /content/masks/inline_1195_mask.png  \n",
            "  inflating: /content/__MACOSX/masks/._inline_1195_mask.png  \n",
            "  inflating: /content/masks/inline_1194_mask.png  \n",
            "  inflating: /content/__MACOSX/masks/._inline_1194_mask.png  \n",
            "  inflating: /content/masks/inline_1269_mask.png  \n",
            "  inflating: /content/__MACOSX/masks/._inline_1269_mask.png  \n",
            "  inflating: /content/masks/crossline_1412_mask.png  \n",
            "  inflating: /content/__MACOSX/masks/._crossline_1412_mask.png  \n",
            "  inflating: /content/masks/crossline_1413_mask.png  \n",
            "  inflating: /content/__MACOSX/masks/._crossline_1413_mask.png  \n",
            "  inflating: /content/masks/inline_1268_mask.png  \n",
            "  inflating: /content/__MACOSX/masks/._inline_1268_mask.png  \n",
            "  inflating: /content/masks/inline_1328_mask.png  \n",
            "  inflating: /content/__MACOSX/masks/._inline_1328_mask.png  \n",
            "  inflating: /content/masks/inline_1329_mask.png  \n",
            "  inflating: /content/__MACOSX/masks/._inline_1329_mask.png  \n",
            "  inflating: /content/masks/inline_1580_mask.png  \n",
            "  inflating: /content/__MACOSX/masks/._inline_1580_mask.png  \n",
            "  inflating: /content/masks/inline_1581_mask.png  \n",
            "  inflating: /content/__MACOSX/masks/._inline_1581_mask.png  \n",
            "  inflating: /content/masks/crossline_1261_mask.png  \n",
            "  inflating: /content/__MACOSX/masks/._crossline_1261_mask.png  \n",
            "  inflating: /content/masks/crossline_1007_mask.png  \n",
            "  inflating: /content/__MACOSX/masks/._crossline_1007_mask.png  \n",
            "  inflating: /content/masks/crossline_1006_mask.png  \n",
            "  inflating: /content/__MACOSX/masks/._crossline_1006_mask.png  \n",
            "  inflating: /content/masks/crossline_1260_mask.png  \n",
            "  inflating: /content/__MACOSX/masks/._crossline_1260_mask.png  \n",
            "  inflating: /content/masks/inline_1046_mask.png  \n",
            "  inflating: /content/__MACOSX/masks/._inline_1046_mask.png  \n",
            "  inflating: /content/masks/inline_1220_mask.png  \n",
            "  inflating: /content/__MACOSX/masks/._inline_1220_mask.png  \n",
            "  inflating: /content/masks/inline_1221_mask.png  \n",
            "  inflating: /content/__MACOSX/masks/._inline_1221_mask.png  \n",
            "  inflating: /content/masks/inline_1047_mask.png  \n",
            "  inflating: /content/__MACOSX/masks/._inline_1047_mask.png  \n",
            "  inflating: /content/masks/crossline_1095_mask.png  \n",
            "  inflating: /content/__MACOSX/masks/._crossline_1095_mask.png  \n",
            "  inflating: /content/masks/inline_1488_mask.png  \n",
            "  inflating: /content/__MACOSX/masks/._inline_1488_mask.png  \n",
            "  inflating: /content/masks/crossline_1094_mask.png  \n",
            "  inflating: /content/__MACOSX/masks/._crossline_1094_mask.png  \n",
            "  inflating: /content/masks/inline_1489_mask.png  \n",
            "  inflating: /content/__MACOSX/masks/._inline_1489_mask.png  \n",
            "  inflating: /content/masks/crossline_1369_mask.png  \n",
            "  inflating: /content/__MACOSX/masks/._crossline_1369_mask.png  \n",
            "  inflating: /content/masks/inline_1512_mask.png  \n",
            "  inflating: /content/__MACOSX/masks/._inline_1512_mask.png  \n",
            "  inflating: /content/masks/inline_1513_mask.png  \n",
            "  inflating: /content/__MACOSX/masks/._inline_1513_mask.png  \n",
            "  inflating: /content/masks/crossline_1368_mask.png  \n",
            "  inflating: /content/__MACOSX/masks/._crossline_1368_mask.png  \n",
            "  inflating: /content/masks/inline_1072_mask.png  \n",
            "  inflating: /content/__MACOSX/masks/._inline_1072_mask.png  \n",
            "  inflating: /content/masks/inline_1214_mask.png  \n",
            "  inflating: /content/__MACOSX/masks/._inline_1214_mask.png  \n",
            "  inflating: /content/masks/inline_1215_mask.png  \n",
            "  inflating: /content/__MACOSX/masks/._inline_1215_mask.png  \n",
            "  inflating: /content/masks/inline_1073_mask.png  \n",
            "  inflating: /content/__MACOSX/masks/._inline_1073_mask.png  \n",
            "  inflating: /content/masks/inline_1526_mask.png  \n",
            "  inflating: /content/__MACOSX/masks/._inline_1526_mask.png  \n",
            "  inflating: /content/masks/inline_1527_mask.png  \n",
            "  inflating: /content/__MACOSX/masks/._inline_1527_mask.png  \n",
            "  inflating: /content/masks/crossline_1255_mask.png  \n",
            "  inflating: /content/__MACOSX/masks/._crossline_1255_mask.png  \n",
            "  inflating: /content/masks/crossline_1033_mask.png  \n",
            "  inflating: /content/__MACOSX/masks/._crossline_1033_mask.png  \n",
            "  inflating: /content/masks/crossline_1032_mask.png  \n",
            "  inflating: /content/__MACOSX/masks/._crossline_1032_mask.png  \n",
            "  inflating: /content/masks/crossline_1254_mask.png  \n",
            "  inflating: /content/__MACOSX/masks/._crossline_1254_mask.png  \n",
            "  inflating: /content/masks/inline_1286_mask.png  \n",
            "  inflating: /content/__MACOSX/masks/._inline_1286_mask.png  \n",
            "  inflating: /content/masks/inline_1287_mask.png  \n",
            "  inflating: /content/__MACOSX/masks/._inline_1287_mask.png  \n",
            "  inflating: /content/masks/crossline_1172_mask.png  \n",
            "  inflating: /content/__MACOSX/masks/._crossline_1172_mask.png  \n",
            "  inflating: /content/masks/crossline_1314_mask.png  \n",
            "  inflating: /content/__MACOSX/masks/._crossline_1314_mask.png  \n",
            "  inflating: /content/masks/crossline_1315_mask.png  \n",
            "  inflating: /content/__MACOSX/masks/._crossline_1315_mask.png  \n",
            "  inflating: /content/masks/crossline_1173_mask.png  \n",
            "  inflating: /content/__MACOSX/masks/._crossline_1173_mask.png  \n",
            "  inflating: /content/masks/crossline_1426_mask.png  \n",
            "  inflating: /content/__MACOSX/masks/._crossline_1426_mask.png  \n",
            "  inflating: /content/masks/crossline_1427_mask.png  \n",
            "  inflating: /content/__MACOSX/masks/._crossline_1427_mask.png  \n",
            "  inflating: /content/masks/inline_1467_mask.png  \n",
            "  inflating: /content/__MACOSX/masks/._inline_1467_mask.png  \n",
            "  inflating: /content/masks/inline_1600_mask.png  \n",
            "  inflating: /content/__MACOSX/masks/._inline_1600_mask.png  \n",
            "  inflating: /content/masks/inline_1466_mask.png  \n",
            "  inflating: /content/__MACOSX/masks/._inline_1466_mask.png  \n",
            "  inflating: /content/masks/inline_1355_mask.png  \n",
            "  inflating: /content/__MACOSX/masks/._inline_1355_mask.png  \n",
            "  inflating: /content/masks/inline_1133_mask.png  \n",
            "  inflating: /content/__MACOSX/masks/._inline_1133_mask.png  \n",
            "  inflating: /content/masks/inline_1132_mask.png  \n",
            "  inflating: /content/__MACOSX/masks/._inline_1132_mask.png  \n",
            "  inflating: /content/masks/inline_1354_mask.png  \n",
            "  inflating: /content/__MACOSX/masks/._inline_1354_mask.png  \n",
            "  inflating: /content/masks/crossline_1386_mask.png  \n",
            "  inflating: /content/__MACOSX/masks/._crossline_1386_mask.png  \n",
            "  inflating: /content/masks/crossline_1387_mask.png  \n",
            "  inflating: /content/__MACOSX/masks/._crossline_1387_mask.png  \n",
            "  inflating: /content/masks/crossline_1363_mask.png  \n",
            "  inflating: /content/__MACOSX/masks/._crossline_1363_mask.png  \n",
            "  inflating: /content/masks/inline_1518_mask.png  \n",
            "  inflating: /content/__MACOSX/masks/._inline_1518_mask.png  \n",
            "  inflating: /content/masks/crossline_1105_mask.png  \n",
            "  inflating: /content/__MACOSX/masks/._crossline_1105_mask.png  \n",
            "  inflating: /content/masks/inline_1519_mask.png  \n",
            "  inflating: /content/__MACOSX/masks/._inline_1519_mask.png  \n",
            "  inflating: /content/masks/crossline_1104_mask.png  \n",
            "  inflating: /content/__MACOSX/masks/._crossline_1104_mask.png  \n",
            "  inflating: /content/masks/crossline_1362_mask.png  \n",
            "  inflating: /content/__MACOSX/masks/._crossline_1362_mask.png  \n",
            "  inflating: /content/masks/crossline_1451_mask.png  \n",
            "  inflating: /content/__MACOSX/masks/._crossline_1451_mask.png  \n",
            "  inflating: /content/masks/crossline_1450_mask.png  \n",
            "  inflating: /content/__MACOSX/masks/._crossline_1450_mask.png  \n",
            "  inflating: /content/masks/inline_1482_mask.png  \n",
            "  inflating: /content/__MACOSX/masks/._inline_1482_mask.png  \n",
            "  inflating: /content/masks/inline_1483_mask.png  \n",
            "  inflating: /content/__MACOSX/masks/._inline_1483_mask.png  \n",
            "  inflating: /content/masks/inline_1410_mask.png  \n",
            "  inflating: /content/__MACOSX/masks/._inline_1410_mask.png  \n",
            "  inflating: /content/masks/inline_1411_mask.png  \n",
            "  inflating: /content/__MACOSX/masks/._inline_1411_mask.png  \n",
            "  inflating: /content/masks/inline_1144_mask.png  \n",
            "  inflating: /content/__MACOSX/masks/._inline_1144_mask.png  \n",
            "  inflating: /content/masks/inline_1322_mask.png  \n",
            "  inflating: /content/__MACOSX/masks/._inline_1322_mask.png  \n",
            "  inflating: /content/masks/inline_1323_mask.png  \n",
            "  inflating: /content/__MACOSX/masks/._inline_1323_mask.png  \n",
            "  inflating: /content/masks/inline_1145_mask.png  \n",
            "  inflating: /content/__MACOSX/masks/._inline_1145_mask.png  \n",
            "  inflating: /content/masks/crossline_1197_mask.png  \n",
            "  inflating: /content/__MACOSX/masks/._crossline_1197_mask.png  \n",
            "  inflating: /content/masks/crossline_1196_mask.png  \n",
            "  inflating: /content/__MACOSX/masks/._crossline_1196_mask.png  \n",
            "  inflating: /content/masks/inline_1263_mask.png  \n",
            "  inflating: /content/__MACOSX/masks/._inline_1263_mask.png  \n",
            "  inflating: /content/masks/inline_1005_mask.png  \n",
            "  inflating: /content/__MACOSX/masks/._inline_1005_mask.png  \n",
            "  inflating: /content/masks/crossline_1418_mask.png  \n",
            "  inflating: /content/__MACOSX/masks/._crossline_1418_mask.png  \n",
            "  inflating: /content/masks/inline_1004_mask.png  \n",
            "  inflating: /content/__MACOSX/masks/._inline_1004_mask.png  \n",
            "  inflating: /content/masks/crossline_1419_mask.png  \n",
            "  inflating: /content/__MACOSX/masks/._crossline_1419_mask.png  \n",
            "  inflating: /content/masks/inline_1262_mask.png  \n",
            "  inflating: /content/__MACOSX/masks/._inline_1262_mask.png  \n",
            "  inflating: /content/masks/inline_1551_mask.png  \n",
            "  inflating: /content/__MACOSX/masks/._inline_1551_mask.png  \n",
            "  inflating: /content/masks/inline_1550_mask.png  \n",
            "  inflating: /content/__MACOSX/masks/._inline_1550_mask.png  \n",
            "  inflating: /content/masks/crossline_1044_mask.png  \n",
            "  inflating: /content/__MACOSX/masks/._crossline_1044_mask.png  \n",
            "  inflating: /content/masks/inline_1459_mask.png  \n",
            "  inflating: /content/__MACOSX/masks/._inline_1459_mask.png  \n",
            "  inflating: /content/masks/crossline_1222_mask.png  \n",
            "  inflating: /content/__MACOSX/masks/._crossline_1222_mask.png  \n",
            "  inflating: /content/masks/crossline_1223_mask.png  \n",
            "  inflating: /content/__MACOSX/masks/._crossline_1223_mask.png  \n",
            "  inflating: /content/masks/crossline_1045_mask.png  \n",
            "  inflating: /content/__MACOSX/masks/._crossline_1045_mask.png  \n",
            "  inflating: /content/masks/inline_1458_mask.png  \n",
            "  inflating: /content/__MACOSX/masks/._inline_1458_mask.png  \n",
            "  inflating: /content/masks/inline_1097_mask.png  \n",
            "  inflating: /content/__MACOSX/masks/._inline_1097_mask.png  \n",
            "  inflating: /content/masks/inline_1096_mask.png  \n",
            "  inflating: /content/__MACOSX/masks/._inline_1096_mask.png  \n",
            "  inflating: /content/masks/inline_1036_mask.png  \n",
            "  inflating: /content/__MACOSX/masks/._inline_1036_mask.png  \n",
            "  inflating: /content/masks/inline_1250_mask.png  \n",
            "  inflating: /content/__MACOSX/masks/._inline_1250_mask.png  \n",
            "  inflating: /content/masks/inline_1251_mask.png  \n",
            "  inflating: /content/__MACOSX/masks/._inline_1251_mask.png  \n",
            "  inflating: /content/masks/inline_1037_mask.png  \n",
            "  inflating: /content/__MACOSX/masks/._inline_1037_mask.png  \n",
            "  inflating: /content/masks/crossline_1283_mask.png  \n",
            "  inflating: /content/__MACOSX/masks/._crossline_1283_mask.png  \n",
            "  inflating: /content/masks/crossline_1282_mask.png  \n",
            "  inflating: /content/__MACOSX/masks/._crossline_1282_mask.png  \n",
            "  inflating: /content/masks/crossline_1319_mask.png  \n",
            "  inflating: /content/__MACOSX/masks/._crossline_1319_mask.png  \n",
            "  inflating: /content/masks/inline_1562_mask.png  \n",
            "  inflating: /content/__MACOSX/masks/._inline_1562_mask.png  \n",
            "  inflating: /content/masks/inline_1563_mask.png  \n",
            "  inflating: /content/__MACOSX/masks/._inline_1563_mask.png  \n",
            "  inflating: /content/masks/crossline_1318_mask.png  \n",
            "  inflating: /content/__MACOSX/masks/._crossline_1318_mask.png  \n",
            "  inflating: /content/masks/inline_1358_mask.png  \n",
            "  inflating: /content/__MACOSX/masks/._inline_1358_mask.png  \n",
            "  inflating: /content/masks/inline_1359_mask.png  \n",
            "  inflating: /content/__MACOSX/masks/._inline_1359_mask.png  \n",
            "  inflating: /content/masks/crossline_1211_mask.png  \n",
            "  inflating: /content/__MACOSX/masks/._crossline_1211_mask.png  \n",
            "  inflating: /content/masks/crossline_1077_mask.png  \n",
            "  inflating: /content/__MACOSX/masks/._crossline_1077_mask.png  \n",
            "  inflating: /content/masks/crossline_1076_mask.png  \n",
            "  inflating: /content/__MACOSX/masks/._crossline_1076_mask.png  \n",
            "  inflating: /content/masks/crossline_1210_mask.png  \n",
            "  inflating: /content/__MACOSX/masks/._crossline_1210_mask.png  \n",
            "  inflating: /content/masks/crossline_1136_mask.png  \n",
            "  inflating: /content/__MACOSX/masks/._crossline_1136_mask.png  \n",
            "  inflating: /content/masks/crossline_1350_mask.png  \n",
            "  inflating: /content/__MACOSX/masks/._crossline_1350_mask.png  \n",
            "  inflating: /content/masks/crossline_1351_mask.png  \n",
            "  inflating: /content/__MACOSX/masks/._crossline_1351_mask.png  \n",
            "  inflating: /content/masks/crossline_1137_mask.png  \n",
            "  inflating: /content/__MACOSX/masks/._crossline_1137_mask.png  \n",
            "  inflating: /content/masks/inline_1383_mask.png  \n",
            "  inflating: /content/__MACOSX/masks/._inline_1383_mask.png  \n",
            "  inflating: /content/masks/inline_1382_mask.png  \n",
            "  inflating: /content/__MACOSX/masks/._inline_1382_mask.png  \n",
            "  inflating: /content/masks/inline_1219_mask.png  \n",
            "  inflating: /content/__MACOSX/masks/._inline_1219_mask.png  \n",
            "  inflating: /content/masks/crossline_1462_mask.png  \n",
            "  inflating: /content/__MACOSX/masks/._crossline_1462_mask.png  \n",
            "  inflating: /content/masks/crossline_1463_mask.png  \n",
            "  inflating: /content/__MACOSX/masks/._crossline_1463_mask.png  \n",
            "  inflating: /content/masks/inline_1218_mask.png  \n",
            "  inflating: /content/__MACOSX/masks/._inline_1218_mask.png  \n",
            "  inflating: /content/masks/inline_1423_mask.png  \n",
            "  inflating: /content/__MACOSX/masks/._inline_1423_mask.png  \n",
            "  inflating: /content/masks/crossline_1258_mask.png  \n",
            "  inflating: /content/__MACOSX/masks/._crossline_1258_mask.png  \n",
            "  inflating: /content/masks/crossline_1259_mask.png  \n",
            "  inflating: /content/__MACOSX/masks/._crossline_1259_mask.png  \n",
            "  inflating: /content/masks/inline_1422_mask.png  \n",
            "  inflating: /content/__MACOSX/masks/._inline_1422_mask.png  \n",
            "  inflating: /content/masks/inline_1311_mask.png  \n",
            "  inflating: /content/__MACOSX/masks/._inline_1311_mask.png  \n",
            "  inflating: /content/masks/inline_1177_mask.png  \n",
            "  inflating: /content/__MACOSX/masks/._inline_1177_mask.png  \n",
            "  inflating: /content/masks/inline_1176_mask.png  \n",
            "  inflating: /content/__MACOSX/masks/._inline_1176_mask.png  \n",
            "  inflating: /content/masks/inline_1310_mask.png  \n",
            "  inflating: /content/__MACOSX/masks/._inline_1310_mask.png  \n",
            "  inflating: /content/masks/crossline_1327_mask.png  \n",
            "  inflating: /content/__MACOSX/masks/._crossline_1327_mask.png  \n",
            "  inflating: /content/masks/crossline_1141_mask.png  \n",
            "  inflating: /content/__MACOSX/masks/._crossline_1141_mask.png  \n",
            "  inflating: /content/masks/crossline_1140_mask.png  \n",
            "  inflating: /content/__MACOSX/masks/._crossline_1140_mask.png  \n",
            "  inflating: /content/masks/crossline_1326_mask.png  \n",
            "  inflating: /content/__MACOSX/masks/._crossline_1326_mask.png  \n",
            "  inflating: /content/masks/inline_1192_mask.png  \n",
            "  inflating: /content/__MACOSX/masks/._inline_1192_mask.png  \n",
            "  inflating: /content/masks/inline_1193_mask.png  \n",
            "  inflating: /content/__MACOSX/masks/._inline_1193_mask.png  \n",
            "  inflating: /content/masks/inline_1008_mask.png  \n",
            "  inflating: /content/__MACOSX/masks/._inline_1008_mask.png  \n",
            "  inflating: /content/masks/crossline_1415_mask.png  \n",
            "  inflating: /content/__MACOSX/masks/._crossline_1415_mask.png  \n",
            "  inflating: /content/masks/inline_1009_mask.png  \n",
            "  inflating: /content/__MACOSX/masks/._inline_1009_mask.png  \n",
            "  inflating: /content/masks/crossline_1414_mask.png  \n",
            "  inflating: /content/__MACOSX/masks/._crossline_1414_mask.png  \n",
            "  inflating: /content/masks/crossline_1049_mask.png  \n",
            "  inflating: /content/__MACOSX/masks/._crossline_1049_mask.png  \n",
            "  inflating: /content/masks/inline_1454_mask.png  \n",
            "  inflating: /content/__MACOSX/masks/._inline_1454_mask.png  \n",
            "  inflating: /content/masks/crossline_1048_mask.png  \n",
            "  inflating: /content/__MACOSX/masks/._crossline_1048_mask.png  \n",
            "  inflating: /content/masks/inline_1455_mask.png  \n",
            "  inflating: /content/__MACOSX/masks/._inline_1455_mask.png  \n",
            "  inflating: /content/masks/inline_1100_mask.png  \n",
            "  inflating: /content/__MACOSX/masks/._inline_1100_mask.png  \n",
            "  inflating: /content/masks/inline_1366_mask.png  \n",
            "  inflating: /content/__MACOSX/masks/._inline_1366_mask.png  \n",
            "  inflating: /content/masks/inline_1367_mask.png  \n",
            "  inflating: /content/__MACOSX/masks/._inline_1367_mask.png  \n",
            "  inflating: /content/masks/inline_1101_mask.png  \n",
            "  inflating: /content/__MACOSX/masks/._inline_1101_mask.png  \n",
            "  inflating: /content/masks/inline_1227_mask.png  \n",
            "  inflating: /content/__MACOSX/masks/._inline_1227_mask.png  \n",
            "  inflating: /content/masks/inline_1041_mask.png  \n",
            "  inflating: /content/__MACOSX/masks/._inline_1041_mask.png  \n",
            "  inflating: /content/masks/inline_1040_mask.png  \n",
            "  inflating: /content/__MACOSX/masks/._inline_1040_mask.png  \n",
            "  inflating: /content/masks/inline_1226_mask.png  \n",
            "  inflating: /content/__MACOSX/masks/._inline_1226_mask.png  \n",
            "  inflating: /content/masks/crossline_1092_mask.png  \n",
            "  inflating: /content/__MACOSX/masks/._crossline_1092_mask.png  \n",
            "  inflating: /content/masks/crossline_1093_mask.png  \n",
            "  inflating: /content/__MACOSX/masks/._crossline_1093_mask.png  \n",
            "  inflating: /content/masks/inline_1515_mask.png  \n",
            "  inflating: /content/__MACOSX/masks/._inline_1515_mask.png  \n",
            "  inflating: /content/masks/crossline_1108_mask.png  \n",
            "  inflating: /content/__MACOSX/masks/._crossline_1108_mask.png  \n",
            "  inflating: /content/masks/inline_1514_mask.png  \n",
            "  inflating: /content/__MACOSX/masks/._inline_1514_mask.png  \n",
            "  inflating: /content/masks/crossline_1109_mask.png  \n",
            "  inflating: /content/__MACOSX/masks/._crossline_1109_mask.png  \n",
            "  inflating: /content/masks/inline_1149_mask.png  \n",
            "  inflating: /content/__MACOSX/masks/._inline_1149_mask.png  \n",
            "  inflating: /content/masks/inline_1148_mask.png  \n",
            "  inflating: /content/__MACOSX/masks/._inline_1148_mask.png  \n",
            "  inflating: /content/masks/inline_1587_mask.png  \n",
            "  inflating: /content/__MACOSX/masks/._inline_1587_mask.png  \n",
            "  inflating: /content/masks/inline_1586_mask.png  \n",
            "  inflating: /content/__MACOSX/masks/._inline_1586_mask.png  \n",
            "  inflating: /content/masks/crossline_1000_mask.png  \n",
            "  inflating: /content/__MACOSX/masks/._crossline_1000_mask.png  \n",
            "  inflating: /content/masks/crossline_1266_mask.png  \n",
            "  inflating: /content/__MACOSX/masks/._crossline_1266_mask.png  \n",
            "  inflating: /content/masks/crossline_1267_mask.png  \n",
            "  inflating: /content/__MACOSX/masks/._crossline_1267_mask.png  \n",
            "  inflating: /content/masks/crossline_1001_mask.png  \n",
            "  inflating: /content/__MACOSX/masks/._crossline_1001_mask.png  \n",
            "  inflating: /content/masks/inline_1429_mask.png  \n",
            "  inflating: /content/__MACOSX/masks/._inline_1429_mask.png  \n",
            "  inflating: /content/masks/crossline_1034_mask.png  \n",
            "  inflating: /content/__MACOSX/masks/._crossline_1034_mask.png  \n",
            "  inflating: /content/masks/crossline_1252_mask.png  \n",
            "  inflating: /content/__MACOSX/masks/._crossline_1252_mask.png  \n",
            "  inflating: /content/masks/crossline_1253_mask.png  \n",
            "  inflating: /content/__MACOSX/masks/._crossline_1253_mask.png  \n",
            "  inflating: /content/masks/inline_1428_mask.png  \n",
            "  inflating: /content/__MACOSX/masks/._inline_1428_mask.png  \n",
            "  inflating: /content/masks/crossline_1035_mask.png  \n",
            "  inflating: /content/__MACOSX/masks/._crossline_1035_mask.png  \n",
            "  inflating: /content/masks/inline_1281_mask.png  \n",
            "  inflating: /content/__MACOSX/masks/._inline_1281_mask.png  \n",
            "  inflating: /content/masks/inline_1280_mask.png  \n",
            "  inflating: /content/__MACOSX/masks/._inline_1280_mask.png  \n",
            "  inflating: /content/masks/inline_1213_mask.png  \n",
            "  inflating: /content/__MACOSX/masks/._inline_1213_mask.png  \n",
            "  inflating: /content/masks/crossline_1468_mask.png  \n",
            "  inflating: /content/__MACOSX/masks/._crossline_1468_mask.png  \n",
            "  inflating: /content/masks/inline_1075_mask.png  \n",
            "  inflating: /content/__MACOSX/masks/._inline_1075_mask.png  \n",
            "  inflating: /content/masks/crossline_1469_mask.png  \n",
            "  inflating: /content/__MACOSX/masks/._crossline_1469_mask.png  \n",
            "  inflating: /content/masks/inline_1074_mask.png  \n",
            "  inflating: /content/__MACOSX/masks/._inline_1074_mask.png  \n",
            "  inflating: /content/masks/inline_1212_mask.png  \n",
            "  inflating: /content/__MACOSX/masks/._inline_1212_mask.png  \n",
            "  inflating: /content/masks/inline_1521_mask.png  \n",
            "  inflating: /content/__MACOSX/masks/._inline_1521_mask.png  \n",
            "  inflating: /content/masks/inline_1520_mask.png  \n",
            "  inflating: /content/__MACOSX/masks/._inline_1520_mask.png  \n",
            "  inflating: /content/masks/inline_1389_mask.png  \n",
            "  inflating: /content/__MACOSX/masks/._inline_1389_mask.png  \n",
            "  inflating: /content/masks/inline_1388_mask.png  \n",
            "  inflating: /content/__MACOSX/masks/._inline_1388_mask.png  \n",
            "  inflating: /content/masks/inline_1460_mask.png  \n",
            "  inflating: /content/__MACOSX/masks/._inline_1460_mask.png  \n",
            "  inflating: /content/masks/inline_1461_mask.png  \n",
            "  inflating: /content/__MACOSX/masks/._inline_1461_mask.png  \n",
            "  inflating: /content/masks/inline_1134_mask.png  \n",
            "  inflating: /content/__MACOSX/masks/._inline_1134_mask.png  \n",
            "  inflating: /content/masks/inline_1352_mask.png  \n",
            "  inflating: /content/__MACOSX/masks/._inline_1352_mask.png  \n",
            "  inflating: /content/masks/inline_1353_mask.png  \n",
            "  inflating: /content/__MACOSX/masks/._inline_1353_mask.png  \n",
            "  inflating: /content/masks/inline_1135_mask.png  \n",
            "  inflating: /content/__MACOSX/masks/._inline_1135_mask.png  \n",
            "  inflating: /content/masks/crossline_1381_mask.png  \n",
            "  inflating: /content/__MACOSX/masks/._crossline_1381_mask.png  \n",
            "  inflating: /content/masks/crossline_1380_mask.png  \n",
            "  inflating: /content/__MACOSX/masks/._crossline_1380_mask.png  \n",
            "  inflating: /content/masks/crossline_1313_mask.png  \n",
            "  inflating: /content/__MACOSX/masks/._crossline_1313_mask.png  \n",
            "  inflating: /content/masks/crossline_1175_mask.png  \n",
            "  inflating: /content/__MACOSX/masks/._crossline_1175_mask.png  \n",
            "  inflating: /content/masks/inline_1568_mask.png  \n",
            "  inflating: /content/__MACOSX/masks/._inline_1568_mask.png  \n",
            "  inflating: /content/masks/crossline_1174_mask.png  \n",
            "  inflating: /content/__MACOSX/masks/._crossline_1174_mask.png  \n",
            "  inflating: /content/masks/inline_1569_mask.png  \n",
            "  inflating: /content/__MACOSX/masks/._inline_1569_mask.png  \n",
            "  inflating: /content/masks/crossline_1312_mask.png  \n",
            "  inflating: /content/__MACOSX/masks/._crossline_1312_mask.png  \n",
            "  inflating: /content/masks/crossline_1421_mask.png  \n",
            "  inflating: /content/__MACOSX/masks/._crossline_1421_mask.png  \n",
            "  inflating: /content/masks/crossline_1420_mask.png  \n",
            "  inflating: /content/__MACOSX/masks/._crossline_1420_mask.png  \n",
            "  inflating: /content/masks/crossline_1289_mask.png  \n",
            "  inflating: /content/__MACOSX/masks/._crossline_1289_mask.png  \n",
            "  inflating: /content/masks/crossline_1288_mask.png  \n",
            "  inflating: /content/__MACOSX/masks/._crossline_1288_mask.png  \n",
            "  inflating: /content/masks/inline_1417_mask.png  \n",
            "  inflating: /content/__MACOSX/masks/._inline_1417_mask.png  \n",
            "  inflating: /content/masks/inline_1416_mask.png  \n",
            "  inflating: /content/__MACOSX/masks/._inline_1416_mask.png  \n",
            "  inflating: /content/masks/inline_1325_mask.png  \n",
            "  inflating: /content/__MACOSX/masks/._inline_1325_mask.png  \n",
            "  inflating: /content/masks/inline_1143_mask.png  \n",
            "  inflating: /content/__MACOSX/masks/._inline_1143_mask.png  \n",
            "  inflating: /content/masks/inline_1142_mask.png  \n",
            "  inflating: /content/__MACOSX/masks/._inline_1142_mask.png  \n",
            "  inflating: /content/masks/inline_1324_mask.png  \n",
            "  inflating: /content/__MACOSX/masks/._inline_1324_mask.png  \n",
            "  inflating: /content/masks/crossline_1190_mask.png  \n",
            "  inflating: /content/__MACOSX/masks/._crossline_1190_mask.png  \n",
            "  inflating: /content/masks/crossline_1191_mask.png  \n",
            "  inflating: /content/__MACOSX/masks/._crossline_1191_mask.png  \n",
            "  inflating: /content/masks/crossline_1102_mask.png  \n",
            "  inflating: /content/__MACOSX/masks/._crossline_1102_mask.png  \n",
            "  inflating: /content/masks/crossline_1364_mask.png  \n",
            "  inflating: /content/__MACOSX/masks/._crossline_1364_mask.png  \n",
            "  inflating: /content/masks/crossline_1365_mask.png  \n",
            "  inflating: /content/__MACOSX/masks/._crossline_1365_mask.png  \n",
            "  inflating: /content/masks/crossline_1103_mask.png  \n",
            "  inflating: /content/__MACOSX/masks/._crossline_1103_mask.png  \n",
            "  inflating: /content/masks/crossline_1456_mask.png  \n",
            "  inflating: /content/__MACOSX/masks/._crossline_1456_mask.png  \n",
            "  inflating: /content/masks/crossline_1457_mask.png  \n",
            "  inflating: /content/__MACOSX/masks/._crossline_1457_mask.png  \n",
            "  inflating: /content/masks/crossline_1098_mask.png  \n",
            "  inflating: /content/__MACOSX/masks/._crossline_1098_mask.png  \n",
            "  inflating: /content/masks/inline_1485_mask.png  \n",
            "  inflating: /content/__MACOSX/masks/._inline_1485_mask.png  \n",
            "  inflating: /content/masks/crossline_1099_mask.png  \n",
            "  inflating: /content/__MACOSX/masks/._crossline_1099_mask.png  \n",
            "  inflating: /content/masks/inline_1484_mask.png  \n",
            "  inflating: /content/__MACOSX/masks/._inline_1484_mask.png  \n",
            "  inflating: /content/masks/crossline_1225_mask.png  \n",
            "  inflating: /content/__MACOSX/masks/._crossline_1225_mask.png  \n",
            "  inflating: /content/masks/crossline_1043_mask.png  \n",
            "  inflating: /content/__MACOSX/masks/._crossline_1043_mask.png  \n",
            "  inflating: /content/masks/crossline_1042_mask.png  \n",
            "  inflating: /content/__MACOSX/masks/._crossline_1042_mask.png  \n",
            "  inflating: /content/masks/crossline_1224_mask.png  \n",
            "  inflating: /content/__MACOSX/masks/._crossline_1224_mask.png  \n",
            "  inflating: /content/masks/inline_1090_mask.png  \n",
            "  inflating: /content/__MACOSX/masks/._inline_1090_mask.png  \n",
            "  inflating: /content/masks/inline_1091_mask.png  \n",
            "  inflating: /content/__MACOSX/masks/._inline_1091_mask.png  \n",
            "  inflating: /content/masks/inline_1002_mask.png  \n",
            "  inflating: /content/__MACOSX/masks/._inline_1002_mask.png  \n",
            "  inflating: /content/masks/inline_1264_mask.png  \n",
            "  inflating: /content/__MACOSX/masks/._inline_1264_mask.png  \n",
            "  inflating: /content/masks/inline_1265_mask.png  \n",
            "  inflating: /content/__MACOSX/masks/._inline_1265_mask.png  \n",
            "  inflating: /content/masks/inline_1003_mask.png  \n",
            "  inflating: /content/__MACOSX/masks/._inline_1003_mask.png  \n",
            "  inflating: /content/masks/inline_1556_mask.png  \n",
            "  inflating: /content/__MACOSX/masks/._inline_1556_mask.png  \n",
            "  inflating: /content/masks/inline_1557_mask.png  \n",
            "  inflating: /content/__MACOSX/masks/._inline_1557_mask.png  \n",
            "  inflating: /content/masks/inline_1198_mask.png  \n",
            "  inflating: /content/__MACOSX/masks/._inline_1198_mask.png  \n",
            "  inflating: /content/masks/inline_1199_mask.png  \n",
            "  inflating: /content/__MACOSX/masks/._inline_1199_mask.png  \n",
            "  inflating: /content/masks/inline_1434_mask.png  \n",
            "  inflating: /content/__MACOSX/masks/._inline_1434_mask.png  \n",
            "  inflating: /content/masks/crossline_1029_mask.png  \n",
            "  inflating: /content/__MACOSX/masks/._crossline_1029_mask.png  \n",
            "  inflating: /content/masks/inline_1435_mask.png  \n",
            "  inflating: /content/__MACOSX/masks/._inline_1435_mask.png  \n",
            "  inflating: /content/masks/crossline_1028_mask.png  \n",
            "  inflating: /content/__MACOSX/masks/._crossline_1028_mask.png  \n",
            "  inflating: /content/masks/inline_1306_mask.png  \n",
            "  inflating: /content/__MACOSX/masks/._inline_1306_mask.png  \n",
            "  inflating: /content/masks/inline_1160_mask.png  \n",
            "  inflating: /content/__MACOSX/masks/._inline_1160_mask.png  \n",
            "  inflating: /content/masks/inline_1161_mask.png  \n",
            "  inflating: /content/__MACOSX/masks/._inline_1161_mask.png  \n",
            "  inflating: /content/masks/inline_1307_mask.png  \n",
            "  inflating: /content/__MACOSX/masks/._inline_1307_mask.png  \n",
            "  inflating: /content/masks/inline_1394_mask.png  \n",
            "  inflating: /content/__MACOSX/masks/._inline_1394_mask.png  \n",
            "  inflating: /content/masks/inline_1395_mask.png  \n",
            "  inflating: /content/__MACOSX/masks/._inline_1395_mask.png  \n",
            "  inflating: /content/masks/crossline_1121_mask.png  \n",
            "  inflating: /content/__MACOSX/masks/._crossline_1121_mask.png  \n",
            "  inflating: /content/masks/crossline_1347_mask.png  \n",
            "  inflating: /content/__MACOSX/masks/._crossline_1347_mask.png  \n",
            "  inflating: /content/masks/crossline_1346_mask.png  \n",
            "  inflating: /content/__MACOSX/masks/._crossline_1346_mask.png  \n",
            "  inflating: /content/masks/crossline_1120_mask.png  \n",
            "  inflating: /content/__MACOSX/masks/._crossline_1120_mask.png  \n",
            "  inflating: /content/masks/crossline_1475_mask.png  \n",
            "  inflating: /content/__MACOSX/masks/._crossline_1475_mask.png  \n",
            "  inflating: /content/masks/inline_1068_mask.png  \n",
            "  inflating: /content/__MACOSX/masks/._inline_1068_mask.png  \n",
            "  inflating: /content/masks/crossline_1474_mask.png  \n",
            "  inflating: /content/__MACOSX/masks/._crossline_1474_mask.png  \n",
            "  inflating: /content/masks/inline_1069_mask.png  \n",
            "  inflating: /content/__MACOSX/masks/._inline_1069_mask.png  \n",
            "  inflating: /content/masks/inline_1129_mask.png  \n",
            "  inflating: /content/__MACOSX/masks/._inline_1129_mask.png  \n",
            "  inflating: /content/masks/inline_1128_mask.png  \n",
            "  inflating: /content/__MACOSX/masks/._inline_1128_mask.png  \n",
            "  inflating: /content/masks/crossline_1206_mask.png  \n",
            "  inflating: /content/__MACOSX/masks/._crossline_1206_mask.png  \n",
            "  inflating: /content/masks/crossline_1060_mask.png  \n",
            "  inflating: /content/__MACOSX/masks/._crossline_1060_mask.png  \n",
            "  inflating: /content/masks/crossline_1061_mask.png  \n",
            "  inflating: /content/__MACOSX/masks/._crossline_1061_mask.png  \n",
            "  inflating: /content/masks/crossline_1207_mask.png  \n",
            "  inflating: /content/__MACOSX/masks/._crossline_1207_mask.png  \n",
            "  inflating: /content/masks/crossline_1294_mask.png  \n",
            "  inflating: /content/__MACOSX/masks/._crossline_1294_mask.png  \n",
            "  inflating: /content/masks/crossline_1295_mask.png  \n",
            "  inflating: /content/__MACOSX/masks/._crossline_1295_mask.png  \n",
            "  inflating: /content/masks/inline_1021_mask.png  \n",
            "  inflating: /content/__MACOSX/masks/._inline_1021_mask.png  \n",
            "  inflating: /content/masks/inline_1247_mask.png  \n",
            "  inflating: /content/__MACOSX/masks/._inline_1247_mask.png  \n",
            "  inflating: /content/masks/inline_1246_mask.png  \n",
            "  inflating: /content/__MACOSX/masks/._inline_1246_mask.png  \n",
            "  inflating: /content/masks/inline_1020_mask.png  \n",
            "  inflating: /content/__MACOSX/masks/._inline_1020_mask.png  \n",
            "  inflating: /content/masks/crossline_1168_mask.png  \n",
            "  inflating: /content/__MACOSX/masks/._crossline_1168_mask.png  \n",
            "  inflating: /content/masks/inline_1575_mask.png  \n",
            "  inflating: /content/__MACOSX/masks/._inline_1575_mask.png  \n",
            "  inflating: /content/masks/crossline_1169_mask.png  \n",
            "  inflating: /content/__MACOSX/masks/._crossline_1169_mask.png  \n",
            "  inflating: /content/masks/inline_1574_mask.png  \n",
            "  inflating: /content/__MACOSX/masks/._inline_1574_mask.png  \n",
            "  inflating: /content/masks/inline_1590_mask.png  \n",
            "  inflating: /content/__MACOSX/masks/._inline_1590_mask.png  \n",
            "  inflating: /content/masks/inline_1591_mask.png  \n",
            "  inflating: /content/__MACOSX/masks/._inline_1591_mask.png  \n",
            "  inflating: /content/masks/inline_1338_mask.png  \n",
            "  inflating: /content/__MACOSX/masks/._inline_1338_mask.png  \n",
            "  inflating: /content/masks/inline_1339_mask.png  \n",
            "  inflating: /content/__MACOSX/masks/._inline_1339_mask.png  \n",
            "  inflating: /content/masks/crossline_1017_mask.png  \n",
            "  inflating: /content/__MACOSX/masks/._crossline_1017_mask.png  \n",
            "  inflating: /content/masks/crossline_1271_mask.png  \n",
            "  inflating: /content/__MACOSX/masks/._crossline_1271_mask.png  \n",
            "  inflating: /content/masks/crossline_1270_mask.png  \n",
            "  inflating: /content/__MACOSX/masks/._crossline_1270_mask.png  \n",
            "  inflating: /content/masks/crossline_1016_mask.png  \n",
            "  inflating: /content/__MACOSX/masks/._crossline_1016_mask.png  \n",
            "  inflating: /content/masks/crossline_1085_mask.png  \n",
            "  inflating: /content/__MACOSX/masks/._crossline_1085_mask.png  \n",
            "  inflating: /content/masks/inline_1498_mask.png  \n",
            "  inflating: /content/__MACOSX/masks/._inline_1498_mask.png  \n",
            "  inflating: /content/masks/crossline_1084_mask.png  \n",
            "  inflating: /content/__MACOSX/masks/._crossline_1084_mask.png  \n",
            "  inflating: /content/masks/inline_1499_mask.png  \n",
            "  inflating: /content/__MACOSX/masks/._inline_1499_mask.png  \n",
            "  inflating: /content/masks/inline_1230_mask.png  \n",
            "  inflating: /content/__MACOSX/masks/._inline_1230_mask.png  \n",
            "  inflating: /content/masks/inline_1056_mask.png  \n",
            "  inflating: /content/__MACOSX/masks/._inline_1056_mask.png  \n",
            "  inflating: /content/masks/inline_1057_mask.png  \n",
            "  inflating: /content/__MACOSX/masks/._inline_1057_mask.png  \n",
            "  inflating: /content/masks/inline_1231_mask.png  \n",
            "  inflating: /content/__MACOSX/masks/._inline_1231_mask.png  \n",
            "  inflating: /content/masks/inline_1502_mask.png  \n",
            "  inflating: /content/__MACOSX/masks/._inline_1502_mask.png  \n",
            "  inflating: /content/masks/crossline_1379_mask.png  \n",
            "  inflating: /content/__MACOSX/masks/._crossline_1379_mask.png  \n",
            "  inflating: /content/masks/crossline_1378_mask.png  \n",
            "  inflating: /content/__MACOSX/masks/._crossline_1378_mask.png  \n",
            "  inflating: /content/masks/inline_1503_mask.png  \n",
            "  inflating: /content/__MACOSX/masks/._inline_1503_mask.png  \n",
            "  inflating: /content/masks/crossline_1238_mask.png  \n",
            "  inflating: /content/__MACOSX/masks/._crossline_1238_mask.png  \n",
            "  inflating: /content/masks/inline_1443_mask.png  \n",
            "  inflating: /content/__MACOSX/masks/._inline_1443_mask.png  \n",
            "  inflating: /content/masks/inline_1442_mask.png  \n",
            "  inflating: /content/__MACOSX/masks/._inline_1442_mask.png  \n",
            "  inflating: /content/masks/crossline_1239_mask.png  \n",
            "  inflating: /content/__MACOSX/masks/._crossline_1239_mask.png  \n",
            "  inflating: /content/masks/inline_1117_mask.png  \n",
            "  inflating: /content/__MACOSX/masks/._inline_1117_mask.png  \n",
            "  inflating: /content/masks/inline_1371_mask.png  \n",
            "  inflating: /content/__MACOSX/masks/._inline_1371_mask.png  \n",
            "  inflating: /content/masks/inline_1370_mask.png  \n",
            "  inflating: /content/__MACOSX/masks/._inline_1370_mask.png  \n",
            "  inflating: /content/masks/inline_1116_mask.png  \n",
            "  inflating: /content/__MACOSX/masks/._inline_1116_mask.png  \n",
            "  inflating: /content/masks/inline_1185_mask.png  \n",
            "  inflating: /content/__MACOSX/masks/._inline_1185_mask.png  \n",
            "  inflating: /content/masks/inline_1184_mask.png  \n",
            "  inflating: /content/__MACOSX/masks/._inline_1184_mask.png  \n",
            "  inflating: /content/masks/crossline_1330_mask.png  \n",
            "  inflating: /content/__MACOSX/masks/._crossline_1330_mask.png  \n",
            "  inflating: /content/masks/crossline_1156_mask.png  \n",
            "  inflating: /content/__MACOSX/masks/._crossline_1156_mask.png  \n",
            "  inflating: /content/masks/crossline_1157_mask.png  \n",
            "  inflating: /content/__MACOSX/masks/._crossline_1157_mask.png  \n",
            "  inflating: /content/masks/crossline_1331_mask.png  \n",
            "  inflating: /content/__MACOSX/masks/._crossline_1331_mask.png  \n",
            "  inflating: /content/masks/crossline_1402_mask.png  \n",
            "  inflating: /content/__MACOSX/masks/._crossline_1402_mask.png  \n",
            "  inflating: /content/masks/inline_1279_mask.png  \n",
            "  inflating: /content/__MACOSX/masks/._inline_1279_mask.png  \n",
            "  inflating: /content/masks/inline_1278_mask.png  \n",
            "  inflating: /content/__MACOSX/masks/._inline_1278_mask.png  \n",
            "  inflating: /content/masks/crossline_1403_mask.png  \n",
            "  inflating: /content/__MACOSX/masks/._crossline_1403_mask.png  \n",
            "  inflating: /content/masks/crossline_1304_mask.png  \n",
            "  inflating: /content/__MACOSX/masks/._crossline_1304_mask.png  \n",
            "  inflating: /content/masks/crossline_1162_mask.png  \n",
            "  inflating: /content/__MACOSX/masks/._crossline_1162_mask.png  \n",
            "  inflating: /content/masks/crossline_1163_mask.png  \n",
            "  inflating: /content/__MACOSX/masks/._crossline_1163_mask.png  \n",
            "  inflating: /content/masks/crossline_1305_mask.png  \n",
            "  inflating: /content/__MACOSX/masks/._crossline_1305_mask.png  \n",
            "  inflating: /content/masks/crossline_1436_mask.png  \n",
            "  inflating: /content/__MACOSX/masks/._crossline_1436_mask.png  \n",
            "  inflating: /content/masks/crossline_1437_mask.png  \n",
            "  inflating: /content/__MACOSX/masks/._crossline_1437_mask.png  \n",
            "  inflating: /content/masks/inline_1477_mask.png  \n",
            "  inflating: /content/__MACOSX/masks/._inline_1477_mask.png  \n",
            "  inflating: /content/masks/inline_1476_mask.png  \n",
            "  inflating: /content/__MACOSX/masks/._inline_1476_mask.png  \n",
            "  inflating: /content/masks/crossline_1396_mask.png  \n",
            "  inflating: /content/__MACOSX/masks/._crossline_1396_mask.png  \n",
            "  inflating: /content/masks/crossline_1397_mask.png  \n",
            "  inflating: /content/__MACOSX/masks/._crossline_1397_mask.png  \n",
            "  inflating: /content/masks/inline_1123_mask.png  \n",
            "  inflating: /content/__MACOSX/masks/._inline_1123_mask.png  \n",
            "  inflating: /content/masks/inline_1345_mask.png  \n",
            "  inflating: /content/__MACOSX/masks/._inline_1345_mask.png  \n",
            "  inflating: /content/masks/inline_1344_mask.png  \n",
            "  inflating: /content/__MACOSX/masks/._inline_1344_mask.png  \n",
            "  inflating: /content/masks/inline_1122_mask.png  \n",
            "  inflating: /content/__MACOSX/masks/._inline_1122_mask.png  \n",
            "  inflating: /content/masks/inline_1204_mask.png  \n",
            "  inflating: /content/__MACOSX/masks/._inline_1204_mask.png  \n",
            "  inflating: /content/masks/inline_1062_mask.png  \n",
            "  inflating: /content/__MACOSX/masks/._inline_1062_mask.png  \n",
            "  inflating: /content/masks/inline_1063_mask.png  \n",
            "  inflating: /content/__MACOSX/masks/._inline_1063_mask.png  \n",
            "  inflating: /content/masks/inline_1205_mask.png  \n",
            "  inflating: /content/__MACOSX/masks/._inline_1205_mask.png  \n",
            "  inflating: /content/masks/inline_1536_mask.png  \n",
            "  inflating: /content/__MACOSX/masks/._inline_1536_mask.png  \n",
            "  inflating: /content/masks/inline_1537_mask.png  \n",
            "  inflating: /content/__MACOSX/masks/._inline_1537_mask.png  \n",
            "  inflating: /content/masks/inline_1296_mask.png  \n",
            "  inflating: /content/__MACOSX/masks/._inline_1296_mask.png  \n",
            "  inflating: /content/masks/inline_1297_mask.png  \n",
            "  inflating: /content/__MACOSX/masks/._inline_1297_mask.png  \n",
            "  inflating: /content/masks/crossline_1023_mask.png  \n",
            "  inflating: /content/__MACOSX/masks/._crossline_1023_mask.png  \n",
            "  inflating: /content/masks/crossline_1245_mask.png  \n",
            "  inflating: /content/__MACOSX/masks/._crossline_1245_mask.png  \n",
            "  inflating: /content/masks/crossline_1244_mask.png  \n",
            "  inflating: /content/__MACOSX/masks/._crossline_1244_mask.png  \n",
            "  inflating: /content/masks/crossline_1022_mask.png  \n",
            "  inflating: /content/__MACOSX/masks/._crossline_1022_mask.png  \n",
            "  inflating: /content/masks/inline_1015_mask.png  \n",
            "  inflating: /content/__MACOSX/masks/._inline_1015_mask.png  \n",
            "  inflating: /content/masks/crossline_1408_mask.png  \n",
            "  inflating: /content/__MACOSX/masks/._crossline_1408_mask.png  \n",
            "  inflating: /content/masks/inline_1273_mask.png  \n",
            "  inflating: /content/__MACOSX/masks/._inline_1273_mask.png  \n",
            "  inflating: /content/masks/inline_1272_mask.png  \n",
            "  inflating: /content/__MACOSX/masks/._inline_1272_mask.png  \n",
            "  inflating: /content/masks/inline_1014_mask.png  \n",
            "  inflating: /content/__MACOSX/masks/._inline_1014_mask.png  \n",
            "  inflating: /content/masks/crossline_1409_mask.png  \n",
            "  inflating: /content/__MACOSX/masks/._crossline_1409_mask.png  \n",
            "  inflating: /content/masks/inline_1541_mask.png  \n",
            "  inflating: /content/__MACOSX/masks/._inline_1541_mask.png  \n",
            "  inflating: /content/masks/inline_1540_mask.png  \n",
            "  inflating: /content/__MACOSX/masks/._inline_1540_mask.png  \n",
            "  inflating: /content/masks/inline_1087_mask.png  \n",
            "  inflating: /content/__MACOSX/masks/._inline_1087_mask.png  \n",
            "  inflating: /content/masks/inline_1086_mask.png  \n",
            "  inflating: /content/__MACOSX/masks/._inline_1086_mask.png  \n",
            "  inflating: /content/masks/crossline_1232_mask.png  \n",
            "  inflating: /content/__MACOSX/masks/._crossline_1232_mask.png  \n",
            "  inflating: /content/masks/crossline_1054_mask.png  \n",
            "  inflating: /content/__MACOSX/masks/._crossline_1054_mask.png  \n",
            "  inflating: /content/masks/inline_1449_mask.png  \n",
            "  inflating: /content/__MACOSX/masks/._inline_1449_mask.png  \n",
            "  inflating: /content/masks/crossline_1055_mask.png  \n",
            "  inflating: /content/__MACOSX/masks/._crossline_1055_mask.png  \n",
            "  inflating: /content/masks/inline_1448_mask.png  \n",
            "  inflating: /content/__MACOSX/masks/._inline_1448_mask.png  \n",
            "  inflating: /content/masks/crossline_1233_mask.png  \n",
            "  inflating: /content/__MACOSX/masks/._crossline_1233_mask.png  \n",
            "  inflating: /content/masks/inline_1508_mask.png  \n",
            "  inflating: /content/__MACOSX/masks/._inline_1508_mask.png  \n",
            "  inflating: /content/masks/crossline_1115_mask.png  \n",
            "  inflating: /content/__MACOSX/masks/._crossline_1115_mask.png  \n",
            "  inflating: /content/masks/crossline_1373_mask.png  \n",
            "  inflating: /content/__MACOSX/masks/._crossline_1373_mask.png  \n",
            "  inflating: /content/masks/crossline_1372_mask.png  \n",
            "  inflating: /content/__MACOSX/masks/._crossline_1372_mask.png  \n",
            "  inflating: /content/masks/inline_1509_mask.png  \n",
            "  inflating: /content/__MACOSX/masks/._inline_1509_mask.png  \n",
            "  inflating: /content/masks/crossline_1114_mask.png  \n",
            "  inflating: /content/__MACOSX/masks/._crossline_1114_mask.png  \n",
            "  inflating: /content/masks/inline_1492_mask.png  \n",
            "  inflating: /content/__MACOSX/masks/._inline_1492_mask.png  \n",
            "  inflating: /content/masks/inline_1493_mask.png  \n",
            "  inflating: /content/__MACOSX/masks/._inline_1493_mask.png  \n",
            "  inflating: /content/masks/crossline_1441_mask.png  \n",
            "  inflating: /content/__MACOSX/masks/._crossline_1441_mask.png  \n",
            "  inflating: /content/masks/crossline_1440_mask.png  \n",
            "  inflating: /content/__MACOSX/masks/._crossline_1440_mask.png  \n",
            "  inflating: /content/masks/inline_1400_mask.png  \n",
            "  inflating: /content/__MACOSX/masks/._inline_1400_mask.png  \n",
            "  inflating: /content/masks/inline_1401_mask.png  \n",
            "  inflating: /content/__MACOSX/masks/._inline_1401_mask.png  \n",
            "  inflating: /content/masks/crossline_1187_mask.png  \n",
            "  inflating: /content/__MACOSX/masks/._crossline_1187_mask.png  \n",
            "  inflating: /content/masks/crossline_1186_mask.png  \n",
            "  inflating: /content/__MACOSX/masks/._crossline_1186_mask.png  \n",
            "  inflating: /content/masks/inline_1332_mask.png  \n",
            "  inflating: /content/__MACOSX/masks/._inline_1332_mask.png  \n",
            "  inflating: /content/masks/inline_1154_mask.png  \n",
            "  inflating: /content/__MACOSX/masks/._inline_1154_mask.png  \n",
            "  inflating: /content/masks/inline_1155_mask.png  \n",
            "  inflating: /content/__MACOSX/masks/._inline_1155_mask.png  \n",
            "  inflating: /content/masks/inline_1333_mask.png  \n",
            "  inflating: /content/__MACOSX/masks/._inline_1333_mask.png  \n",
            "  inflating: /content/masks/inline_1525_mask.png  \n",
            "  inflating: /content/__MACOSX/masks/._inline_1525_mask.png  \n",
            "  inflating: /content/masks/crossline_1138_mask.png  \n",
            "  inflating: /content/__MACOSX/masks/._crossline_1138_mask.png  \n",
            "  inflating: /content/masks/inline_1524_mask.png  \n",
            "  inflating: /content/__MACOSX/masks/._inline_1524_mask.png  \n",
            "  inflating: /content/masks/crossline_1139_mask.png  \n",
            "  inflating: /content/__MACOSX/masks/._crossline_1139_mask.png  \n",
            "  inflating: /content/masks/inline_1071_mask.png  \n",
            "  inflating: /content/__MACOSX/masks/._inline_1071_mask.png  \n",
            "  inflating: /content/masks/inline_1217_mask.png  \n",
            "  inflating: /content/__MACOSX/masks/._inline_1217_mask.png  \n",
            "  inflating: /content/masks/inline_1216_mask.png  \n",
            "  inflating: /content/__MACOSX/masks/._inline_1216_mask.png  \n",
            "  inflating: /content/masks/inline_1070_mask.png  \n",
            "  inflating: /content/__MACOSX/masks/._inline_1070_mask.png  \n",
            "  inflating: /content/masks/crossline_1256_mask.png  \n",
            "  inflating: /content/__MACOSX/masks/._crossline_1256_mask.png  \n",
            "  inflating: /content/masks/crossline_1030_mask.png  \n",
            "  inflating: /content/__MACOSX/masks/._crossline_1030_mask.png  \n",
            "  inflating: /content/masks/crossline_1031_mask.png  \n",
            "  inflating: /content/__MACOSX/masks/._crossline_1031_mask.png  \n",
            "  inflating: /content/masks/crossline_1257_mask.png  \n",
            "  inflating: /content/__MACOSX/masks/._crossline_1257_mask.png  \n",
            "  inflating: /content/masks/inline_1285_mask.png  \n",
            "  inflating: /content/__MACOSX/masks/._inline_1285_mask.png  \n",
            "  inflating: /content/masks/inline_1284_mask.png  \n",
            "  inflating: /content/__MACOSX/masks/._inline_1284_mask.png  \n",
            "  inflating: /content/masks/inline_1179_mask.png  \n",
            "  inflating: /content/__MACOSX/masks/._inline_1179_mask.png  \n",
            "  inflating: /content/masks/inline_1178_mask.png  \n",
            "  inflating: /content/__MACOSX/masks/._inline_1178_mask.png  \n",
            "  inflating: /content/masks/inline_1038_mask.png  \n",
            "  inflating: /content/__MACOSX/masks/._inline_1038_mask.png  \n",
            "  inflating: /content/masks/crossline_1425_mask.png  \n",
            "  inflating: /content/__MACOSX/masks/._crossline_1425_mask.png  \n",
            "  inflating: /content/masks/inline_1039_mask.png  \n",
            "  inflating: /content/__MACOSX/masks/._inline_1039_mask.png  \n",
            "  inflating: /content/masks/crossline_1424_mask.png  \n",
            "  inflating: /content/__MACOSX/masks/._crossline_1424_mask.png  \n",
            "  inflating: /content/masks/crossline_1171_mask.png  \n",
            "  inflating: /content/__MACOSX/masks/._crossline_1171_mask.png  \n",
            "  inflating: /content/masks/crossline_1317_mask.png  \n",
            "  inflating: /content/__MACOSX/masks/._crossline_1317_mask.png  \n",
            "  inflating: /content/masks/crossline_1316_mask.png  \n",
            "  inflating: /content/__MACOSX/masks/._crossline_1316_mask.png  \n",
            "  inflating: /content/masks/crossline_1170_mask.png  \n",
            "  inflating: /content/__MACOSX/masks/._crossline_1170_mask.png  \n",
            "  inflating: /content/masks/inline_1356_mask.png  \n",
            "  inflating: /content/__MACOSX/masks/._inline_1356_mask.png  \n",
            "  inflating: /content/masks/inline_1130_mask.png  \n",
            "  inflating: /content/__MACOSX/masks/._inline_1130_mask.png  \n",
            "  inflating: /content/masks/inline_1131_mask.png  \n",
            "  inflating: /content/__MACOSX/masks/._inline_1131_mask.png  \n",
            "  inflating: /content/masks/inline_1357_mask.png  \n",
            "  inflating: /content/__MACOSX/masks/._inline_1357_mask.png  \n",
            "  inflating: /content/masks/crossline_1385_mask.png  \n",
            "  inflating: /content/__MACOSX/masks/._crossline_1385_mask.png  \n",
            "  inflating: /content/masks/crossline_1384_mask.png  \n",
            "  inflating: /content/__MACOSX/masks/._crossline_1384_mask.png  \n",
            "  inflating: /content/masks/crossline_1079_mask.png  \n",
            "  inflating: /content/__MACOSX/masks/._crossline_1079_mask.png  \n",
            "  inflating: /content/masks/inline_1464_mask.png  \n",
            "  inflating: /content/__MACOSX/masks/._inline_1464_mask.png  \n",
            "  inflating: /content/masks/crossline_1078_mask.png  \n",
            "  inflating: /content/__MACOSX/masks/._crossline_1078_mask.png  \n",
            "  inflating: /content/masks/inline_1465_mask.png  \n",
            "  inflating: /content/__MACOSX/masks/._inline_1465_mask.png  \n",
            "  inflating: /content/masks/crossline_1452_mask.png  \n",
            "  inflating: /content/__MACOSX/masks/._crossline_1452_mask.png  \n",
            "  inflating: /content/masks/inline_1229_mask.png  \n",
            "  inflating: /content/__MACOSX/masks/._inline_1229_mask.png  \n",
            "  inflating: /content/masks/inline_1228_mask.png  \n",
            "  inflating: /content/__MACOSX/masks/._inline_1228_mask.png  \n",
            "  inflating: /content/masks/crossline_1453_mask.png  \n",
            "  inflating: /content/__MACOSX/masks/._crossline_1453_mask.png  \n",
            "  inflating: /content/masks/inline_1481_mask.png  \n",
            "  inflating: /content/__MACOSX/masks/._inline_1481_mask.png  \n",
            "  inflating: /content/masks/inline_1480_mask.png  \n",
            "  inflating: /content/__MACOSX/masks/._inline_1480_mask.png  \n",
            "  inflating: /content/masks/crossline_1360_mask.png  \n",
            "  inflating: /content/__MACOSX/masks/._crossline_1360_mask.png  \n",
            "  inflating: /content/masks/crossline_1106_mask.png  \n",
            "  inflating: /content/__MACOSX/masks/._crossline_1106_mask.png  \n",
            "  inflating: /content/masks/crossline_1107_mask.png  \n",
            "  inflating: /content/__MACOSX/masks/._crossline_1107_mask.png  \n",
            "  inflating: /content/masks/crossline_1361_mask.png  \n",
            "  inflating: /content/__MACOSX/masks/._crossline_1361_mask.png  \n",
            "  inflating: /content/masks/inline_1147_mask.png  \n",
            "  inflating: /content/__MACOSX/masks/._inline_1147_mask.png  \n",
            "  inflating: /content/masks/inline_1321_mask.png  \n",
            "  inflating: /content/__MACOSX/masks/._inline_1321_mask.png  \n",
            "  inflating: /content/masks/inline_1320_mask.png  \n",
            "  inflating: /content/__MACOSX/masks/._inline_1320_mask.png  \n",
            "  inflating: /content/masks/inline_1146_mask.png  \n",
            "  inflating: /content/__MACOSX/masks/._inline_1146_mask.png  \n",
            "  inflating: /content/masks/crossline_1194_mask.png  \n",
            "  inflating: /content/__MACOSX/masks/._crossline_1194_mask.png  \n",
            "  inflating: /content/masks/inline_1589_mask.png  \n",
            "  inflating: /content/__MACOSX/masks/._inline_1589_mask.png  \n",
            "  inflating: /content/masks/crossline_1195_mask.png  \n",
            "  inflating: /content/__MACOSX/masks/._crossline_1195_mask.png  \n",
            "  inflating: /content/masks/inline_1588_mask.png  \n",
            "  inflating: /content/__MACOSX/masks/._inline_1588_mask.png  \n",
            "  inflating: /content/masks/crossline_1268_mask.png  \n",
            "  inflating: /content/__MACOSX/masks/._crossline_1268_mask.png  \n",
            "  inflating: /content/masks/inline_1413_mask.png  \n",
            "  inflating: /content/__MACOSX/masks/._inline_1413_mask.png  \n",
            "  inflating: /content/masks/inline_1412_mask.png  \n",
            "  inflating: /content/__MACOSX/masks/._inline_1412_mask.png  \n",
            "  inflating: /content/masks/crossline_1269_mask.png  \n",
            "  inflating: /content/__MACOSX/masks/._crossline_1269_mask.png  \n",
            "  inflating: /content/masks/inline_1552_mask.png  \n",
            "  inflating: /content/__MACOSX/masks/._inline_1552_mask.png  \n",
            "  inflating: /content/masks/crossline_1329_mask.png  \n",
            "  inflating: /content/__MACOSX/masks/._crossline_1329_mask.png  \n",
            "  inflating: /content/masks/crossline_1328_mask.png  \n",
            "  inflating: /content/__MACOSX/masks/._crossline_1328_mask.png  \n",
            "  inflating: /content/masks/inline_1553_mask.png  \n",
            "  inflating: /content/__MACOSX/masks/._inline_1553_mask.png  \n",
            "  inflating: /content/masks/inline_1260_mask.png  \n",
            "  inflating: /content/__MACOSX/masks/._inline_1260_mask.png  \n",
            "  inflating: /content/masks/inline_1006_mask.png  \n",
            "  inflating: /content/__MACOSX/masks/._inline_1006_mask.png  \n",
            "  inflating: /content/masks/inline_1007_mask.png  \n",
            "  inflating: /content/__MACOSX/masks/._inline_1007_mask.png  \n",
            "  inflating: /content/masks/inline_1261_mask.png  \n",
            "  inflating: /content/__MACOSX/masks/._inline_1261_mask.png  \n",
            "  inflating: /content/masks/crossline_1047_mask.png  \n",
            "  inflating: /content/__MACOSX/masks/._crossline_1047_mask.png  \n",
            "  inflating: /content/masks/crossline_1221_mask.png  \n",
            "  inflating: /content/__MACOSX/masks/._crossline_1221_mask.png  \n",
            "  inflating: /content/masks/crossline_1220_mask.png  \n",
            "  inflating: /content/__MACOSX/masks/._crossline_1220_mask.png  \n",
            "  inflating: /content/masks/crossline_1046_mask.png  \n",
            "  inflating: /content/__MACOSX/masks/._crossline_1046_mask.png  \n",
            "  inflating: /content/masks/inline_1094_mask.png  \n",
            "  inflating: /content/__MACOSX/masks/._inline_1094_mask.png  \n",
            "  inflating: /content/masks/inline_1095_mask.png  \n",
            "  inflating: /content/__MACOSX/masks/._inline_1095_mask.png  \n",
            "  inflating: /content/masks/inline_1368_mask.png  \n",
            "  inflating: /content/__MACOSX/masks/._inline_1368_mask.png  \n",
            "  inflating: /content/masks/inline_1369_mask.png  \n",
            "  inflating: /content/__MACOSX/masks/._inline_1369_mask.png  \n",
            "  inflating: /content/masks/crossline_1073_mask.png  \n",
            "  inflating: /content/__MACOSX/masks/._crossline_1073_mask.png  \n",
            "  inflating: /content/masks/crossline_1215_mask.png  \n",
            "  inflating: /content/__MACOSX/masks/._crossline_1215_mask.png  \n",
            "  inflating: /content/masks/crossline_1214_mask.png  \n",
            "  inflating: /content/__MACOSX/masks/._crossline_1214_mask.png  \n",
            "  inflating: /content/masks/crossline_1072_mask.png  \n",
            "  inflating: /content/__MACOSX/masks/._crossline_1072_mask.png  \n",
            "  inflating: /content/masks/inline_1566_mask.png  \n",
            "  inflating: /content/__MACOSX/masks/._inline_1566_mask.png  \n",
            "  inflating: /content/masks/inline_1567_mask.png  \n",
            "  inflating: /content/__MACOSX/masks/._inline_1567_mask.png  \n",
            "  inflating: /content/masks/inline_1254_mask.png  \n",
            "  inflating: /content/__MACOSX/masks/._inline_1254_mask.png  \n",
            "  inflating: /content/masks/inline_1032_mask.png  \n",
            "  inflating: /content/__MACOSX/masks/._inline_1032_mask.png  \n",
            "  inflating: /content/masks/inline_1033_mask.png  \n",
            "  inflating: /content/__MACOSX/masks/._inline_1033_mask.png  \n",
            "  inflating: /content/masks/inline_1255_mask.png  \n",
            "  inflating: /content/__MACOSX/masks/._inline_1255_mask.png  \n",
            "  inflating: /content/masks/crossline_1287_mask.png  \n",
            "  inflating: /content/__MACOSX/masks/._crossline_1287_mask.png  \n",
            "  inflating: /content/masks/crossline_1286_mask.png  \n",
            "  inflating: /content/__MACOSX/masks/._crossline_1286_mask.png  \n",
            "  inflating: /content/masks/inline_1173_mask.png  \n",
            "  inflating: /content/__MACOSX/masks/._inline_1173_mask.png  \n",
            "  inflating: /content/masks/inline_1315_mask.png  \n",
            "  inflating: /content/__MACOSX/masks/._inline_1315_mask.png  \n",
            "  inflating: /content/masks/inline_1314_mask.png  \n",
            "  inflating: /content/__MACOSX/masks/._inline_1314_mask.png  \n",
            "  inflating: /content/masks/inline_1172_mask.png  \n",
            "  inflating: /content/__MACOSX/masks/._inline_1172_mask.png  \n",
            "  inflating: /content/masks/inline_1427_mask.png  \n",
            "  inflating: /content/__MACOSX/masks/._inline_1427_mask.png  \n",
            "  inflating: /content/masks/inline_1426_mask.png  \n",
            "  inflating: /content/__MACOSX/masks/._inline_1426_mask.png  \n",
            "  inflating: /content/masks/crossline_1466_mask.png  \n",
            "  inflating: /content/__MACOSX/masks/._crossline_1466_mask.png  \n",
            "  inflating: /content/masks/crossline_1467_mask.png  \n",
            "  inflating: /content/__MACOSX/masks/._crossline_1467_mask.png  \n",
            "  inflating: /content/masks/crossline_1354_mask.png  \n",
            "  inflating: /content/__MACOSX/masks/._crossline_1354_mask.png  \n",
            "  inflating: /content/masks/crossline_1132_mask.png  \n",
            "  inflating: /content/__MACOSX/masks/._crossline_1132_mask.png  \n",
            "  inflating: /content/masks/crossline_1133_mask.png  \n",
            "  inflating: /content/__MACOSX/masks/._crossline_1133_mask.png  \n",
            "  inflating: /content/masks/crossline_1355_mask.png  \n",
            "  inflating: /content/__MACOSX/masks/._crossline_1355_mask.png  \n",
            "  inflating: /content/masks/inline_1387_mask.png  \n",
            "  inflating: /content/__MACOSX/masks/._inline_1387_mask.png  \n",
            "  inflating: /content/masks/inline_1386_mask.png  \n",
            "  inflating: /content/__MACOSX/masks/._inline_1386_mask.png  \n",
            "  inflating: /content/masks/inline_1362_mask.png  \n",
            "  inflating: /content/__MACOSX/masks/._inline_1362_mask.png  \n",
            "  inflating: /content/masks/inline_1104_mask.png  \n",
            "  inflating: /content/__MACOSX/masks/._inline_1104_mask.png  \n",
            "  inflating: /content/masks/inline_1105_mask.png  \n",
            "  inflating: /content/__MACOSX/masks/._inline_1105_mask.png  \n",
            "  inflating: /content/masks/inline_1363_mask.png  \n",
            "  inflating: /content/__MACOSX/masks/._inline_1363_mask.png  \n",
            "  inflating: /content/masks/inline_1450_mask.png  \n",
            "  inflating: /content/__MACOSX/masks/._inline_1450_mask.png  \n",
            "  inflating: /content/masks/inline_1451_mask.png  \n",
            "  inflating: /content/__MACOSX/masks/._inline_1451_mask.png  \n",
            "  inflating: /content/masks/crossline_1411_mask.png  \n",
            "  inflating: /content/__MACOSX/masks/._crossline_1411_mask.png  \n",
            "  inflating: /content/masks/crossline_1410_mask.png  \n",
            "  inflating: /content/__MACOSX/masks/._crossline_1410_mask.png  \n",
            "  inflating: /content/masks/crossline_1145_mask.png  \n",
            "  inflating: /content/__MACOSX/masks/._crossline_1145_mask.png  \n",
            "  inflating: /content/masks/inline_1558_mask.png  \n",
            "  inflating: /content/__MACOSX/masks/._inline_1558_mask.png  \n",
            "  inflating: /content/masks/crossline_1323_mask.png  \n",
            "  inflating: /content/__MACOSX/masks/._crossline_1323_mask.png  \n",
            "  inflating: /content/masks/crossline_1322_mask.png  \n",
            "  inflating: /content/__MACOSX/masks/._crossline_1322_mask.png  \n",
            "  inflating: /content/masks/crossline_1144_mask.png  \n",
            "  inflating: /content/__MACOSX/masks/._crossline_1144_mask.png  \n",
            "  inflating: /content/masks/inline_1559_mask.png  \n",
            "  inflating: /content/__MACOSX/masks/._inline_1559_mask.png  \n",
            "  inflating: /content/masks/inline_1196_mask.png  \n",
            "  inflating: /content/__MACOSX/masks/._inline_1196_mask.png  \n",
            "  inflating: /content/masks/inline_1197_mask.png  \n",
            "  inflating: /content/__MACOSX/masks/._inline_1197_mask.png  \n",
            "  inflating: /content/masks/crossline_1262_mask.png  \n",
            "  inflating: /content/__MACOSX/masks/._crossline_1262_mask.png  \n",
            "  inflating: /content/masks/inline_1419_mask.png  \n",
            "  inflating: /content/__MACOSX/masks/._inline_1419_mask.png  \n",
            "  inflating: /content/masks/crossline_1004_mask.png  \n",
            "  inflating: /content/__MACOSX/masks/._crossline_1004_mask.png  \n",
            "  inflating: /content/masks/inline_1418_mask.png  \n",
            "  inflating: /content/__MACOSX/masks/._inline_1418_mask.png  \n",
            "  inflating: /content/masks/crossline_1005_mask.png  \n",
            "  inflating: /content/__MACOSX/masks/._crossline_1005_mask.png  \n",
            "  inflating: /content/masks/crossline_1263_mask.png  \n",
            "  inflating: /content/__MACOSX/masks/._crossline_1263_mask.png  \n",
            "  inflating: /content/masks/inline_1583_mask.png  \n",
            "  inflating: /content/__MACOSX/masks/._inline_1583_mask.png  \n",
            "  inflating: /content/masks/inline_1582_mask.png  \n",
            "  inflating: /content/__MACOSX/masks/._inline_1582_mask.png  \n",
            "  inflating: /content/masks/inline_1511_mask.png  \n",
            "  inflating: /content/__MACOSX/masks/._inline_1511_mask.png  \n",
            "  inflating: /content/masks/inline_1510_mask.png  \n",
            "  inflating: /content/__MACOSX/masks/._inline_1510_mask.png  \n",
            "  inflating: /content/masks/crossline_1458_mask.png  \n",
            "  inflating: /content/__MACOSX/masks/._crossline_1458_mask.png  \n",
            "  inflating: /content/masks/inline_1045_mask.png  \n",
            "  inflating: /content/__MACOSX/masks/._inline_1045_mask.png  \n",
            "  inflating: /content/masks/inline_1223_mask.png  \n",
            "  inflating: /content/__MACOSX/masks/._inline_1223_mask.png  \n",
            "  inflating: /content/masks/inline_1222_mask.png  \n",
            "  inflating: /content/__MACOSX/masks/._inline_1222_mask.png  \n",
            "  inflating: /content/masks/crossline_1459_mask.png  \n",
            "  inflating: /content/__MACOSX/masks/._crossline_1459_mask.png  \n",
            "  inflating: /content/masks/inline_1044_mask.png  \n",
            "  inflating: /content/__MACOSX/masks/._inline_1044_mask.png  \n",
            "  inflating: /content/masks/crossline_1096_mask.png  \n",
            "  inflating: /content/__MACOSX/masks/._crossline_1096_mask.png  \n",
            "  inflating: /content/masks/crossline_1097_mask.png  \n",
            "  inflating: /content/__MACOSX/masks/._crossline_1097_mask.png  \n",
            "  inflating: /content/masks/crossline_1392_mask.png  \n",
            "  inflating: /content/__MACOSX/masks/._crossline_1392_mask.png  \n",
            "  inflating: /content/masks/crossline_1393_mask.png  \n",
            "  inflating: /content/__MACOSX/masks/._crossline_1393_mask.png  \n",
            "  inflating: /content/masks/inline_1341_mask.png  \n",
            "  inflating: /content/__MACOSX/masks/._inline_1341_mask.png  \n",
            "  inflating: /content/masks/inline_1127_mask.png  \n",
            "  inflating: /content/__MACOSX/masks/._inline_1127_mask.png  \n",
            "  inflating: /content/masks/inline_1126_mask.png  \n",
            "  inflating: /content/__MACOSX/masks/._inline_1126_mask.png  \n",
            "  inflating: /content/masks/inline_1340_mask.png  \n",
            "  inflating: /content/__MACOSX/masks/._inline_1340_mask.png  \n",
            "  inflating: /content/masks/inline_1473_mask.png  \n",
            "  inflating: /content/__MACOSX/masks/._inline_1473_mask.png  \n",
            "  inflating: /content/masks/crossline_1208_mask.png  \n",
            "  inflating: /content/__MACOSX/masks/._crossline_1208_mask.png  \n",
            "  inflating: /content/masks/crossline_1209_mask.png  \n",
            "  inflating: /content/__MACOSX/masks/._crossline_1209_mask.png  \n",
            "  inflating: /content/masks/inline_1472_mask.png  \n",
            "  inflating: /content/__MACOSX/masks/._inline_1472_mask.png  \n",
            "  inflating: /content/masks/inline_1249_mask.png  \n",
            "  inflating: /content/__MACOSX/masks/._inline_1249_mask.png  \n",
            "  inflating: /content/masks/crossline_1432_mask.png  \n",
            "  inflating: /content/__MACOSX/masks/._crossline_1432_mask.png  \n",
            "  inflating: /content/masks/crossline_1433_mask.png  \n",
            "  inflating: /content/__MACOSX/masks/._crossline_1433_mask.png  \n",
            "  inflating: /content/masks/inline_1248_mask.png  \n",
            "  inflating: /content/__MACOSX/masks/._inline_1248_mask.png  \n",
            "  inflating: /content/masks/crossline_1166_mask.png  \n",
            "  inflating: /content/__MACOSX/masks/._crossline_1166_mask.png  \n",
            "  inflating: /content/masks/crossline_1300_mask.png  \n",
            "  inflating: /content/__MACOSX/masks/._crossline_1300_mask.png  \n",
            "  inflating: /content/masks/crossline_1301_mask.png  \n",
            "  inflating: /content/__MACOSX/masks/._crossline_1301_mask.png  \n",
            "  inflating: /content/masks/crossline_1167_mask.png  \n",
            "  inflating: /content/__MACOSX/masks/._crossline_1167_mask.png  \n",
            "  inflating: /content/masks/inline_1292_mask.png  \n",
            "  inflating: /content/__MACOSX/masks/._inline_1292_mask.png  \n",
            "  inflating: /content/masks/inline_1293_mask.png  \n",
            "  inflating: /content/__MACOSX/masks/._inline_1293_mask.png  \n",
            "  inflating: /content/masks/crossline_1241_mask.png  \n",
            "  inflating: /content/__MACOSX/masks/._crossline_1241_mask.png  \n",
            "  inflating: /content/masks/crossline_1027_mask.png  \n",
            "  inflating: /content/__MACOSX/masks/._crossline_1027_mask.png  \n",
            "  inflating: /content/masks/crossline_1026_mask.png  \n",
            "  inflating: /content/__MACOSX/masks/._crossline_1026_mask.png  \n",
            "  inflating: /content/masks/crossline_1240_mask.png  \n",
            "  inflating: /content/__MACOSX/masks/._crossline_1240_mask.png  \n",
            "  inflating: /content/masks/inline_1308_mask.png  \n",
            "  inflating: /content/__MACOSX/masks/._inline_1308_mask.png  \n",
            "  inflating: /content/masks/inline_1309_mask.png  \n",
            "  inflating: /content/__MACOSX/masks/._inline_1309_mask.png  \n",
            "  inflating: /content/masks/crossline_1349_mask.png  \n",
            "  inflating: /content/__MACOSX/masks/._crossline_1349_mask.png  \n",
            "  inflating: /content/masks/inline_1532_mask.png  \n",
            "  inflating: /content/__MACOSX/masks/._inline_1532_mask.png  \n",
            "  inflating: /content/masks/inline_1533_mask.png  \n",
            "  inflating: /content/__MACOSX/masks/._inline_1533_mask.png  \n",
            "  inflating: /content/masks/crossline_1348_mask.png  \n",
            "  inflating: /content/__MACOSX/masks/._crossline_1348_mask.png  \n",
            "  inflating: /content/masks/inline_1066_mask.png  \n",
            "  inflating: /content/__MACOSX/masks/._inline_1066_mask.png  \n",
            "  inflating: /content/masks/inline_1200_mask.png  \n",
            "  inflating: /content/__MACOSX/masks/._inline_1200_mask.png  \n",
            "  inflating: /content/masks/inline_1201_mask.png  \n",
            "  inflating: /content/__MACOSX/masks/._inline_1201_mask.png  \n",
            "  inflating: /content/masks/inline_1067_mask.png  \n",
            "  inflating: /content/__MACOSX/masks/._inline_1067_mask.png  \n",
            "  inflating: /content/masks/inline_1083_mask.png  \n",
            "  inflating: /content/__MACOSX/masks/._inline_1083_mask.png  \n",
            "  inflating: /content/masks/inline_1082_mask.png  \n",
            "  inflating: /content/__MACOSX/masks/._inline_1082_mask.png  \n",
            "  inflating: /content/masks/crossline_1050_mask.png  \n",
            "  inflating: /content/__MACOSX/masks/._crossline_1050_mask.png  \n",
            "  inflating: /content/masks/crossline_1236_mask.png  \n",
            "  inflating: /content/__MACOSX/masks/._crossline_1236_mask.png  \n",
            "  inflating: /content/masks/crossline_1237_mask.png  \n",
            "  inflating: /content/__MACOSX/masks/._crossline_1237_mask.png  \n",
            "  inflating: /content/masks/crossline_1051_mask.png  \n",
            "  inflating: /content/__MACOSX/masks/._crossline_1051_mask.png  \n",
            "  inflating: /content/masks/inline_1119_mask.png  \n",
            "  inflating: /content/__MACOSX/masks/._inline_1119_mask.png  \n",
            "  inflating: /content/masks/inline_1118_mask.png  \n",
            "  inflating: /content/__MACOSX/masks/._inline_1118_mask.png  \n",
            "  inflating: /content/masks/crossline_1158_mask.png  \n",
            "  inflating: /content/__MACOSX/masks/._crossline_1158_mask.png  \n",
            "  inflating: /content/masks/inline_1545_mask.png  \n",
            "  inflating: /content/__MACOSX/masks/._inline_1545_mask.png  \n",
            "  inflating: /content/masks/crossline_1159_mask.png  \n",
            "  inflating: /content/__MACOSX/masks/._crossline_1159_mask.png  \n",
            "  inflating: /content/masks/inline_1544_mask.png  \n",
            "  inflating: /content/__MACOSX/masks/._inline_1544_mask.png  \n",
            "  inflating: /content/masks/inline_1277_mask.png  \n",
            "  inflating: /content/__MACOSX/masks/._inline_1277_mask.png  \n",
            "  inflating: /content/masks/inline_1011_mask.png  \n",
            "  inflating: /content/__MACOSX/masks/._inline_1011_mask.png  \n",
            "  inflating: /content/masks/inline_1010_mask.png  \n",
            "  inflating: /content/__MACOSX/masks/._inline_1010_mask.png  \n",
            "  inflating: /content/masks/inline_1276_mask.png  \n",
            "  inflating: /content/__MACOSX/masks/._inline_1276_mask.png  \n",
            "  inflating: /content/masks/crossline_1183_mask.png  \n",
            "  inflating: /content/__MACOSX/masks/._crossline_1183_mask.png  \n",
            "  inflating: /content/masks/crossline_1182_mask.png  \n",
            "  inflating: /content/__MACOSX/masks/._crossline_1182_mask.png  \n",
            "  inflating: /content/masks/inline_1150_mask.png  \n",
            "  inflating: /content/__MACOSX/masks/._inline_1150_mask.png  \n",
            "  inflating: /content/masks/inline_1336_mask.png  \n",
            "  inflating: /content/__MACOSX/masks/._inline_1336_mask.png  \n",
            "  inflating: /content/masks/inline_1337_mask.png  \n",
            "  inflating: /content/__MACOSX/masks/._inline_1337_mask.png  \n",
            "  inflating: /content/masks/inline_1151_mask.png  \n",
            "  inflating: /content/__MACOSX/masks/._inline_1151_mask.png  \n",
            "  inflating: /content/masks/inline_1404_mask.png  \n",
            "  inflating: /content/__MACOSX/masks/._inline_1404_mask.png  \n",
            "  inflating: /content/masks/crossline_1019_mask.png  \n",
            "  inflating: /content/__MACOSX/masks/._crossline_1019_mask.png  \n",
            "  inflating: /content/masks/inline_1405_mask.png  \n",
            "  inflating: /content/__MACOSX/masks/._inline_1405_mask.png  \n",
            "  inflating: /content/masks/crossline_1018_mask.png  \n",
            "  inflating: /content/__MACOSX/masks/._crossline_1018_mask.png  \n",
            "  inflating: /content/masks/inline_1496_mask.png  \n",
            "  inflating: /content/__MACOSX/masks/._inline_1496_mask.png  \n",
            "  inflating: /content/masks/inline_1497_mask.png  \n",
            "  inflating: /content/__MACOSX/masks/._inline_1497_mask.png  \n",
            "  inflating: /content/masks/crossline_1445_mask.png  \n",
            "  inflating: /content/__MACOSX/masks/._crossline_1445_mask.png  \n",
            "  inflating: /content/masks/inline_1058_mask.png  \n",
            "  inflating: /content/__MACOSX/masks/._inline_1058_mask.png  \n",
            "  inflating: /content/masks/crossline_1444_mask.png  \n",
            "  inflating: /content/__MACOSX/masks/._crossline_1444_mask.png  \n",
            "  inflating: /content/masks/inline_1059_mask.png  \n",
            "  inflating: /content/__MACOSX/masks/._inline_1059_mask.png  \n",
            "  inflating: /content/masks/crossline_1377_mask.png  \n",
            "  inflating: /content/__MACOSX/masks/._crossline_1377_mask.png  \n",
            "  inflating: /content/masks/crossline_1111_mask.png  \n",
            "  inflating: /content/__MACOSX/masks/._crossline_1111_mask.png  \n",
            "  inflating: /content/masks/crossline_1110_mask.png  \n",
            "  inflating: /content/__MACOSX/masks/._crossline_1110_mask.png  \n",
            "  inflating: /content/masks/crossline_1376_mask.png  \n",
            "  inflating: /content/__MACOSX/masks/._crossline_1376_mask.png  \n",
            "  inflating: /content/masks/crossline_1471_mask.png  \n",
            "  inflating: /content/__MACOSX/masks/._crossline_1471_mask.png  \n",
            "  inflating: /content/masks/crossline_1470_mask.png  \n",
            "  inflating: /content/__MACOSX/masks/._crossline_1470_mask.png  \n",
            "  inflating: /content/masks/inline_1390_mask.png  \n",
            "  inflating: /content/__MACOSX/masks/._inline_1390_mask.png  \n",
            "  inflating: /content/masks/inline_1391_mask.png  \n",
            "  inflating: /content/__MACOSX/masks/._inline_1391_mask.png  \n",
            "  inflating: /content/masks/crossline_1343_mask.png  \n",
            "  inflating: /content/__MACOSX/masks/._crossline_1343_mask.png  \n",
            "  inflating: /content/masks/inline_1538_mask.png  \n",
            "  inflating: /content/__MACOSX/masks/._inline_1538_mask.png  \n",
            "  inflating: /content/masks/crossline_1125_mask.png  \n",
            "  inflating: /content/__MACOSX/masks/._crossline_1125_mask.png  \n",
            "  inflating: /content/masks/inline_1539_mask.png  \n",
            "  inflating: /content/__MACOSX/masks/._inline_1539_mask.png  \n",
            "  inflating: /content/masks/crossline_1124_mask.png  \n",
            "  inflating: /content/__MACOSX/masks/._crossline_1124_mask.png  \n",
            "  inflating: /content/masks/crossline_1342_mask.png  \n",
            "  inflating: /content/__MACOSX/masks/._crossline_1342_mask.png  \n",
            "  inflating: /content/masks/inline_1164_mask.png  \n",
            "  inflating: /content/__MACOSX/masks/._inline_1164_mask.png  \n",
            "  inflating: /content/masks/inline_1302_mask.png  \n",
            "  inflating: /content/__MACOSX/masks/._inline_1302_mask.png  \n",
            "  inflating: /content/masks/inline_1303_mask.png  \n",
            "  inflating: /content/__MACOSX/masks/._inline_1303_mask.png  \n",
            "  inflating: /content/masks/inline_1165_mask.png  \n",
            "  inflating: /content/__MACOSX/masks/._inline_1165_mask.png  \n",
            "  inflating: /content/masks/inline_1298_mask.png  \n",
            "  inflating: /content/__MACOSX/masks/._inline_1298_mask.png  \n",
            "  inflating: /content/masks/inline_1299_mask.png  \n",
            "  inflating: /content/__MACOSX/masks/._inline_1299_mask.png  \n",
            "  inflating: /content/masks/inline_1430_mask.png  \n",
            "  inflating: /content/__MACOSX/masks/._inline_1430_mask.png  \n",
            "  inflating: /content/masks/inline_1431_mask.png  \n",
            "  inflating: /content/__MACOSX/masks/._inline_1431_mask.png  \n",
            "  inflating: /content/masks/inline_1571_mask.png  \n",
            "  inflating: /content/__MACOSX/masks/._inline_1571_mask.png  \n",
            "  inflating: /content/masks/inline_1570_mask.png  \n",
            "  inflating: /content/__MACOSX/masks/._inline_1570_mask.png  \n",
            "  inflating: /content/masks/crossline_1290_mask.png  \n",
            "  inflating: /content/__MACOSX/masks/._crossline_1290_mask.png  \n",
            "  inflating: /content/masks/crossline_1291_mask.png  \n",
            "  inflating: /content/__MACOSX/masks/._crossline_1291_mask.png  \n",
            "  inflating: /content/masks/inline_1243_mask.png  \n",
            "  inflating: /content/__MACOSX/masks/._inline_1243_mask.png  \n",
            "  inflating: /content/masks/inline_1025_mask.png  \n",
            "  inflating: /content/__MACOSX/masks/._inline_1025_mask.png  \n",
            "  inflating: /content/masks/crossline_1438_mask.png  \n",
            "  inflating: /content/__MACOSX/masks/._crossline_1438_mask.png  \n",
            "  inflating: /content/masks/inline_1024_mask.png  \n",
            "  inflating: /content/__MACOSX/masks/._inline_1024_mask.png  \n",
            "  inflating: /content/masks/crossline_1439_mask.png  \n",
            "  inflating: /content/__MACOSX/masks/._crossline_1439_mask.png  \n",
            "  inflating: /content/masks/inline_1242_mask.png  \n",
            "  inflating: /content/__MACOSX/masks/._inline_1242_mask.png  \n",
            "  inflating: /content/masks/crossline_1064_mask.png  \n",
            "  inflating: /content/__MACOSX/masks/._crossline_1064_mask.png  \n",
            "  inflating: /content/masks/inline_1479_mask.png  \n",
            "  inflating: /content/__MACOSX/masks/._inline_1479_mask.png  \n",
            "  inflating: /content/masks/crossline_1202_mask.png  \n",
            "  inflating: /content/__MACOSX/masks/._crossline_1202_mask.png  \n",
            "  inflating: /content/masks/crossline_1203_mask.png  \n",
            "  inflating: /content/__MACOSX/masks/._crossline_1203_mask.png  \n",
            "  inflating: /content/masks/crossline_1065_mask.png  \n",
            "  inflating: /content/__MACOSX/masks/._crossline_1065_mask.png  \n",
            "  inflating: /content/masks/inline_1478_mask.png  \n",
            "  inflating: /content/__MACOSX/masks/._inline_1478_mask.png  \n",
            "  inflating: /content/masks/crossline_1398_mask.png  \n",
            "  inflating: /content/__MACOSX/masks/._crossline_1398_mask.png  \n",
            "  inflating: /content/masks/crossline_1399_mask.png  \n",
            "  inflating: /content/__MACOSX/masks/._crossline_1399_mask.png  \n",
            "  inflating: /content/masks/inline_1506_mask.png  \n",
            "  inflating: /content/__MACOSX/masks/._inline_1506_mask.png  \n",
            "  inflating: /content/masks/inline_1507_mask.png  \n",
            "  inflating: /content/__MACOSX/masks/._inline_1507_mask.png  \n",
            "  inflating: /content/masks/crossline_1081_mask.png  \n",
            "  inflating: /content/__MACOSX/masks/._crossline_1081_mask.png  \n",
            "  inflating: /content/masks/crossline_1080_mask.png  \n",
            "  inflating: /content/__MACOSX/masks/._crossline_1080_mask.png  \n",
            "  inflating: /content/masks/inline_1052_mask.png  \n",
            "  inflating: /content/__MACOSX/masks/._inline_1052_mask.png  \n",
            "  inflating: /content/masks/inline_1234_mask.png  \n",
            "  inflating: /content/__MACOSX/masks/._inline_1234_mask.png  \n",
            "  inflating: /content/masks/inline_1235_mask.png  \n",
            "  inflating: /content/__MACOSX/masks/._inline_1235_mask.png  \n",
            "  inflating: /content/masks/inline_1053_mask.png  \n",
            "  inflating: /content/__MACOSX/masks/._inline_1053_mask.png  \n",
            "  inflating: /content/masks/crossline_1275_mask.png  \n",
            "  inflating: /content/__MACOSX/masks/._crossline_1275_mask.png  \n",
            "  inflating: /content/masks/crossline_1013_mask.png  \n",
            "  inflating: /content/__MACOSX/masks/._crossline_1013_mask.png  \n",
            "  inflating: /content/masks/crossline_1012_mask.png  \n",
            "  inflating: /content/__MACOSX/masks/._crossline_1012_mask.png  \n",
            "  inflating: /content/masks/crossline_1274_mask.png  \n",
            "  inflating: /content/__MACOSX/masks/._crossline_1274_mask.png  \n",
            "  inflating: /content/masks/crossline_1189_mask.png  \n",
            "  inflating: /content/__MACOSX/masks/._crossline_1189_mask.png  \n",
            "  inflating: /content/masks/inline_1594_mask.png  \n",
            "  inflating: /content/__MACOSX/masks/._inline_1594_mask.png  \n",
            "  inflating: /content/masks/crossline_1188_mask.png  \n",
            "  inflating: /content/__MACOSX/masks/._crossline_1188_mask.png  \n",
            "  inflating: /content/masks/inline_1595_mask.png  \n",
            "  inflating: /content/__MACOSX/masks/._inline_1595_mask.png  \n",
            "  inflating: /content/masks/crossline_1406_mask.png  \n",
            "  inflating: /content/__MACOSX/masks/._crossline_1406_mask.png  \n",
            "  inflating: /content/masks/crossline_1407_mask.png  \n",
            "  inflating: /content/__MACOSX/masks/._crossline_1407_mask.png  \n",
            "  inflating: /content/masks/inline_1181_mask.png  \n",
            "  inflating: /content/__MACOSX/masks/._inline_1181_mask.png  \n",
            "  inflating: /content/masks/inline_1180_mask.png  \n",
            "  inflating: /content/__MACOSX/masks/._inline_1180_mask.png  \n",
            "  inflating: /content/masks/crossline_1152_mask.png  \n",
            "  inflating: /content/__MACOSX/masks/._crossline_1152_mask.png  \n",
            "  inflating: /content/masks/crossline_1334_mask.png  \n",
            "  inflating: /content/__MACOSX/masks/._crossline_1334_mask.png  \n",
            "  inflating: /content/masks/crossline_1335_mask.png  \n",
            "  inflating: /content/__MACOSX/masks/._crossline_1335_mask.png  \n",
            "  inflating: /content/masks/crossline_1153_mask.png  \n",
            "  inflating: /content/__MACOSX/masks/._crossline_1153_mask.png  \n",
            "  inflating: /content/masks/inline_1375_mask.png  \n",
            "  inflating: /content/__MACOSX/masks/._inline_1375_mask.png  \n",
            "  inflating: /content/masks/inline_1113_mask.png  \n",
            "  inflating: /content/__MACOSX/masks/._inline_1113_mask.png  \n",
            "  inflating: /content/masks/inline_1112_mask.png  \n",
            "  inflating: /content/__MACOSX/masks/._inline_1112_mask.png  \n",
            "  inflating: /content/masks/inline_1374_mask.png  \n",
            "  inflating: /content/__MACOSX/masks/._inline_1374_mask.png  \n",
            "  inflating: /content/masks/inline_1089_mask.png  \n",
            "  inflating: /content/__MACOSX/masks/._inline_1089_mask.png  \n",
            "  inflating: /content/masks/inline_1088_mask.png  \n",
            "  inflating: /content/__MACOSX/masks/._inline_1088_mask.png  \n",
            "  inflating: /content/masks/inline_1447_mask.png  \n",
            "  inflating: /content/__MACOSX/masks/._inline_1447_mask.png  \n",
            "  inflating: /content/masks/inline_1446_mask.png  \n",
            "  inflating: /content/__MACOSX/masks/._inline_1446_mask.png  \n",
            "  inflating: /content/masks/inline_1028_mask.png  \n",
            "  inflating: /content/__MACOSX/masks/._inline_1028_mask.png  \n",
            "  inflating: /content/masks/crossline_1435_mask.png  \n",
            "  inflating: /content/__MACOSX/masks/._crossline_1435_mask.png  \n",
            "  inflating: /content/masks/inline_1029_mask.png  \n",
            "  inflating: /content/__MACOSX/masks/._inline_1029_mask.png  \n",
            "  inflating: /content/masks/crossline_1434_mask.png  \n",
            "  inflating: /content/__MACOSX/masks/._crossline_1434_mask.png  \n",
            "  inflating: /content/masks/crossline_1307_mask.png  \n",
            "  inflating: /content/__MACOSX/masks/._crossline_1307_mask.png  \n",
            "  inflating: /content/masks/crossline_1161_mask.png  \n",
            "  inflating: /content/__MACOSX/masks/._crossline_1161_mask.png  \n",
            "  inflating: /content/masks/crossline_1160_mask.png  \n",
            "  inflating: /content/__MACOSX/masks/._crossline_1160_mask.png  \n",
            "  inflating: /content/masks/crossline_1306_mask.png  \n",
            "  inflating: /content/__MACOSX/masks/._crossline_1306_mask.png  \n",
            "  inflating: /content/masks/crossline_1395_mask.png  \n",
            "  inflating: /content/__MACOSX/masks/._crossline_1395_mask.png  \n",
            "  inflating: /content/masks/crossline_1394_mask.png  \n",
            "  inflating: /content/__MACOSX/masks/._crossline_1394_mask.png  \n",
            "  inflating: /content/masks/inline_1120_mask.png  \n",
            "  inflating: /content/__MACOSX/masks/._inline_1120_mask.png  \n",
            "  inflating: /content/masks/inline_1346_mask.png  \n",
            "  inflating: /content/__MACOSX/masks/._inline_1346_mask.png  \n",
            "  inflating: /content/masks/inline_1347_mask.png  \n",
            "  inflating: /content/__MACOSX/masks/._inline_1347_mask.png  \n",
            "  inflating: /content/masks/inline_1121_mask.png  \n",
            "  inflating: /content/__MACOSX/masks/._inline_1121_mask.png  \n",
            "  inflating: /content/masks/crossline_1069_mask.png  \n",
            "  inflating: /content/__MACOSX/masks/._crossline_1069_mask.png  \n",
            "  inflating: /content/masks/inline_1474_mask.png  \n",
            "  inflating: /content/__MACOSX/masks/._inline_1474_mask.png  \n",
            "  inflating: /content/masks/crossline_1068_mask.png  \n",
            "  inflating: /content/__MACOSX/masks/._crossline_1068_mask.png  \n",
            "  inflating: /content/masks/inline_1475_mask.png  \n",
            "  inflating: /content/__MACOSX/masks/._inline_1475_mask.png  \n",
            "  inflating: /content/masks/inline_1535_mask.png  \n",
            "  inflating: /content/__MACOSX/masks/._inline_1535_mask.png  \n",
            "  inflating: /content/masks/crossline_1128_mask.png  \n",
            "  inflating: /content/__MACOSX/masks/._crossline_1128_mask.png  \n",
            "  inflating: /content/masks/inline_1534_mask.png  \n",
            "  inflating: /content/__MACOSX/masks/._inline_1534_mask.png  \n",
            "  inflating: /content/masks/crossline_1129_mask.png  \n",
            "  inflating: /content/__MACOSX/masks/._crossline_1129_mask.png  \n",
            "  inflating: /content/masks/inline_1207_mask.png  \n",
            "  inflating: /content/__MACOSX/masks/._inline_1207_mask.png  \n",
            "  inflating: /content/masks/inline_1061_mask.png  \n",
            "  inflating: /content/__MACOSX/masks/._inline_1061_mask.png  \n",
            "  inflating: /content/masks/inline_1060_mask.png  \n",
            "  inflating: /content/__MACOSX/masks/._inline_1060_mask.png  \n",
            "  inflating: /content/masks/inline_1206_mask.png  \n",
            "  inflating: /content/__MACOSX/masks/._inline_1206_mask.png  \n",
            "  inflating: /content/masks/inline_1295_mask.png  \n",
            "  inflating: /content/__MACOSX/masks/._inline_1295_mask.png  \n",
            "  inflating: /content/masks/inline_1294_mask.png  \n",
            "  inflating: /content/__MACOSX/masks/._inline_1294_mask.png  \n",
            "  inflating: /content/masks/crossline_1020_mask.png  \n",
            "  inflating: /content/__MACOSX/masks/._crossline_1020_mask.png  \n",
            "  inflating: /content/masks/crossline_1246_mask.png  \n",
            "  inflating: /content/__MACOSX/masks/._crossline_1246_mask.png  \n",
            "  inflating: /content/masks/crossline_1247_mask.png  \n",
            "  inflating: /content/__MACOSX/masks/._crossline_1247_mask.png  \n",
            "  inflating: /content/masks/crossline_1021_mask.png  \n",
            "  inflating: /content/__MACOSX/masks/._crossline_1021_mask.png  \n",
            "  inflating: /content/masks/inline_1169_mask.png  \n",
            "  inflating: /content/__MACOSX/masks/._inline_1169_mask.png  \n",
            "  inflating: /content/masks/inline_1168_mask.png  \n",
            "  inflating: /content/__MACOSX/masks/._inline_1168_mask.png  \n",
            "  inflating: /content/masks/crossline_1339_mask.png  \n",
            "  inflating: /content/__MACOSX/masks/._crossline_1339_mask.png  \n",
            "  inflating: /content/masks/inline_1542_mask.png  \n",
            "  inflating: /content/__MACOSX/masks/._inline_1542_mask.png  \n",
            "  inflating: /content/masks/inline_1543_mask.png  \n",
            "  inflating: /content/__MACOSX/masks/._inline_1543_mask.png  \n",
            "  inflating: /content/masks/crossline_1338_mask.png  \n",
            "  inflating: /content/__MACOSX/masks/._crossline_1338_mask.png  \n",
            "  inflating: /content/masks/inline_1016_mask.png  \n",
            "  inflating: /content/__MACOSX/masks/._inline_1016_mask.png  \n",
            "  inflating: /content/masks/inline_1270_mask.png  \n",
            "  inflating: /content/__MACOSX/masks/._inline_1270_mask.png  \n",
            "  inflating: /content/masks/inline_1271_mask.png  \n",
            "  inflating: /content/__MACOSX/masks/._inline_1271_mask.png  \n",
            "  inflating: /content/masks/inline_1017_mask.png  \n",
            "  inflating: /content/__MACOSX/masks/._inline_1017_mask.png  \n",
            "  inflating: /content/masks/inline_1084_mask.png  \n",
            "  inflating: /content/__MACOSX/masks/._inline_1084_mask.png  \n",
            "  inflating: /content/masks/inline_1085_mask.png  \n",
            "  inflating: /content/__MACOSX/masks/._inline_1085_mask.png  \n",
            "  inflating: /content/masks/crossline_1231_mask.png  \n",
            "  inflating: /content/__MACOSX/masks/._crossline_1231_mask.png  \n",
            "  inflating: /content/masks/crossline_1057_mask.png  \n",
            "  inflating: /content/__MACOSX/masks/._crossline_1057_mask.png  \n",
            "  inflating: /content/masks/crossline_1056_mask.png  \n",
            "  inflating: /content/__MACOSX/masks/._crossline_1056_mask.png  \n",
            "  inflating: /content/masks/crossline_1230_mask.png  \n",
            "  inflating: /content/__MACOSX/masks/._crossline_1230_mask.png  \n",
            "  inflating: /content/masks/inline_1378_mask.png  \n",
            "  inflating: /content/__MACOSX/masks/._inline_1378_mask.png  \n",
            "  inflating: /content/masks/inline_1379_mask.png  \n",
            "  inflating: /content/__MACOSX/masks/._inline_1379_mask.png  \n",
            "  inflating: /content/masks/inline_1491_mask.png  \n",
            "  inflating: /content/__MACOSX/masks/._inline_1491_mask.png  \n",
            "  inflating: /content/masks/inline_1490_mask.png  \n",
            "  inflating: /content/__MACOSX/masks/._inline_1490_mask.png  \n",
            "  inflating: /content/masks/inline_1239_mask.png  \n",
            "  inflating: /content/__MACOSX/masks/._inline_1239_mask.png  \n",
            "  inflating: /content/masks/crossline_1442_mask.png  \n",
            "  inflating: /content/__MACOSX/masks/._crossline_1442_mask.png  \n",
            "  inflating: /content/masks/crossline_1443_mask.png  \n",
            "  inflating: /content/__MACOSX/masks/._crossline_1443_mask.png  \n",
            "  inflating: /content/masks/inline_1238_mask.png  \n",
            "  inflating: /content/__MACOSX/masks/._inline_1238_mask.png  \n",
            "  inflating: /content/masks/crossline_1116_mask.png  \n",
            "  inflating: /content/__MACOSX/masks/._crossline_1116_mask.png  \n",
            "  inflating: /content/masks/crossline_1370_mask.png  \n",
            "  inflating: /content/__MACOSX/masks/._crossline_1370_mask.png  \n",
            "  inflating: /content/masks/crossline_1371_mask.png  \n",
            "  inflating: /content/__MACOSX/masks/._crossline_1371_mask.png  \n",
            "  inflating: /content/masks/crossline_1117_mask.png  \n",
            "  inflating: /content/__MACOSX/masks/._crossline_1117_mask.png  \n",
            "  inflating: /content/masks/crossline_1184_mask.png  \n",
            "  inflating: /content/__MACOSX/masks/._crossline_1184_mask.png  \n",
            "  inflating: /content/masks/inline_1599_mask.png  \n",
            "  inflating: /content/__MACOSX/masks/._inline_1599_mask.png  \n",
            "  inflating: /content/masks/crossline_1185_mask.png  \n",
            "  inflating: /content/__MACOSX/masks/._crossline_1185_mask.png  \n",
            "  inflating: /content/masks/inline_1598_mask.png  \n",
            "  inflating: /content/__MACOSX/masks/._inline_1598_mask.png  \n",
            "  inflating: /content/masks/inline_1331_mask.png  \n",
            "  inflating: /content/__MACOSX/masks/._inline_1331_mask.png  \n",
            "  inflating: /content/masks/inline_1157_mask.png  \n",
            "  inflating: /content/__MACOSX/masks/._inline_1157_mask.png  \n",
            "  inflating: /content/masks/inline_1156_mask.png  \n",
            "  inflating: /content/__MACOSX/masks/._inline_1156_mask.png  \n",
            "  inflating: /content/masks/inline_1330_mask.png  \n",
            "  inflating: /content/__MACOSX/masks/._inline_1330_mask.png  \n",
            "  inflating: /content/masks/inline_1403_mask.png  \n",
            "  inflating: /content/__MACOSX/masks/._inline_1403_mask.png  \n",
            "  inflating: /content/masks/crossline_1278_mask.png  \n",
            "  inflating: /content/__MACOSX/masks/._crossline_1278_mask.png  \n",
            "  inflating: /content/masks/crossline_1279_mask.png  \n",
            "  inflating: /content/__MACOSX/masks/._crossline_1279_mask.png  \n",
            "  inflating: /content/masks/inline_1402_mask.png  \n",
            "  inflating: /content/__MACOSX/masks/._inline_1402_mask.png  \n",
            "  inflating: /content/masks/inline_1305_mask.png  \n",
            "  inflating: /content/__MACOSX/masks/._inline_1305_mask.png  \n",
            "  inflating: /content/masks/inline_1163_mask.png  \n",
            "  inflating: /content/__MACOSX/masks/._inline_1163_mask.png  \n",
            "  inflating: /content/masks/inline_1162_mask.png  \n",
            "  inflating: /content/__MACOSX/masks/._inline_1162_mask.png  \n",
            "  inflating: /content/masks/inline_1304_mask.png  \n",
            "  inflating: /content/__MACOSX/masks/._inline_1304_mask.png  \n",
            "  inflating: /content/masks/inline_1437_mask.png  \n",
            "  inflating: /content/__MACOSX/masks/._inline_1437_mask.png  \n",
            "  inflating: /content/masks/inline_1436_mask.png  \n",
            "  inflating: /content/__MACOSX/masks/._inline_1436_mask.png  \n",
            "  inflating: /content/masks/crossline_1476_mask.png  \n",
            "  inflating: /content/__MACOSX/masks/._crossline_1476_mask.png  \n",
            "  inflating: /content/masks/crossline_1477_mask.png  \n",
            "  inflating: /content/__MACOSX/masks/._crossline_1477_mask.png  \n",
            "  inflating: /content/masks/inline_1397_mask.png  \n",
            "  inflating: /content/__MACOSX/masks/._inline_1397_mask.png  \n",
            "  inflating: /content/masks/inline_1396_mask.png  \n",
            "  inflating: /content/__MACOSX/masks/._inline_1396_mask.png  \n",
            "  inflating: /content/masks/crossline_1122_mask.png  \n",
            "  inflating: /content/__MACOSX/masks/._crossline_1122_mask.png  \n",
            "  inflating: /content/masks/crossline_1344_mask.png  \n",
            "  inflating: /content/__MACOSX/masks/._crossline_1344_mask.png  \n",
            "  inflating: /content/masks/crossline_1345_mask.png  \n",
            "  inflating: /content/__MACOSX/masks/._crossline_1345_mask.png  \n",
            "  inflating: /content/masks/crossline_1123_mask.png  \n",
            "  inflating: /content/__MACOSX/masks/._crossline_1123_mask.png  \n",
            "  inflating: /content/masks/crossline_1205_mask.png  \n",
            "  inflating: /content/__MACOSX/masks/._crossline_1205_mask.png  \n",
            "  inflating: /content/masks/crossline_1063_mask.png  \n",
            "  inflating: /content/__MACOSX/masks/._crossline_1063_mask.png  \n",
            "  inflating: /content/masks/crossline_1062_mask.png  \n",
            "  inflating: /content/__MACOSX/masks/._crossline_1062_mask.png  \n",
            "  inflating: /content/masks/crossline_1204_mask.png  \n",
            "  inflating: /content/__MACOSX/masks/._crossline_1204_mask.png  \n",
            "  inflating: /content/masks/inline_1576_mask.png  \n",
            "  inflating: /content/__MACOSX/masks/._inline_1576_mask.png  \n",
            "  inflating: /content/masks/inline_1577_mask.png  \n",
            "  inflating: /content/__MACOSX/masks/._inline_1577_mask.png  \n",
            "  inflating: /content/masks/crossline_1297_mask.png  \n",
            "  inflating: /content/__MACOSX/masks/._crossline_1297_mask.png  \n",
            "  inflating: /content/masks/crossline_1296_mask.png  \n",
            "  inflating: /content/__MACOSX/masks/._crossline_1296_mask.png  \n",
            "  inflating: /content/masks/inline_1022_mask.png  \n",
            "  inflating: /content/__MACOSX/masks/._inline_1022_mask.png  \n",
            "  inflating: /content/masks/inline_1244_mask.png  \n",
            "  inflating: /content/__MACOSX/masks/._inline_1244_mask.png  \n",
            "  inflating: /content/masks/inline_1245_mask.png  \n",
            "  inflating: /content/__MACOSX/masks/._inline_1245_mask.png  \n",
            "  inflating: /content/masks/inline_1023_mask.png  \n",
            "  inflating: /content/__MACOSX/masks/._inline_1023_mask.png  \n",
            "  inflating: /content/masks/inline_1409_mask.png  \n",
            "  inflating: /content/__MACOSX/masks/._inline_1409_mask.png  \n",
            "  inflating: /content/masks/crossline_1014_mask.png  \n",
            "  inflating: /content/__MACOSX/masks/._crossline_1014_mask.png  \n",
            "  inflating: /content/masks/crossline_1272_mask.png  \n",
            "  inflating: /content/__MACOSX/masks/._crossline_1272_mask.png  \n",
            "  inflating: /content/masks/crossline_1273_mask.png  \n",
            "  inflating: /content/__MACOSX/masks/._crossline_1273_mask.png  \n",
            "  inflating: /content/masks/inline_1408_mask.png  \n",
            "  inflating: /content/__MACOSX/masks/._inline_1408_mask.png  \n",
            "  inflating: /content/masks/crossline_1015_mask.png  \n",
            "  inflating: /content/__MACOSX/masks/._crossline_1015_mask.png  \n",
            "  inflating: /content/masks/inline_1593_mask.png  \n",
            "  inflating: /content/__MACOSX/masks/._inline_1593_mask.png  \n",
            "  inflating: /content/masks/inline_1592_mask.png  \n",
            "  inflating: /content/__MACOSX/masks/._inline_1592_mask.png  \n",
            "  inflating: /content/masks/inline_1501_mask.png  \n",
            "  inflating: /content/__MACOSX/masks/._inline_1501_mask.png  \n",
            "  inflating: /content/masks/inline_1500_mask.png  \n",
            "  inflating: /content/__MACOSX/masks/._inline_1500_mask.png  \n",
            "  inflating: /content/masks/crossline_1086_mask.png  \n",
            "  inflating: /content/__MACOSX/masks/._crossline_1086_mask.png  \n",
            "  inflating: /content/masks/crossline_1087_mask.png  \n",
            "  inflating: /content/__MACOSX/masks/._crossline_1087_mask.png  \n",
            "  inflating: /content/masks/inline_1233_mask.png  \n",
            "  inflating: /content/__MACOSX/masks/._inline_1233_mask.png  \n",
            "  inflating: /content/masks/crossline_1448_mask.png  \n",
            "  inflating: /content/__MACOSX/masks/._crossline_1448_mask.png  \n",
            "  inflating: /content/masks/inline_1055_mask.png  \n",
            "  inflating: /content/__MACOSX/masks/._inline_1055_mask.png  \n",
            "  inflating: /content/masks/crossline_1449_mask.png  \n",
            "  inflating: /content/__MACOSX/masks/._crossline_1449_mask.png  \n",
            "  inflating: /content/masks/inline_1054_mask.png  \n",
            "  inflating: /content/__MACOSX/masks/._inline_1054_mask.png  \n",
            "  inflating: /content/masks/inline_1232_mask.png  \n",
            "  inflating: /content/__MACOSX/masks/._inline_1232_mask.png  \n",
            "  inflating: /content/masks/inline_1114_mask.png  \n",
            "  inflating: /content/__MACOSX/masks/._inline_1114_mask.png  \n",
            "  inflating: /content/masks/inline_1372_mask.png  \n",
            "  inflating: /content/__MACOSX/masks/._inline_1372_mask.png  \n",
            "  inflating: /content/masks/inline_1373_mask.png  \n",
            "  inflating: /content/__MACOSX/masks/._inline_1373_mask.png  \n",
            "  inflating: /content/masks/inline_1115_mask.png  \n",
            "  inflating: /content/__MACOSX/masks/._inline_1115_mask.png  \n",
            "  inflating: /content/masks/inline_1440_mask.png  \n",
            "  inflating: /content/__MACOSX/masks/._inline_1440_mask.png  \n",
            "  inflating: /content/masks/inline_1441_mask.png  \n",
            "  inflating: /content/__MACOSX/masks/._inline_1441_mask.png  \n",
            "  inflating: /content/masks/crossline_1401_mask.png  \n",
            "  inflating: /content/__MACOSX/masks/._crossline_1401_mask.png  \n",
            "  inflating: /content/masks/crossline_1400_mask.png  \n",
            "  inflating: /content/__MACOSX/masks/._crossline_1400_mask.png  \n",
            "  inflating: /content/masks/inline_1186_mask.png  \n",
            "  inflating: /content/__MACOSX/masks/._inline_1186_mask.png  \n",
            "  inflating: /content/masks/inline_1187_mask.png  \n",
            "  inflating: /content/__MACOSX/masks/._inline_1187_mask.png  \n",
            "  inflating: /content/masks/crossline_1333_mask.png  \n",
            "  inflating: /content/__MACOSX/masks/._crossline_1333_mask.png  \n",
            "  inflating: /content/masks/crossline_1155_mask.png  \n",
            "  inflating: /content/__MACOSX/masks/._crossline_1155_mask.png  \n",
            "  inflating: /content/masks/inline_1548_mask.png  \n",
            "  inflating: /content/__MACOSX/masks/._inline_1548_mask.png  \n",
            "  inflating: /content/masks/crossline_1154_mask.png  \n",
            "  inflating: /content/__MACOSX/masks/._crossline_1154_mask.png  \n",
            "  inflating: /content/masks/inline_1549_mask.png  \n",
            "  inflating: /content/__MACOSX/masks/._inline_1549_mask.png  \n",
            "  inflating: /content/masks/crossline_1332_mask.png  \n",
            "  inflating: /content/__MACOSX/masks/._crossline_1332_mask.png  \n",
            "  inflating: /content/masks/crossline_1037_mask.png  \n",
            "  inflating: /content/__MACOSX/masks/._crossline_1037_mask.png  \n",
            "  inflating: /content/masks/crossline_1251_mask.png  \n",
            "  inflating: /content/__MACOSX/masks/._crossline_1251_mask.png  \n",
            "  inflating: /content/masks/crossline_1250_mask.png  \n",
            "  inflating: /content/__MACOSX/masks/._crossline_1250_mask.png  \n",
            "  inflating: /content/masks/crossline_1036_mask.png  \n",
            "  inflating: /content/__MACOSX/masks/._crossline_1036_mask.png  \n",
            "  inflating: /content/masks/inline_1282_mask.png  \n",
            "  inflating: /content/__MACOSX/masks/._inline_1282_mask.png  \n",
            "  inflating: /content/masks/inline_1283_mask.png  \n",
            "  inflating: /content/__MACOSX/masks/._inline_1283_mask.png  \n",
            "  inflating: /content/masks/inline_1318_mask.png  \n",
            "  inflating: /content/__MACOSX/masks/._inline_1318_mask.png  \n",
            "  inflating: /content/masks/inline_1319_mask.png  \n",
            "  inflating: /content/__MACOSX/masks/._inline_1319_mask.png  \n",
            "  inflating: /content/masks/inline_1522_mask.png  \n",
            "  inflating: /content/__MACOSX/masks/._inline_1522_mask.png  \n",
            "  inflating: /content/masks/crossline_1359_mask.png  \n",
            "  inflating: /content/__MACOSX/masks/._crossline_1359_mask.png  \n",
            "  inflating: /content/masks/crossline_1358_mask.png  \n",
            "  inflating: /content/__MACOSX/masks/._crossline_1358_mask.png  \n",
            "  inflating: /content/masks/inline_1523_mask.png  \n",
            "  inflating: /content/__MACOSX/masks/._inline_1523_mask.png  \n",
            "  inflating: /content/masks/inline_1210_mask.png  \n",
            "  inflating: /content/__MACOSX/masks/._inline_1210_mask.png  \n",
            "  inflating: /content/masks/inline_1076_mask.png  \n",
            "  inflating: /content/__MACOSX/masks/._inline_1076_mask.png  \n",
            "  inflating: /content/masks/inline_1077_mask.png  \n",
            "  inflating: /content/__MACOSX/masks/._inline_1077_mask.png  \n",
            "  inflating: /content/masks/inline_1211_mask.png  \n",
            "  inflating: /content/__MACOSX/masks/._inline_1211_mask.png  \n",
            "  inflating: /content/masks/inline_1137_mask.png  \n",
            "  inflating: /content/__MACOSX/masks/._inline_1137_mask.png  \n",
            "  inflating: /content/masks/inline_1351_mask.png  \n",
            "  inflating: /content/__MACOSX/masks/._inline_1351_mask.png  \n",
            "  inflating: /content/masks/inline_1350_mask.png  \n",
            "  inflating: /content/__MACOSX/masks/._inline_1350_mask.png  \n",
            "  inflating: /content/masks/inline_1136_mask.png  \n",
            "  inflating: /content/__MACOSX/masks/._inline_1136_mask.png  \n",
            "  inflating: /content/masks/crossline_1382_mask.png  \n",
            "  inflating: /content/__MACOSX/masks/._crossline_1382_mask.png  \n",
            "  inflating: /content/masks/crossline_1383_mask.png  \n",
            "  inflating: /content/__MACOSX/masks/._crossline_1383_mask.png  \n",
            "  inflating: /content/masks/crossline_1218_mask.png  \n",
            "  inflating: /content/__MACOSX/masks/._crossline_1218_mask.png  \n",
            "  inflating: /content/masks/inline_1463_mask.png  \n",
            "  inflating: /content/__MACOSX/masks/._inline_1463_mask.png  \n",
            "  inflating: /content/masks/inline_1462_mask.png  \n",
            "  inflating: /content/__MACOSX/masks/._inline_1462_mask.png  \n",
            "  inflating: /content/masks/crossline_1219_mask.png  \n",
            "  inflating: /content/__MACOSX/masks/._crossline_1219_mask.png  \n",
            "  inflating: /content/masks/crossline_1422_mask.png  \n",
            "  inflating: /content/__MACOSX/masks/._crossline_1422_mask.png  \n",
            "  inflating: /content/masks/inline_1259_mask.png  \n",
            "  inflating: /content/__MACOSX/masks/._inline_1259_mask.png  \n",
            "  inflating: /content/masks/inline_1258_mask.png  \n",
            "  inflating: /content/__MACOSX/masks/._inline_1258_mask.png  \n",
            "  inflating: /content/masks/crossline_1423_mask.png  \n",
            "  inflating: /content/__MACOSX/masks/._crossline_1423_mask.png  \n",
            "  inflating: /content/masks/crossline_1310_mask.png  \n",
            "  inflating: /content/__MACOSX/masks/._crossline_1310_mask.png  \n",
            "  inflating: /content/masks/crossline_1176_mask.png  \n",
            "  inflating: /content/__MACOSX/masks/._crossline_1176_mask.png  \n",
            "  inflating: /content/masks/crossline_1177_mask.png  \n",
            "  inflating: /content/__MACOSX/masks/._crossline_1177_mask.png  \n",
            "  inflating: /content/masks/crossline_1311_mask.png  \n",
            "  inflating: /content/__MACOSX/masks/._crossline_1311_mask.png  \n",
            "  inflating: /content/masks/inline_1326_mask.png  \n",
            "  inflating: /content/__MACOSX/masks/._inline_1326_mask.png  \n",
            "  inflating: /content/masks/inline_1140_mask.png  \n",
            "  inflating: /content/__MACOSX/masks/._inline_1140_mask.png  \n",
            "  inflating: /content/masks/inline_1141_mask.png  \n",
            "  inflating: /content/__MACOSX/masks/._inline_1141_mask.png  \n",
            "  inflating: /content/masks/inline_1327_mask.png  \n",
            "  inflating: /content/__MACOSX/masks/._inline_1327_mask.png  \n",
            "  inflating: /content/masks/crossline_1193_mask.png  \n",
            "  inflating: /content/__MACOSX/masks/._crossline_1193_mask.png  \n",
            "  inflating: /content/masks/crossline_1192_mask.png  \n",
            "  inflating: /content/__MACOSX/masks/._crossline_1192_mask.png  \n",
            "  inflating: /content/masks/inline_1414_mask.png  \n",
            "  inflating: /content/__MACOSX/masks/._inline_1414_mask.png  \n",
            "  inflating: /content/masks/crossline_1009_mask.png  \n",
            "  inflating: /content/__MACOSX/masks/._crossline_1009_mask.png  \n",
            "  inflating: /content/masks/inline_1415_mask.png  \n",
            "  inflating: /content/__MACOSX/masks/._inline_1415_mask.png  \n",
            "  inflating: /content/masks/crossline_1008_mask.png  \n",
            "  inflating: /content/__MACOSX/masks/._crossline_1008_mask.png  \n",
            "  inflating: /content/masks/crossline_1455_mask.png  \n",
            "  inflating: /content/__MACOSX/masks/._crossline_1455_mask.png  \n",
            "  inflating: /content/masks/inline_1048_mask.png  \n",
            "  inflating: /content/__MACOSX/masks/._inline_1048_mask.png  \n",
            "  inflating: /content/masks/crossline_1454_mask.png  \n",
            "  inflating: /content/__MACOSX/masks/._crossline_1454_mask.png  \n",
            "  inflating: /content/masks/inline_1049_mask.png  \n",
            "  inflating: /content/__MACOSX/masks/._inline_1049_mask.png  \n",
            "  inflating: /content/masks/inline_1486_mask.png  \n",
            "  inflating: /content/__MACOSX/masks/._inline_1486_mask.png  \n",
            "  inflating: /content/masks/inline_1487_mask.png  \n",
            "  inflating: /content/__MACOSX/masks/._inline_1487_mask.png  \n",
            "  inflating: /content/masks/crossline_1101_mask.png  \n",
            "  inflating: /content/__MACOSX/masks/._crossline_1101_mask.png  \n",
            "  inflating: /content/masks/crossline_1367_mask.png  \n",
            "  inflating: /content/__MACOSX/masks/._crossline_1367_mask.png  \n",
            "  inflating: /content/masks/crossline_1366_mask.png  \n",
            "  inflating: /content/__MACOSX/masks/._crossline_1366_mask.png  \n",
            "  inflating: /content/masks/crossline_1100_mask.png  \n",
            "  inflating: /content/__MACOSX/masks/._crossline_1100_mask.png  \n",
            "  inflating: /content/masks/crossline_1226_mask.png  \n",
            "  inflating: /content/__MACOSX/masks/._crossline_1226_mask.png  \n",
            "  inflating: /content/masks/crossline_1040_mask.png  \n",
            "  inflating: /content/__MACOSX/masks/._crossline_1040_mask.png  \n",
            "  inflating: /content/masks/crossline_1041_mask.png  \n",
            "  inflating: /content/__MACOSX/masks/._crossline_1041_mask.png  \n",
            "  inflating: /content/masks/crossline_1227_mask.png  \n",
            "  inflating: /content/__MACOSX/masks/._crossline_1227_mask.png  \n",
            "  inflating: /content/masks/inline_1093_mask.png  \n",
            "  inflating: /content/__MACOSX/masks/._inline_1093_mask.png  \n",
            "  inflating: /content/masks/inline_1092_mask.png  \n",
            "  inflating: /content/__MACOSX/masks/._inline_1092_mask.png  \n",
            "  inflating: /content/masks/inline_1109_mask.png  \n",
            "  inflating: /content/__MACOSX/masks/._inline_1109_mask.png  \n",
            "  inflating: /content/masks/inline_1108_mask.png  \n",
            "  inflating: /content/__MACOSX/masks/._inline_1108_mask.png  \n",
            "  inflating: /content/masks/crossline_1148_mask.png  \n",
            "  inflating: /content/__MACOSX/masks/._crossline_1148_mask.png  \n",
            "  inflating: /content/masks/inline_1555_mask.png  \n",
            "  inflating: /content/__MACOSX/masks/._inline_1555_mask.png  \n",
            "  inflating: /content/masks/crossline_1149_mask.png  \n",
            "  inflating: /content/__MACOSX/masks/._crossline_1149_mask.png  \n",
            "  inflating: /content/masks/inline_1554_mask.png  \n",
            "  inflating: /content/__MACOSX/masks/._inline_1554_mask.png  \n",
            "  inflating: /content/masks/inline_1001_mask.png  \n",
            "  inflating: /content/__MACOSX/masks/._inline_1001_mask.png  \n",
            "  inflating: /content/masks/inline_1267_mask.png  \n",
            "  inflating: /content/__MACOSX/masks/._inline_1267_mask.png  \n",
            "  inflating: /content/masks/inline_1266_mask.png  \n",
            "  inflating: /content/__MACOSX/masks/._inline_1266_mask.png  \n",
            "  inflating: /content/masks/inline_1000_mask.png  \n",
            "  inflating: /content/__MACOSX/masks/._inline_1000_mask.png  \n",
            "  inflating: /content/masks/inline_1561_mask.png  \n",
            "  inflating: /content/__MACOSX/masks/._inline_1561_mask.png  \n",
            "  inflating: /content/masks/inline_1560_mask.png  \n",
            "  inflating: /content/__MACOSX/masks/._inline_1560_mask.png  \n",
            "  inflating: /content/masks/inline_1035_mask.png  \n",
            "  inflating: /content/__MACOSX/masks/._inline_1035_mask.png  \n",
            "  inflating: /content/masks/crossline_1428_mask.png  \n",
            "  inflating: /content/__MACOSX/masks/._crossline_1428_mask.png  \n",
            "  inflating: /content/masks/inline_1253_mask.png  \n",
            "  inflating: /content/__MACOSX/masks/._inline_1253_mask.png  \n",
            "  inflating: /content/masks/inline_1252_mask.png  \n",
            "  inflating: /content/__MACOSX/masks/._inline_1252_mask.png  \n",
            "  inflating: /content/masks/inline_1034_mask.png  \n",
            "  inflating: /content/__MACOSX/masks/._inline_1034_mask.png  \n",
            "  inflating: /content/masks/crossline_1429_mask.png  \n",
            "  inflating: /content/__MACOSX/masks/._crossline_1429_mask.png  \n",
            "  inflating: /content/masks/crossline_1280_mask.png  \n",
            "  inflating: /content/__MACOSX/masks/._crossline_1280_mask.png  \n",
            "  inflating: /content/masks/crossline_1281_mask.png  \n",
            "  inflating: /content/__MACOSX/masks/._crossline_1281_mask.png  \n",
            "  inflating: /content/masks/crossline_1212_mask.png  \n",
            "  inflating: /content/__MACOSX/masks/._crossline_1212_mask.png  \n",
            "  inflating: /content/masks/crossline_1074_mask.png  \n",
            "  inflating: /content/__MACOSX/masks/._crossline_1074_mask.png  \n",
            "  inflating: /content/masks/inline_1469_mask.png  \n",
            "  inflating: /content/__MACOSX/masks/._inline_1469_mask.png  \n",
            "  inflating: /content/masks/crossline_1075_mask.png  \n",
            "  inflating: /content/__MACOSX/masks/._crossline_1075_mask.png  \n",
            "  inflating: /content/masks/inline_1468_mask.png  \n",
            "  inflating: /content/__MACOSX/masks/._inline_1468_mask.png  \n",
            "  inflating: /content/masks/crossline_1213_mask.png  \n",
            "  inflating: /content/__MACOSX/masks/._crossline_1213_mask.png  \n",
            "  inflating: /content/masks/crossline_1388_mask.png  \n",
            "  inflating: /content/__MACOSX/masks/._crossline_1388_mask.png  \n",
            "  inflating: /content/masks/crossline_1389_mask.png  \n",
            "  inflating: /content/__MACOSX/masks/._crossline_1389_mask.png  \n",
            "  inflating: /content/masks/crossline_1461_mask.png  \n",
            "  inflating: /content/__MACOSX/masks/._crossline_1461_mask.png  \n",
            "  inflating: /content/masks/crossline_1460_mask.png  \n",
            "  inflating: /content/__MACOSX/masks/._crossline_1460_mask.png  \n",
            "  inflating: /content/masks/inline_1528_mask.png  \n",
            "  inflating: /content/__MACOSX/masks/._inline_1528_mask.png  \n",
            "  inflating: /content/masks/crossline_1135_mask.png  \n",
            "  inflating: /content/__MACOSX/masks/._crossline_1135_mask.png  \n",
            "  inflating: /content/masks/crossline_1353_mask.png  \n",
            "  inflating: /content/__MACOSX/masks/._crossline_1353_mask.png  \n",
            "  inflating: /content/masks/crossline_1352_mask.png  \n",
            "  inflating: /content/__MACOSX/masks/._crossline_1352_mask.png  \n",
            "  inflating: /content/masks/inline_1529_mask.png  \n",
            "  inflating: /content/__MACOSX/masks/._inline_1529_mask.png  \n",
            "  inflating: /content/masks/crossline_1134_mask.png  \n",
            "  inflating: /content/__MACOSX/masks/._crossline_1134_mask.png  \n",
            "  inflating: /content/masks/inline_1380_mask.png  \n",
            "  inflating: /content/__MACOSX/masks/._inline_1380_mask.png  \n",
            "  inflating: /content/masks/inline_1381_mask.png  \n",
            "  inflating: /content/__MACOSX/masks/._inline_1381_mask.png  \n",
            "  inflating: /content/masks/inline_1312_mask.png  \n",
            "  inflating: /content/__MACOSX/masks/._inline_1312_mask.png  \n",
            "  inflating: /content/masks/inline_1174_mask.png  \n",
            "  inflating: /content/__MACOSX/masks/._inline_1174_mask.png  \n",
            "  inflating: /content/masks/inline_1175_mask.png  \n",
            "  inflating: /content/__MACOSX/masks/._inline_1175_mask.png  \n",
            "  inflating: /content/masks/inline_1313_mask.png  \n",
            "  inflating: /content/__MACOSX/masks/._inline_1313_mask.png  \n",
            "  inflating: /content/masks/inline_1420_mask.png  \n",
            "  inflating: /content/__MACOSX/masks/._inline_1420_mask.png  \n",
            "  inflating: /content/masks/inline_1421_mask.png  \n",
            "  inflating: /content/__MACOSX/masks/._inline_1421_mask.png  \n",
            "  inflating: /content/masks/inline_1288_mask.png  \n",
            "  inflating: /content/__MACOSX/masks/._inline_1288_mask.png  \n",
            "  inflating: /content/masks/inline_1289_mask.png  \n",
            "  inflating: /content/__MACOSX/masks/._inline_1289_mask.png  \n",
            "  inflating: /content/masks/crossline_1416_mask.png  \n",
            "  inflating: /content/__MACOSX/masks/._crossline_1416_mask.png  \n",
            "  inflating: /content/masks/crossline_1417_mask.png  \n",
            "  inflating: /content/__MACOSX/masks/._crossline_1417_mask.png  \n",
            "  inflating: /content/masks/crossline_1324_mask.png  \n",
            "  inflating: /content/__MACOSX/masks/._crossline_1324_mask.png  \n",
            "  inflating: /content/masks/crossline_1142_mask.png  \n",
            "  inflating: /content/__MACOSX/masks/._crossline_1142_mask.png  \n",
            "  inflating: /content/masks/crossline_1143_mask.png  \n",
            "  inflating: /content/__MACOSX/masks/._crossline_1143_mask.png  \n",
            "  inflating: /content/masks/crossline_1325_mask.png  \n",
            "  inflating: /content/__MACOSX/masks/._crossline_1325_mask.png  \n",
            "  inflating: /content/masks/inline_1191_mask.png  \n",
            "  inflating: /content/__MACOSX/masks/._inline_1191_mask.png  \n",
            "  inflating: /content/masks/inline_1190_mask.png  \n",
            "  inflating: /content/__MACOSX/masks/._inline_1190_mask.png  \n",
            "  inflating: /content/masks/inline_1103_mask.png  \n",
            "  inflating: /content/__MACOSX/masks/._inline_1103_mask.png  \n",
            "  inflating: /content/masks/inline_1365_mask.png  \n",
            "  inflating: /content/__MACOSX/masks/._inline_1365_mask.png  \n",
            "  inflating: /content/masks/inline_1364_mask.png  \n",
            "  inflating: /content/__MACOSX/masks/._inline_1364_mask.png  \n",
            "  inflating: /content/masks/inline_1102_mask.png  \n",
            "  inflating: /content/__MACOSX/masks/._inline_1102_mask.png  \n",
            "  inflating: /content/masks/inline_1457_mask.png  \n",
            "  inflating: /content/__MACOSX/masks/._inline_1457_mask.png  \n",
            "  inflating: /content/masks/inline_1456_mask.png  \n",
            "  inflating: /content/__MACOSX/masks/._inline_1456_mask.png  \n",
            "  inflating: /content/masks/inline_1099_mask.png  \n",
            "  inflating: /content/__MACOSX/masks/._inline_1099_mask.png  \n",
            "  inflating: /content/masks/inline_1098_mask.png  \n",
            "  inflating: /content/__MACOSX/masks/._inline_1098_mask.png  \n",
            "  inflating: /content/masks/inline_1516_mask.png  \n",
            "  inflating: /content/__MACOSX/masks/._inline_1516_mask.png  \n",
            "  inflating: /content/masks/inline_1517_mask.png  \n",
            "  inflating: /content/__MACOSX/masks/._inline_1517_mask.png  \n",
            "  inflating: /content/masks/inline_1224_mask.png  \n",
            "  inflating: /content/__MACOSX/masks/._inline_1224_mask.png  \n",
            "  inflating: /content/masks/inline_1042_mask.png  \n",
            "  inflating: /content/__MACOSX/masks/._inline_1042_mask.png  \n",
            "  inflating: /content/masks/inline_1043_mask.png  \n",
            "  inflating: /content/__MACOSX/masks/._inline_1043_mask.png  \n",
            "  inflating: /content/masks/inline_1225_mask.png  \n",
            "  inflating: /content/__MACOSX/masks/._inline_1225_mask.png  \n",
            "  inflating: /content/masks/crossline_1091_mask.png  \n",
            "  inflating: /content/__MACOSX/masks/._crossline_1091_mask.png  \n",
            "  inflating: /content/masks/crossline_1090_mask.png  \n",
            "  inflating: /content/__MACOSX/masks/._crossline_1090_mask.png  \n",
            "  inflating: /content/masks/crossline_1003_mask.png  \n",
            "  inflating: /content/__MACOSX/masks/._crossline_1003_mask.png  \n",
            "  inflating: /content/masks/crossline_1265_mask.png  \n",
            "  inflating: /content/__MACOSX/masks/._crossline_1265_mask.png  \n",
            "  inflating: /content/masks/crossline_1264_mask.png  \n",
            "  inflating: /content/__MACOSX/masks/._crossline_1264_mask.png  \n",
            "  inflating: /content/masks/crossline_1002_mask.png  \n",
            "  inflating: /content/__MACOSX/masks/._crossline_1002_mask.png  \n",
            "  inflating: /content/masks/crossline_1199_mask.png  \n",
            "  inflating: /content/__MACOSX/masks/._crossline_1199_mask.png  \n",
            "  inflating: /content/masks/inline_1584_mask.png  \n",
            "  inflating: /content/__MACOSX/masks/._inline_1584_mask.png  \n",
            "  inflating: /content/masks/crossline_1198_mask.png  \n",
            "  inflating: /content/__MACOSX/masks/._crossline_1198_mask.png  \n",
            "  inflating: /content/masks/inline_1585_mask.png  \n",
            "  inflating: /content/__MACOSX/masks/._inline_1585_mask.png  \n",
            "  inflating: /content/__MACOSX/._masks  \n"
          ],
          "name": "stdout"
        }
      ]
    },
    {
      "cell_type": "code",
      "metadata": {
        "id": "k_U0NdxAipOA",
        "colab_type": "code",
        "colab": {
          "base_uri": "https://localhost:8080/",
          "height": 35
        },
        "outputId": "b42c70cd-b06e-4e2b-a3f8-c6cdb307f493"
      },
      "source": [
        "%cd /content/drive/My Drive/PETAI-master/deep_domain_adaptation/DeepCORAL-master/core"
      ],
      "execution_count": null,
      "outputs": [
        {
          "output_type": "stream",
          "text": [
            "/content/drive/My Drive/PETAI-master/deep_domain_adaptation/DeepCORAL-master/core\n"
          ],
          "name": "stdout"
        }
      ]
    },
    {
      "cell_type": "code",
      "metadata": {
        "id": "kqC3rw7RjCmE",
        "colab_type": "code",
        "colab": {}
      },
      "source": [
        "from data_conversion_patch import *"
      ],
      "execution_count": null,
      "outputs": []
    },
    {
      "cell_type": "code",
      "metadata": {
        "id": "0ZHPhV9c_qgW",
        "colab_type": "code",
        "colab": {}
      },
      "source": [
        "import os\n",
        "from sklearn.utils import shuffle\n",
        "from sklearn.model_selection import train_test_split"
      ],
      "execution_count": null,
      "outputs": []
    },
    {
      "cell_type": "markdown",
      "metadata": {
        "id": "77HS2kYkiYVr",
        "colab_type": "text"
      },
      "source": [
        "# PENOBSCOT Pre-Processing"
      ]
    },
    {
      "cell_type": "code",
      "metadata": {
        "id": "mAlf56zifrfp",
        "colab_type": "code",
        "colab": {
          "base_uri": "https://localhost:8080/",
          "height": 35
        },
        "outputId": "a60ef163-1ddd-4cee-a0f8-5b65f9af6bed"
      },
      "source": [
        "%cd /content/"
      ],
      "execution_count": null,
      "outputs": [
        {
          "output_type": "stream",
          "text": [
            "/content\n"
          ],
          "name": "stdout"
        }
      ]
    },
    {
      "cell_type": "code",
      "metadata": {
        "id": "Vdm34xyf_-et",
        "colab_type": "code",
        "colab": {
          "base_uri": "https://localhost:8080/",
          "height": 54
        },
        "outputId": "768208be-0238-499f-d2e3-87efa851f8d4"
      },
      "source": [
        "inline_sections, inline_masks = section_and_masks_to_npy('inlines', 1200, 1405, image_type=\"plt\")"
      ],
      "execution_count": null,
      "outputs": [
        {
          "output_type": "stream",
          "text": [
            "Section Shape\t:(200, 1501, 481)\n",
            "Mask Shape\t:(200, 1501, 481)\n"
          ],
          "name": "stdout"
        }
      ]
    },
    {
      "cell_type": "code",
      "metadata": {
        "id": "o7fIMMDbygWa",
        "colab_type": "code",
        "colab": {
          "base_uri": "https://localhost:8080/",
          "height": 54
        },
        "outputId": "e319cbcb-5ee3-4631-ab35-0bc49ce296e0"
      },
      "source": [
        "inline_sections_1070_1199, inline_masks_1070_1199 = section_and_masks_to_npy('inlines', 1070, 1199, image_type=\"plt\")"
      ],
      "execution_count": null,
      "outputs": [
        {
          "output_type": "stream",
          "text": [
            "Section Shape\t:(129, 1501, 481)\n",
            "Mask Shape\t:(129, 1501, 481)\n"
          ],
          "name": "stdout"
        }
      ]
    },
    {
      "cell_type": "code",
      "metadata": {
        "id": "PtMdtFbTyqsC",
        "colab_type": "code",
        "colab": {
          "base_uri": "https://localhost:8080/",
          "height": 54
        },
        "outputId": "03520c03-4508-4ceb-a34b-579fe7e4d635"
      },
      "source": [
        "inline_sections_1406_1520, inline_masks_1406_1520 = section_and_masks_to_npy('inlines', 1406, 1520, image_type=\"plt\")"
      ],
      "execution_count": null,
      "outputs": [
        {
          "output_type": "stream",
          "text": [
            "Section Shape\t:(114, 1501, 481)\n",
            "Mask Shape\t:(114, 1501, 481)\n"
          ],
          "name": "stdout"
        }
      ]
    },
    {
      "cell_type": "code",
      "metadata": {
        "id": "XyloHvSOzSdY",
        "colab_type": "code",
        "colab": {}
      },
      "source": [
        "#plot_section_mask(inline_sections, inline_masks)"
      ],
      "execution_count": null,
      "outputs": []
    },
    {
      "cell_type": "code",
      "metadata": {
        "id": "5w9_rGq4345k",
        "colab_type": "code",
        "colab": {
          "base_uri": "https://localhost:8080/",
          "height": 54
        },
        "outputId": "0ce68670-9343-4932-f054-35f31dff8446"
      },
      "source": [
        "inline_images, inline_labels = extract_patch(inline_sections, inline_masks, stride=20, patch=40)"
      ],
      "execution_count": null,
      "outputs": [
        {
          "output_type": "stream",
          "text": [
            "Patch Images Shape\t:(340400, 40, 40)\n",
            "Patch Masks Shape\t:(340400, 40, 40)\n"
          ],
          "name": "stdout"
        }
      ]
    },
    {
      "cell_type": "code",
      "metadata": {
        "id": "hTH80DuWy77x",
        "colab_type": "code",
        "colab": {
          "base_uri": "https://localhost:8080/",
          "height": 54
        },
        "outputId": "2b57a912-eb82-457d-c40d-85f7a29f4730"
      },
      "source": [
        "inline_images_1070_1199, inline_labels_1070_1199 = extract_patch(inline_sections_1070_1199, inline_masks_1070_1199, stride=20, patch=40)"
      ],
      "execution_count": null,
      "outputs": [
        {
          "output_type": "stream",
          "text": [
            "Patch Images Shape\t:(219558, 40, 40)\n",
            "Patch Masks Shape\t:(219558, 40, 40)\n"
          ],
          "name": "stdout"
        }
      ]
    },
    {
      "cell_type": "code",
      "metadata": {
        "id": "cMgijDGPy7gf",
        "colab_type": "code",
        "colab": {
          "base_uri": "https://localhost:8080/",
          "height": 54
        },
        "outputId": "09d75514-08d0-47d0-9404-1d87dec2064a"
      },
      "source": [
        "inline_images_1406_1520, inline_labels_1406_1520 = extract_patch(inline_sections_1406_1520, inline_masks_1406_1520, stride=20, patch=40)"
      ],
      "execution_count": null,
      "outputs": [
        {
          "output_type": "stream",
          "text": [
            "Patch Images Shape\t:(194028, 40, 40)\n",
            "Patch Masks Shape\t:(194028, 40, 40)\n"
          ],
          "name": "stdout"
        }
      ]
    },
    {
      "cell_type": "code",
      "metadata": {
        "id": "MuMtyVHN42M0",
        "colab_type": "code",
        "colab": {}
      },
      "source": [
        "#plot_section_mask(inline_images, inline_labels, 0, 10, (25, 3))"
      ],
      "execution_count": null,
      "outputs": []
    },
    {
      "cell_type": "code",
      "metadata": {
        "id": "ZGdbmlLCWFKM",
        "colab_type": "code",
        "colab": {}
      },
      "source": [
        "#inline_labels = labels_conversion_canada(inline_labels)\n",
        "inline_labels = labels_conversion_canada_new(inline_labels)\n",
        "inline_labels_1070_1199 = labels_conversion_canada_new_class_1_2_from_sections(inline_labels_1070_1199)\n",
        "inline_labels_1406_1520 = labels_conversion_canada_new_class_1_2_from_sections(inline_labels_1406_1520)"
      ],
      "execution_count": null,
      "outputs": []
    },
    {
      "cell_type": "code",
      "metadata": {
        "id": "pwN3Tp9xV0O-",
        "colab_type": "code",
        "colab": {
          "base_uri": "https://localhost:8080/",
          "height": 126
        },
        "outputId": "7b371810-3f15-4768-b3a8-0b427b77a28d"
      },
      "source": [
        "#inline_images, inline_labels = filter_patches(inline_images, inline_labels, 0.5)\n",
        "#inline_images, inline_labels = classification_based_data(inline_images, inline_labels, 0.6)\n",
        "inline_images, inline_labels = classification_based_data_with_diff_threshold_for_a_particular_class(inline_images, inline_labels, 1, 0.14, 0.7)\n",
        "inline_images_1070_1199, inline_labels_1070_1199 = classification_based_data_with_diff_threshold_for_a_particular_class(inline_images_1070_1199, inline_labels_1070_1199, 1, 0.14, 0.7)\n",
        "inline_images_1406_1520, inline_labels_1406_1520 = classification_based_data_with_diff_threshold_for_a_particular_class(inline_images_1406_1520, inline_labels_1406_1520, 1, 0.14, 0.7)"
      ],
      "execution_count": null,
      "outputs": [
        {
          "output_type": "stream",
          "text": [
            "Filtered Patch Images Shape\t:(20353, 40, 40)\n",
            "Filtered Patch Labels Shape\t:(20353,)\n",
            "Filtered Patch Images Shape\t:(1, 40, 40)\n",
            "Filtered Patch Labels Shape\t:(1,)\n",
            "Filtered Patch Images Shape\t:(1114, 40, 40)\n",
            "Filtered Patch Labels Shape\t:(1114,)\n"
          ],
          "name": "stdout"
        }
      ]
    },
    {
      "cell_type": "code",
      "metadata": {
        "id": "ob-_fHFlwdh3",
        "colab_type": "code",
        "colab": {
          "base_uri": "https://localhost:8080/",
          "height": 126
        },
        "outputId": "ede6cf07-ce15-4b8f-eccf-2fe3e2f4b7f5"
      },
      "source": [
        "class_dist_data(inline_labels, return_count = True)\n",
        "class_dist_data(inline_labels_1070_1199, return_count = True)\n",
        "class_dist_data(inline_labels_1406_1520, return_count = True)"
      ],
      "execution_count": null,
      "outputs": [
        {
          "output_type": "stream",
          "text": [
            "Class Labels in given data: (array([0, 1, 2], dtype=uint8), array([19152,   605,   596]))\n",
            "%age of each class in data: [94.1  3.   2.9]\n",
            "Class Labels in given data: (array([1], dtype=uint8), array([1]))\n",
            "%age of each class in data: [100.]\n",
            "Class Labels in given data: (array([1, 2], dtype=uint8), array([976, 138]))\n",
            "%age of each class in data: [87.6 12.4]\n"
          ],
          "name": "stdout"
        }
      ]
    },
    {
      "cell_type": "code",
      "metadata": {
        "id": "r4LqnUlWYVoZ",
        "colab_type": "code",
        "colab": {}
      },
      "source": [
        "#plot_section_mask(inline_images, inline_labels, 0, 7, (25, 3))"
      ],
      "execution_count": null,
      "outputs": []
    },
    {
      "cell_type": "code",
      "metadata": {
        "id": "-IvUhaDX_-aH",
        "colab_type": "code",
        "colab": {
          "base_uri": "https://localhost:8080/",
          "height": 54
        },
        "outputId": "2d127a47-8566-4620-d841-2c90bd12b9f7"
      },
      "source": [
        "xline_sections, xline_masks = section_and_masks_to_npy('crosslines', 1170, 1330, image_type=\"plt\")"
      ],
      "execution_count": null,
      "outputs": [
        {
          "output_type": "stream",
          "text": [
            "Section Shape\t:(160, 1501, 601)\n",
            "Mask Shape\t:(160, 1501, 601)\n"
          ],
          "name": "stdout"
        }
      ]
    },
    {
      "cell_type": "code",
      "metadata": {
        "id": "aoWAxPxiHzvx",
        "colab_type": "code",
        "colab": {
          "base_uri": "https://localhost:8080/",
          "height": 54
        },
        "outputId": "6689b91a-71e5-40aa-b3aa-3f49dddef76d"
      },
      "source": [
        "xline_images, xline_labels = extract_patch(xline_sections, xline_masks, stride=20, patch=40)"
      ],
      "execution_count": null,
      "outputs": [
        {
          "output_type": "stream",
          "text": [
            "Patch Images Shape\t:(343360, 40, 40)\n",
            "Patch Masks Shape\t:(343360, 40, 40)\n"
          ],
          "name": "stdout"
        }
      ]
    },
    {
      "cell_type": "code",
      "metadata": {
        "id": "aj8gx4jmXu8w",
        "colab_type": "code",
        "colab": {}
      },
      "source": [
        "#xline_labels = labels_conversion_canada(xline_labels)\n",
        "xline_labels = labels_conversion_canada_new(xline_labels)"
      ],
      "execution_count": null,
      "outputs": []
    },
    {
      "cell_type": "code",
      "metadata": {
        "id": "uidq3Zb0XuxS",
        "colab_type": "code",
        "colab": {
          "base_uri": "https://localhost:8080/",
          "height": 54
        },
        "outputId": "03fc0dd0-9183-4271-dac7-3c842915efa2"
      },
      "source": [
        "#xline_images, xline_labels = filter_patches(xline_images, xline_labels, 0.5)\n",
        "#xline_images1, xline_labels1 = classification_based_data(xline_images, xline_labels, 0.7)\n",
        "xline_images, xline_labels  = classification_based_data_with_diff_threshold_for_a_particular_class(xline_images, xline_labels, 1, 0.14, 0.7)"
      ],
      "execution_count": null,
      "outputs": [
        {
          "output_type": "stream",
          "text": [
            "Filtered Patch Images Shape\t:(20212, 40, 40)\n",
            "Filtered Patch Labels Shape\t:(20212,)\n"
          ],
          "name": "stdout"
        }
      ]
    },
    {
      "cell_type": "code",
      "metadata": {
        "id": "3CVrMQ4f8cV8",
        "colab_type": "code",
        "colab": {
          "base_uri": "https://localhost:8080/",
          "height": 54
        },
        "outputId": "8d3e20bf-2df5-4c16-ee2a-2679145e3c56"
      },
      "source": [
        "xline_sections_1010_1169, xline_masks_1010_1169 = section_and_masks_to_npy('crosslines', 1010, 1169, image_type=\"plt\")"
      ],
      "execution_count": null,
      "outputs": [
        {
          "output_type": "stream",
          "text": [
            "Section Shape\t:(159, 1501, 601)\n",
            "Mask Shape\t:(159, 1501, 601)\n"
          ],
          "name": "stdout"
        }
      ]
    },
    {
      "cell_type": "code",
      "metadata": {
        "id": "Gf7_m5Ac81_h",
        "colab_type": "code",
        "colab": {
          "base_uri": "https://localhost:8080/",
          "height": 54
        },
        "outputId": "367a59eb-5160-46ed-8f6c-9d30d37ce6d7"
      },
      "source": [
        "xline_images_1010_1169, xline_labels_1010_1169 = extract_patch(xline_sections_1010_1169, xline_masks_1010_1169, stride=20, patch=40)"
      ],
      "execution_count": null,
      "outputs": [
        {
          "output_type": "stream",
          "text": [
            "Patch Images Shape\t:(341214, 40, 40)\n",
            "Patch Masks Shape\t:(341214, 40, 40)\n"
          ],
          "name": "stdout"
        }
      ]
    },
    {
      "cell_type": "code",
      "metadata": {
        "id": "8JnmKAiP-7Jc",
        "colab_type": "code",
        "colab": {}
      },
      "source": [
        "xline_labels_1010_1169 = labels_conversion_canada_new_class_1_2_from_sections(xline_labels_1010_1169)"
      ],
      "execution_count": null,
      "outputs": []
    },
    {
      "cell_type": "code",
      "metadata": {
        "id": "tByZ04eU_OFW",
        "colab_type": "code",
        "colab": {
          "base_uri": "https://localhost:8080/",
          "height": 54
        },
        "outputId": "03d6670d-82d5-4a26-eb90-ab51d06593af"
      },
      "source": [
        "xline_images_1010_1169, xline_labels_1010_1169  = classification_based_data_with_diff_threshold_for_a_particular_class(xline_images_1010_1169, xline_labels_1010_1169, 1, 0.14, 0.7)"
      ],
      "execution_count": null,
      "outputs": [
        {
          "output_type": "stream",
          "text": [
            "Filtered Patch Images Shape\t:(2117, 40, 40)\n",
            "Filtered Patch Labels Shape\t:(2117,)\n"
          ],
          "name": "stdout"
        }
      ]
    },
    {
      "cell_type": "code",
      "metadata": {
        "id": "60sPfwcO8cI2",
        "colab_type": "code",
        "colab": {
          "base_uri": "https://localhost:8080/",
          "height": 54
        },
        "outputId": "5af10f9b-bf2d-422d-81ce-ba403d06a788"
      },
      "source": [
        "xline_sections_1331_1479, xline_masks_1331_1479 = section_and_masks_to_npy('crosslines', 1331, 1479, image_type=\"plt\")"
      ],
      "execution_count": null,
      "outputs": [
        {
          "output_type": "stream",
          "text": [
            "Section Shape\t:(148, 1501, 601)\n",
            "Mask Shape\t:(148, 1501, 601)\n"
          ],
          "name": "stdout"
        }
      ]
    },
    {
      "cell_type": "code",
      "metadata": {
        "id": "Nu_2YTJ28101",
        "colab_type": "code",
        "colab": {
          "base_uri": "https://localhost:8080/",
          "height": 54
        },
        "outputId": "0f0ad3ac-99ee-4b10-c783-c3a0747e633d"
      },
      "source": [
        "xline_images_1331_1479, xline_labels_1331_1479 = extract_patch(xline_sections_1331_1479, xline_masks_1331_1479, stride=20, patch=40)"
      ],
      "execution_count": null,
      "outputs": [
        {
          "output_type": "stream",
          "text": [
            "Patch Images Shape\t:(317608, 40, 40)\n",
            "Patch Masks Shape\t:(317608, 40, 40)\n"
          ],
          "name": "stdout"
        }
      ]
    },
    {
      "cell_type": "code",
      "metadata": {
        "id": "lOXxr31j-6nY",
        "colab_type": "code",
        "colab": {}
      },
      "source": [
        "xline_labels_1331_1479 = labels_conversion_canada_new_class_1_2_from_sections(xline_labels_1331_1479)"
      ],
      "execution_count": null,
      "outputs": []
    },
    {
      "cell_type": "code",
      "metadata": {
        "id": "oREBnpvF_wCA",
        "colab_type": "code",
        "colab": {
          "base_uri": "https://localhost:8080/",
          "height": 54
        },
        "outputId": "364b9bac-9719-44f8-98f0-c9cef38ef7ec"
      },
      "source": [
        "xline_images_1331_1479, xline_labels_1331_1479  = classification_based_data_with_diff_threshold_for_a_particular_class(xline_images_1331_1479, xline_labels_1331_1479, 1, 0.14, 0.7)"
      ],
      "execution_count": null,
      "outputs": [
        {
          "output_type": "stream",
          "text": [
            "Filtered Patch Images Shape\t:(808, 40, 40)\n",
            "Filtered Patch Labels Shape\t:(808,)\n"
          ],
          "name": "stdout"
        }
      ]
    },
    {
      "cell_type": "code",
      "metadata": {
        "id": "ngkscimuzKkQ",
        "colab_type": "code",
        "colab": {}
      },
      "source": [
        "#plot_section_mask(xline_sections, xline_masks, figsize=(50, 15))"
      ],
      "execution_count": null,
      "outputs": []
    },
    {
      "cell_type": "code",
      "metadata": {
        "id": "f8_Daae5eOUq",
        "colab_type": "code",
        "colab": {}
      },
      "source": [
        "#plot_section_mask(xline_images, xline_labels, 0, 10, (25, 3))"
      ],
      "execution_count": null,
      "outputs": []
    },
    {
      "cell_type": "code",
      "metadata": {
        "id": "vR4GoryM898J",
        "colab_type": "code",
        "colab": {
          "base_uri": "https://localhost:8080/",
          "height": 126
        },
        "outputId": "405fe34b-1af3-4293-f6f6-54c08e011f29"
      },
      "source": [
        "class_dist_data(xline_labels, return_count = True)\n",
        "class_dist_data(xline_labels_1010_1169, return_count = True)\n",
        "class_dist_data(xline_labels_1331_1479, return_count = True)"
      ],
      "execution_count": null,
      "outputs": [
        {
          "output_type": "stream",
          "text": [
            "Class Labels in given data: (array([0, 1, 2], dtype=uint8), array([19011,   601,   600]))\n",
            "%age of each class in data: [94.1  3.   3. ]\n",
            "Class Labels in given data: (array([1, 2], dtype=uint8), array([1774,  343]))\n",
            "%age of each class in data: [83.8 16.2]\n",
            "Class Labels in given data: (array([2], dtype=uint8), array([808]))\n",
            "%age of each class in data: [100.]\n"
          ],
          "name": "stdout"
        }
      ]
    },
    {
      "cell_type": "code",
      "metadata": {
        "id": "_EXlpg5sYEe5",
        "colab_type": "code",
        "colab": {}
      },
      "source": [
        "#plot_section_mask(xline_images, xline_labels, 0, 7, (25, 3))"
      ],
      "execution_count": null,
      "outputs": []
    },
    {
      "cell_type": "code",
      "metadata": {
        "id": "b2x85Og7eOKE",
        "colab_type": "code",
        "colab": {}
      },
      "source": [
        "images = np.concatenate((inline_images, inline_images_1070_1199, inline_images_1406_1520, xline_images, xline_images_1010_1169, xline_images_1331_1479))\n",
        "labels = np.concatenate((inline_labels, inline_labels_1070_1199, inline_labels_1406_1520, xline_labels, xline_labels_1010_1169, xline_labels_1331_1479))"
      ],
      "execution_count": null,
      "outputs": []
    },
    {
      "cell_type": "code",
      "metadata": {
        "id": "j12pL_1HeOFE",
        "colab_type": "code",
        "colab": {
          "base_uri": "https://localhost:8080/",
          "height": 54
        },
        "outputId": "858f4163-fc45-4262-c686-d483d498e6df"
      },
      "source": [
        "print(\"Images File Shape\\t:{0}\\nLabels File Shape\\t:{1}\".format(images.shape, labels.shape))"
      ],
      "execution_count": null,
      "outputs": [
        {
          "output_type": "stream",
          "text": [
            "Images File Shape\t:(44605, 40, 40)\n",
            "Labels File Shape\t:(44605,)\n"
          ],
          "name": "stdout"
        }
      ]
    },
    {
      "cell_type": "code",
      "metadata": {
        "id": "nv-GhD3OBtQD",
        "colab_type": "code",
        "colab": {}
      },
      "source": [
        "#plot_section_mask(images, labels, 0, 7, (25, 3))"
      ],
      "execution_count": null,
      "outputs": []
    },
    {
      "cell_type": "code",
      "metadata": {
        "id": "wZX6SrFpHP8X",
        "colab_type": "code",
        "colab": {
          "base_uri": "https://localhost:8080/",
          "height": 54
        },
        "outputId": "47bb6f3a-0dca-454b-df2a-c9110fe2af98"
      },
      "source": [
        "class_dist_data(labels, return_count = True)"
      ],
      "execution_count": null,
      "outputs": [
        {
          "output_type": "stream",
          "text": [
            "Class Labels in given data: (array([0, 1, 2], dtype=uint8), array([38163,  3957,  2485]))\n",
            "%age of each class in data: [85.6  8.9  5.6]\n"
          ],
          "name": "stdout"
        }
      ]
    },
    {
      "cell_type": "code",
      "metadata": {
        "id": "DelghXveHp4J",
        "colab_type": "code",
        "colab": {}
      },
      "source": [
        "#images, labels = balance_class_dist(images, labels, 1, 6)"
      ],
      "execution_count": null,
      "outputs": []
    },
    {
      "cell_type": "code",
      "metadata": {
        "id": "o2__2UnIJFj4",
        "colab_type": "code",
        "colab": {}
      },
      "source": [
        "#class_dist_data(labels, return_count=True)"
      ],
      "execution_count": null,
      "outputs": []
    },
    {
      "cell_type": "code",
      "metadata": {
        "id": "s2_Bfm_JJL7z",
        "colab_type": "code",
        "colab": {}
      },
      "source": [
        "#images, labels = balance_class_dist(images, labels, 0, 3)"
      ],
      "execution_count": null,
      "outputs": []
    },
    {
      "cell_type": "code",
      "metadata": {
        "id": "L1FN_Ss6JRVh",
        "colab_type": "code",
        "colab": {}
      },
      "source": [
        "#class_dist_data(labels, return_count=True)"
      ],
      "execution_count": null,
      "outputs": []
    },
    {
      "cell_type": "code",
      "metadata": {
        "id": "H_0_lAwZJ4h5",
        "colab_type": "code",
        "colab": {}
      },
      "source": [
        "images_train, images_valid, labels_train, labels_valid = train_test_split(images, labels, test_size=0.2, random_state=42)\n",
        "images_train, images_test, labels_train, labels_test = train_test_split(images_train, labels_train, test_size=0.2, random_state=42)"
      ],
      "execution_count": null,
      "outputs": []
    },
    {
      "cell_type": "code",
      "metadata": {
        "id": "nV0GBQmuJ_Qm",
        "colab_type": "code",
        "colab": {
          "base_uri": "https://localhost:8080/",
          "height": 126
        },
        "outputId": "c6527284-df45-4902-f153-ce55d408a6dc"
      },
      "source": [
        "print(\"Train Images File Shape\\t:{0}\\nTrain Labels File Shape\\t:{1}\\nValid Images File Shape\\t:{2}\\nValid Labels File Shape\\t:{3}\\nTest \"\n",
        "            \"Images File Shape\\t:{4}\\nTest Labels File Shape\\t:{5}\".format(images_train.shape, labels_train.shape, images_valid.shape, \n",
        "                                                                           labels_valid.shape, images_test.shape, labels_test.shape))"
      ],
      "execution_count": null,
      "outputs": [
        {
          "output_type": "stream",
          "text": [
            "Train Images File Shape\t:(28547, 40, 40)\n",
            "Train Labels File Shape\t:(28547,)\n",
            "Valid Images File Shape\t:(8921, 40, 40)\n",
            "Valid Labels File Shape\t:(8921,)\n",
            "Test Images File Shape\t:(7137, 40, 40)\n",
            "Test Labels File Shape\t:(7137,)\n"
          ],
          "name": "stdout"
        }
      ]
    },
    {
      "cell_type": "code",
      "metadata": {
        "colab_type": "code",
        "id": "1g0y87VNv9xR",
        "colab": {}
      },
      "source": [
        "#plot_section_mask(images_train, labels_train, 0, 7, (25, 3))"
      ],
      "execution_count": null,
      "outputs": []
    },
    {
      "cell_type": "code",
      "metadata": {
        "id": "3UelaJAvLzKg",
        "colab_type": "code",
        "colab": {
          "base_uri": "https://localhost:8080/",
          "height": 54
        },
        "outputId": "2641ce0d-30d3-44ce-d187-746c3e1aa88b"
      },
      "source": [
        "class_dist_data(labels_train, return_count = True)"
      ],
      "execution_count": null,
      "outputs": [
        {
          "output_type": "stream",
          "text": [
            "Class Labels in given data: (array([0, 1, 2], dtype=uint8), array([24407,  2529,  1611]))\n",
            "%age of each class in data: [85.5  8.9  5.6]\n"
          ],
          "name": "stdout"
        }
      ]
    },
    {
      "cell_type": "code",
      "metadata": {
        "colab_type": "code",
        "id": "aaSKKDPyv9xd",
        "colab": {}
      },
      "source": [
        "#plot_section_mask(images_valid, labels_valid, 0, 7, (25, 3))"
      ],
      "execution_count": null,
      "outputs": []
    },
    {
      "cell_type": "code",
      "metadata": {
        "id": "3chai7L5L5dH",
        "colab_type": "code",
        "colab": {
          "base_uri": "https://localhost:8080/",
          "height": 54
        },
        "outputId": "632d2f8c-64ce-4301-b997-96f438258ef0"
      },
      "source": [
        "class_dist_data(labels_valid, return_count = True)"
      ],
      "execution_count": null,
      "outputs": [
        {
          "output_type": "stream",
          "text": [
            "Class Labels in given data: (array([0, 1, 2], dtype=uint8), array([7646,  805,  470]))\n",
            "%age of each class in data: [85.7  9.   5.3]\n"
          ],
          "name": "stdout"
        }
      ]
    },
    {
      "cell_type": "code",
      "metadata": {
        "id": "ZMZwKWGFLoMR",
        "colab_type": "code",
        "colab": {}
      },
      "source": [
        "#plot_section_mask(images_test, labels_test, 0, 7, (25, 3))"
      ],
      "execution_count": null,
      "outputs": []
    },
    {
      "cell_type": "code",
      "metadata": {
        "id": "nJHCaiLLL8fc",
        "colab_type": "code",
        "colab": {
          "base_uri": "https://localhost:8080/",
          "height": 54
        },
        "outputId": "f98afca3-3dd0-401c-b668-0c0477e77bd5"
      },
      "source": [
        "class_dist_data(labels_test, return_count = True)"
      ],
      "execution_count": null,
      "outputs": [
        {
          "output_type": "stream",
          "text": [
            "Class Labels in given data: (array([0, 1, 2], dtype=uint8), array([6110,  623,  404]))\n",
            "%age of each class in data: [85.6  8.7  5.7]\n"
          ],
          "name": "stdout"
        }
      ]
    },
    {
      "cell_type": "code",
      "metadata": {
        "id": "LGkRBQpGQfHD",
        "colab_type": "code",
        "colab": {}
      },
      "source": [
        "labels_valid = labels_valid.astype('int')\n",
        "labels_test = labels_test.astype('int')"
      ],
      "execution_count": null,
      "outputs": []
    },
    {
      "cell_type": "markdown",
      "metadata": {
        "id": "waVcKdJ4tPmf",
        "colab_type": "text"
      },
      "source": [
        "### Data Augmentation on Penobscot"
      ]
    },
    {
      "cell_type": "code",
      "metadata": {
        "id": "cXXtC9GIPM3H",
        "colab_type": "code",
        "colab": {
          "base_uri": "https://localhost:8080/",
          "height": 54
        },
        "outputId": "46943749-6ca7-48db-87db-8c4b65c0e99f"
      },
      "source": [
        "class_dist_data(labels_train, return_count = True)"
      ],
      "execution_count": null,
      "outputs": [
        {
          "output_type": "stream",
          "text": [
            "Class Labels in given data: (array([0, 1, 2], dtype=uint8), array([24407,  2529,  1611]))\n",
            "%age of each class in data: [85.5  8.9  5.6]\n"
          ],
          "name": "stdout"
        }
      ]
    },
    {
      "cell_type": "code",
      "metadata": {
        "id": "nwPh1wD5tZxU",
        "colab_type": "code",
        "colab": {}
      },
      "source": [
        "#imagesClassExtract_class3 = extract_particular_class(images_train, labels_train, 3)"
      ],
      "execution_count": null,
      "outputs": []
    },
    {
      "cell_type": "code",
      "metadata": {
        "id": "1RUxlZTXtYhp",
        "colab_type": "code",
        "colab": {}
      },
      "source": [
        "#augmented_images_class3, augmented_labels_class3 = apply_augmentation(imagesClassExtract_class3, 3)"
      ],
      "execution_count": null,
      "outputs": []
    },
    {
      "cell_type": "code",
      "metadata": {
        "id": "Ifd1s8cF2S54",
        "colab_type": "code",
        "colab": {
          "base_uri": "https://localhost:8080/",
          "height": 35
        },
        "outputId": "e84198db-f420-48e7-909e-bddfa8148c3e"
      },
      "source": [
        "imagesClassExtract_class2 = extract_particular_class(images_train, labels_train, 2)"
      ],
      "execution_count": null,
      "outputs": [
        {
          "output_type": "stream",
          "text": [
            "Extracted Patch Images Shape (For Class 2) : (1611, 40, 40)\n"
          ],
          "name": "stdout"
        }
      ]
    },
    {
      "cell_type": "code",
      "metadata": {
        "id": "tL8yPouY2Sxp",
        "colab_type": "code",
        "colab": {
          "base_uri": "https://localhost:8080/",
          "height": 54
        },
        "outputId": "9c799dfd-a1b3-420b-db6f-e8cb0c76c9bc"
      },
      "source": [
        "augmented_images_class2, augmented_labels_class2 = apply_augmentation(imagesClassExtract_class2, 2)"
      ],
      "execution_count": null,
      "outputs": [
        {
          "output_type": "stream",
          "text": [
            "Augmented Patch Images Shape\t:(11277, 40, 40)\n",
            "Augmented Patch Labels Shape\t:(11277,)\n"
          ],
          "name": "stdout"
        }
      ]
    },
    {
      "cell_type": "code",
      "metadata": {
        "id": "noCA9P7EggN6",
        "colab_type": "code",
        "colab": {}
      },
      "source": [
        "images_class2 = np.concatenate([imagesClassExtract_class2, augmented_images_class2])\n",
        "labels_class2 = np.ones(images_class2.shape[0]) * 2"
      ],
      "execution_count": null,
      "outputs": []
    },
    {
      "cell_type": "code",
      "metadata": {
        "id": "uU-6lRpqLdTC",
        "colab_type": "code",
        "colab": {
          "base_uri": "https://localhost:8080/",
          "height": 35
        },
        "outputId": "37d0aa49-fed3-41db-e85b-7d715bff268d"
      },
      "source": [
        "imagesClassExtract_class1 = extract_particular_class(images_train, labels_train, 1)"
      ],
      "execution_count": null,
      "outputs": [
        {
          "output_type": "stream",
          "text": [
            "Extracted Patch Images Shape (For Class 1) : (2529, 40, 40)\n"
          ],
          "name": "stdout"
        }
      ]
    },
    {
      "cell_type": "code",
      "metadata": {
        "id": "WRvwqNJLg7yq",
        "colab_type": "code",
        "colab": {
          "base_uri": "https://localhost:8080/",
          "height": 54
        },
        "outputId": "1e266b60-4919-4369-f7b5-3a29ee21762c"
      },
      "source": [
        "augmented_images_class1, augmented_labels_class1 = apply_augmentation(imagesClassExtract_class1, 1)"
      ],
      "execution_count": null,
      "outputs": [
        {
          "output_type": "stream",
          "text": [
            "Augmented Patch Images Shape\t:(17703, 40, 40)\n",
            "Augmented Patch Labels Shape\t:(17703,)\n"
          ],
          "name": "stdout"
        }
      ]
    },
    {
      "cell_type": "code",
      "metadata": {
        "id": "YPkZAY0Dg7oV",
        "colab_type": "code",
        "colab": {}
      },
      "source": [
        "images_class1 = np.concatenate([imagesClassExtract_class1, augmented_images_class1])\n",
        "labels_class1 = np.ones(images_class1.shape[0])"
      ],
      "execution_count": null,
      "outputs": []
    },
    {
      "cell_type": "code",
      "metadata": {
        "colab_type": "code",
        "id": "X1Z89ukOLWig",
        "colab": {
          "base_uri": "https://localhost:8080/",
          "height": 35
        },
        "outputId": "9e10917e-e232-4c72-dd08-d5b15c6cde77"
      },
      "source": [
        "imagesClassExtract_class0 = extract_particular_class(images_train, labels_train, 0)"
      ],
      "execution_count": null,
      "outputs": [
        {
          "output_type": "stream",
          "text": [
            "Extracted Patch Images Shape (For Class 0) : (24407, 40, 40)\n"
          ],
          "name": "stdout"
        }
      ]
    },
    {
      "cell_type": "code",
      "metadata": {
        "id": "zHTcO2qwhbfQ",
        "colab_type": "code",
        "colab": {}
      },
      "source": [
        "labels_class0 = np.zeros(imagesClassExtract_class0.shape[0])"
      ],
      "execution_count": null,
      "outputs": []
    },
    {
      "cell_type": "code",
      "metadata": {
        "colab_type": "code",
        "id": "yR67J0XNLWi2",
        "colab": {}
      },
      "source": [
        "#images_train = np.concatenate([imagesClassExtract_class0, imagesClassExtract_class1, augmented_images_class2, augmented_images_class3])\n",
        "#labels_train = np.concatenate([np.zeros(imagesClassExtract_class0.shape[0]), np.ones(imagesClassExtract_class1.shape[0]), augmented_labels_class2, augmented_labels_class3])\n",
        "images_train = np.concatenate([imagesClassExtract_class0, images_class1, images_class2])\n",
        "labels_train = np.concatenate([labels_class0, labels_class1, labels_class2])"
      ],
      "execution_count": null,
      "outputs": []
    },
    {
      "cell_type": "code",
      "metadata": {
        "colab_type": "code",
        "id": "NT8WWCilLWjB",
        "colab": {
          "base_uri": "https://localhost:8080/",
          "height": 54
        },
        "outputId": "f59f4ece-d30e-4e07-b6e3-ca5939452ce7"
      },
      "source": [
        "class_dist_data(labels_train, return_count = True)"
      ],
      "execution_count": null,
      "outputs": [
        {
          "output_type": "stream",
          "text": [
            "Class Labels in given data: (array([0., 1., 2.]), array([24407, 20232, 12888]))\n",
            "%age of each class in data: [42.4 35.2 22.4]\n"
          ],
          "name": "stdout"
        }
      ]
    },
    {
      "cell_type": "code",
      "metadata": {
        "colab_type": "code",
        "id": "LKBvpm6DLWjK",
        "colab": {}
      },
      "source": [
        "labels_train = labels_train.astype('int')"
      ],
      "execution_count": null,
      "outputs": []
    },
    {
      "cell_type": "code",
      "metadata": {
        "id": "qMmzhEQ1a_iv",
        "colab_type": "code",
        "colab": {}
      },
      "source": [
        "images_train, labels_train = shuffle(images_train, labels_train)"
      ],
      "execution_count": null,
      "outputs": []
    },
    {
      "cell_type": "code",
      "metadata": {
        "id": "nnPmjUpddx1q",
        "colab_type": "code",
        "colab": {
          "base_uri": "https://localhost:8080/",
          "height": 54
        },
        "outputId": "a477698c-ffe0-40bf-c091-b59ff2948ba2"
      },
      "source": [
        "class_dist_data(labels_train, return_count = True)"
      ],
      "execution_count": null,
      "outputs": [
        {
          "output_type": "stream",
          "text": [
            "Class Labels in given data: (array([0, 1, 2]), array([24407, 20232, 12888]))\n",
            "%age of each class in data: [42.4 35.2 22.4]\n"
          ],
          "name": "stdout"
        }
      ]
    },
    {
      "cell_type": "code",
      "metadata": {
        "id": "_Iy3w_-5fJEP",
        "colab_type": "code",
        "colab": {
          "base_uri": "https://localhost:8080/",
          "height": 35
        },
        "outputId": "03974113-2531-4b47-ea19-33c832e3db58"
      },
      "source": [
        "labels_train.shape"
      ],
      "execution_count": null,
      "outputs": [
        {
          "output_type": "execute_result",
          "data": {
            "text/plain": [
              "(57527,)"
            ]
          },
          "metadata": {
            "tags": []
          },
          "execution_count": 51
        }
      ]
    },
    {
      "cell_type": "code",
      "metadata": {
        "id": "B47C9UCNwlZx",
        "colab_type": "code",
        "colab": {
          "base_uri": "https://localhost:8080/",
          "height": 35
        },
        "outputId": "795476a7-8ae8-4ce5-b361-f4450fc45424"
      },
      "source": [
        "%ls"
      ],
      "execution_count": null,
      "outputs": [
        {
          "output_type": "stream",
          "text": [
            "\u001b[0m\u001b[01;34mcrosslines\u001b[0m/  \u001b[01;34mdrive\u001b[0m/  \u001b[01;34minlines\u001b[0m/  \u001b[01;34m__MACOSX\u001b[0m/  \u001b[01;34mmasks\u001b[0m/  \u001b[01;34msample_data\u001b[0m/\n"
          ],
          "name": "stdout"
        }
      ]
    },
    {
      "cell_type": "code",
      "metadata": {
        "colab_type": "code",
        "id": "yHWkaBIsv9xr",
        "colab": {}
      },
      "source": [
        "np.save(\"/content/drive/My Drive/PETAI-master/deep_domain_adaptation/DeepCORAL-master/data_canada/train/images\", images_train)\n",
        "np.save(\"/content/drive/My Drive/PETAI-master/deep_domain_adaptation/DeepCORAL-master/data_canada/train/labels\", labels_train)\n",
        "\n",
        "np.save(\"/content/drive/My Drive/PETAI-master/deep_domain_adaptation/DeepCORAL-master/data_canada/valid/images\", images_valid)\n",
        "np.save(\"/content/drive/My Drive/PETAI-master/deep_domain_adaptation/DeepCORAL-master/data_canada/valid/labels\", labels_valid)\n",
        "\n",
        "np.save(\"/content/drive/My Drive/PETAI-master/deep_domain_adaptation/DeepCORAL-master/data_canada/test/images\", images_test)\n",
        "np.save(\"/content/drive/My Drive/PETAI-master/deep_domain_adaptation/DeepCORAL-master/data_canada/test/labels\", labels_test)"
      ],
      "execution_count": null,
      "outputs": []
    },
    {
      "cell_type": "markdown",
      "metadata": {
        "id": "NwDZj4Mjie34",
        "colab_type": "text"
      },
      "source": [
        "# NETHERLANDS F3 Block Pre-Processing"
      ]
    },
    {
      "cell_type": "code",
      "metadata": {
        "id": "mME-rAUlOvKr",
        "colab_type": "code",
        "colab": {
          "base_uri": "https://localhost:8080/",
          "height": 35
        },
        "outputId": "2964f657-1f99-49e1-86da-b1a4c5fe085c"
      },
      "source": [
        "%cd /content/drive/My Drive/PETAI-master"
      ],
      "execution_count": null,
      "outputs": [
        {
          "output_type": "stream",
          "text": [
            "/content/drive/My Drive/PETAI-master\n"
          ],
          "name": "stdout"
        }
      ]
    },
    {
      "cell_type": "code",
      "metadata": {
        "id": "tlmFzstkeNYW",
        "colab_type": "code",
        "colab": {
          "base_uri": "https://localhost:8080/",
          "height": 399
        },
        "outputId": "cebb9bd5-5c34-4076-aa05-221cfd643301"
      },
      "source": [
        "%ls"
      ],
      "execution_count": null,
      "outputs": [
        {
          "output_type": "stream",
          "text": [
            " \u001b[0m\u001b[01;34mcore\u001b[0m/\n",
            " \u001b[01;34mdata\u001b[0m/\n",
            " data_loader.py\n",
            " \u001b[01;34mdeep_domain_adaptation\u001b[0m/\n",
            " _gitignore.txt\n",
            " LICENSE\n",
            "\u001b[01;34m'Penobscot Interpretation Dataset Version 2.0.0'\u001b[0m/\n",
            " README.md\n",
            " \u001b[01;34mResults\u001b[0m/\n",
            " \u001b[01;34mruns\u001b[0m/\n",
            " test.py\n",
            " \u001b[01;34mtrain\u001b[0m/\n",
            " train_deeplab_DA.py\n",
            " train_DeepLab_LRScheduler.py\n",
            " train_DeepLab_MCABased.py\n",
            " train_DeepLab.py\n",
            " train_SeismicNet_checkpoint_MCABased.py\n",
            " train_SeismicNet_checkpoint.py\n",
            " train_SeismicNet_LRScheduler.py\n",
            " train_SeismicNet_MCABased.py\n",
            " train_SeismicNet.py\n"
          ],
          "name": "stdout"
        }
      ]
    },
    {
      "cell_type": "code",
      "metadata": {
        "id": "c_jCEmRgeNSu",
        "colab_type": "code",
        "colab": {}
      },
      "source": [
        "images = np.load(\"data/train/train_seismic.npy\")\n",
        "labels = np.load(\"data/train/train_labels.npy\")"
      ],
      "execution_count": null,
      "outputs": []
    },
    {
      "cell_type": "code",
      "metadata": {
        "id": "Gm8PM0tALJX1",
        "colab_type": "code",
        "colab": {
          "base_uri": "https://localhost:8080/",
          "height": 54
        },
        "outputId": "7b217bfe-bdc1-445e-bbee-720ffacb47f5"
      },
      "source": [
        "inline_images = []\n",
        "inline_labels = []\n",
        "\n",
        "for i in range(images.shape[0]):\n",
        "    inline_images.append(images[i, :, :].T)\n",
        "    inline_labels.append(labels[i, :, :].T)\n",
        "\n",
        "inline_sections = np.asarray(inline_images)\n",
        "inline_masks = np.asarray(inline_labels)\n",
        "\n",
        "print(\"Section Shape\\t:{0}\\nMask Shape\\t:{1}\".format(inline_sections.shape, inline_masks.shape))"
      ],
      "execution_count": null,
      "outputs": [
        {
          "output_type": "stream",
          "text": [
            "Section Shape\t:(401, 255, 701)\n",
            "Mask Shape\t:(401, 255, 701)\n"
          ],
          "name": "stdout"
        }
      ]
    },
    {
      "cell_type": "code",
      "metadata": {
        "id": "ACcpw2qzmiqf",
        "colab_type": "code",
        "colab": {}
      },
      "source": [
        "#plot_section_mask(inline_sections, inline_masks, figsize=(70, 4))"
      ],
      "execution_count": null,
      "outputs": []
    },
    {
      "cell_type": "code",
      "metadata": {
        "id": "0ec0gS9bmikQ",
        "colab_type": "code",
        "colab": {
          "base_uri": "https://localhost:8080/",
          "height": 54
        },
        "outputId": "109ac39e-b323-4a81-c5c4-a5b4aadc7b85"
      },
      "source": [
        "inline_images, inline_labels = extract_patch(inline_sections, inline_masks, stride=20, patch=40)"
      ],
      "execution_count": null,
      "outputs": [
        {
          "output_type": "stream",
          "text": [
            "Patch Images Shape\t:(149974, 40, 40)\n",
            "Patch Masks Shape\t:(149974, 40, 40)\n"
          ],
          "name": "stdout"
        }
      ]
    },
    {
      "cell_type": "code",
      "metadata": {
        "id": "whc8f9B0nVHs",
        "colab_type": "code",
        "colab": {}
      },
      "source": [
        "#plot_section_mask(inline_images, inline_labels, 0, 7, (25, 3))"
      ],
      "execution_count": null,
      "outputs": []
    },
    {
      "cell_type": "code",
      "metadata": {
        "id": "F2q9GDUEmidD",
        "colab_type": "code",
        "colab": {}
      },
      "source": [
        "inline_labels = labels_conversion_netherlands_new(inline_labels)"
      ],
      "execution_count": null,
      "outputs": []
    },
    {
      "cell_type": "code",
      "metadata": {
        "id": "NLArIOq9nxxb",
        "colab_type": "code",
        "colab": {
          "base_uri": "https://localhost:8080/",
          "height": 54
        },
        "outputId": "1cce342c-77fd-4aaf-a1ab-930bd7d8102c"
      },
      "source": [
        "#inline_images, inline_labels = filter_patches(inline_images, inline_labels, threshold=0.5)\n",
        "inline_images, inline_labels = classification_based_data(inline_images, inline_labels, threshold=0.6)"
      ],
      "execution_count": null,
      "outputs": [
        {
          "output_type": "stream",
          "text": [
            "Filtered Patch Images Shape\t:(5939, 40, 40)\n",
            "Filtered Patch Labels Shape\t:(5939,)\n"
          ],
          "name": "stdout"
        }
      ]
    },
    {
      "cell_type": "code",
      "metadata": {
        "id": "h5o845dkW4K0",
        "colab_type": "code",
        "colab": {
          "base_uri": "https://localhost:8080/",
          "height": 54
        },
        "outputId": "65dc396f-f7d9-4217-865c-2f25298add9c"
      },
      "source": [
        "class_dist_data(inline_labels, return_count = True)"
      ],
      "execution_count": null,
      "outputs": [
        {
          "output_type": "stream",
          "text": [
            "Class Labels in given data: (array([0, 1, 2], dtype=uint8), array([3599, 1185, 1155]))\n",
            "%age of each class in data: [60.6 20.  19.4]\n"
          ],
          "name": "stdout"
        }
      ]
    },
    {
      "cell_type": "code",
      "metadata": {
        "id": "o2yIcRdgnxql",
        "colab_type": "code",
        "colab": {}
      },
      "source": [
        "#plot_section_mask(inline_images, inline_labels, 0, 7, (25, 3))"
      ],
      "execution_count": null,
      "outputs": []
    },
    {
      "cell_type": "code",
      "metadata": {
        "id": "3s-FTmiQLJQ7",
        "colab_type": "code",
        "colab": {
          "base_uri": "https://localhost:8080/",
          "height": 54
        },
        "outputId": "272e65a3-3a4c-4341-8817-8bbbde0429c7"
      },
      "source": [
        "xline_images = []\n",
        "xline_labels = []\n",
        "\n",
        "for i in range(images.shape[1]):\n",
        "    xline_images.append(images[:, i, :].T)\n",
        "    xline_labels.append(labels[:, i, :].T)\n",
        "\n",
        "xline_sections = np.asarray(xline_images)\n",
        "xline_masks = np.asarray(xline_labels)\n",
        "\n",
        "print(\"Section Shape\\t:{0}\\nMask Shape\\t:{1}\".format(xline_sections.shape, xline_masks.shape))"
      ],
      "execution_count": null,
      "outputs": [
        {
          "output_type": "stream",
          "text": [
            "Section Shape\t:(701, 255, 401)\n",
            "Mask Shape\t:(701, 255, 401)\n"
          ],
          "name": "stdout"
        }
      ]
    },
    {
      "cell_type": "code",
      "metadata": {
        "id": "-Bbz-eA6LJJ_",
        "colab_type": "code",
        "colab": {}
      },
      "source": [
        "#plot_section_mask(xline_sections, xline_masks, figsize=(70, 4))"
      ],
      "execution_count": null,
      "outputs": []
    },
    {
      "cell_type": "code",
      "metadata": {
        "id": "SfMjjub7LJDN",
        "colab_type": "code",
        "colab": {
          "base_uri": "https://localhost:8080/",
          "height": 54
        },
        "outputId": "c1b49463-1b05-48b6-9e6d-c917607f4b79"
      },
      "source": [
        "xline_images, xline_labels = extract_patch(xline_sections, xline_masks, stride=20, patch=40)"
      ],
      "execution_count": null,
      "outputs": [
        {
          "output_type": "stream",
          "text": [
            "Patch Images Shape\t:(146509, 40, 40)\n",
            "Patch Masks Shape\t:(146509, 40, 40)\n"
          ],
          "name": "stdout"
        }
      ]
    },
    {
      "cell_type": "code",
      "metadata": {
        "id": "G4Wr2JIZLI53",
        "colab_type": "code",
        "colab": {}
      },
      "source": [
        "#plot_section_mask(xline_images, xline_labels, 0, 7, (25, 3))"
      ],
      "execution_count": null,
      "outputs": []
    },
    {
      "cell_type": "code",
      "metadata": {
        "id": "69oxzBK_o4rp",
        "colab_type": "code",
        "colab": {}
      },
      "source": [
        "xline_labels = labels_conversion_netherlands_new(xline_labels)"
      ],
      "execution_count": null,
      "outputs": []
    },
    {
      "cell_type": "code",
      "metadata": {
        "id": "pSocIM1Fo-5g",
        "colab_type": "code",
        "colab": {
          "base_uri": "https://localhost:8080/",
          "height": 54
        },
        "outputId": "8dc03d8b-c322-415a-81b3-3b6bf827a68f"
      },
      "source": [
        "#xline_images, xline_labels = filter_patches(xline_images, xline_labels, threshold=0.5)\n",
        "xline_images, xline_labels = classification_based_data(xline_images, xline_labels, threshold=0.6)"
      ],
      "execution_count": null,
      "outputs": [
        {
          "output_type": "stream",
          "text": [
            "Filtered Patch Images Shape\t:(5725, 40, 40)\n",
            "Filtered Patch Labels Shape\t:(5725,)\n"
          ],
          "name": "stdout"
        }
      ]
    },
    {
      "cell_type": "code",
      "metadata": {
        "id": "0MZ1sno6ZUrU",
        "colab_type": "code",
        "colab": {
          "base_uri": "https://localhost:8080/",
          "height": 54
        },
        "outputId": "54b173a5-0303-4e0f-c4be-8c812ed7ddc8"
      },
      "source": [
        "class_dist_data(xline_labels, return_count = True)"
      ],
      "execution_count": null,
      "outputs": [
        {
          "output_type": "stream",
          "text": [
            "Class Labels in given data: (array([0, 1, 2], dtype=uint8), array([3663, 1011, 1051]))\n",
            "%age of each class in data: [64.  17.7 18.4]\n"
          ],
          "name": "stdout"
        }
      ]
    },
    {
      "cell_type": "code",
      "metadata": {
        "id": "HCAK2cL-pBa_",
        "colab_type": "code",
        "colab": {}
      },
      "source": [
        "#plot_section_mask(xline_images, xline_labels, 0, 7, (25, 3))"
      ],
      "execution_count": null,
      "outputs": []
    },
    {
      "cell_type": "code",
      "metadata": {
        "id": "X0XBY0KCqxeu",
        "colab_type": "code",
        "colab": {}
      },
      "source": [
        "images = np.concatenate((inline_images, xline_images))\n",
        "labels = np.concatenate((inline_labels, xline_labels))"
      ],
      "execution_count": null,
      "outputs": []
    },
    {
      "cell_type": "code",
      "metadata": {
        "id": "qPjoU2pgqxXf",
        "colab_type": "code",
        "colab": {
          "base_uri": "https://localhost:8080/",
          "height": 54
        },
        "outputId": "e1b0ff18-24d4-428d-88c0-ec17f83f0822"
      },
      "source": [
        "print(\"Images File Shape\\t:{0}\\nLabels File Shape\\t:{1}\".format(images.shape, labels.shape))"
      ],
      "execution_count": null,
      "outputs": [
        {
          "output_type": "stream",
          "text": [
            "Images File Shape\t:(11664, 40, 40)\n",
            "Labels File Shape\t:(11664,)\n"
          ],
          "name": "stdout"
        }
      ]
    },
    {
      "cell_type": "code",
      "metadata": {
        "id": "9Ca3Oq6ZAvRz",
        "colab_type": "code",
        "colab": {
          "base_uri": "https://localhost:8080/",
          "height": 54
        },
        "outputId": "dfe832c6-9dd6-42d7-88e8-ff300bfbcc9e"
      },
      "source": [
        "class_dist_data(labels, return_count = True)"
      ],
      "execution_count": null,
      "outputs": [
        {
          "output_type": "stream",
          "text": [
            "Class Labels in given data: (array([0, 1, 2], dtype=uint8), array([7262, 2196, 2206]))\n",
            "%age of each class in data: [62.3 18.8 18.9]\n"
          ],
          "name": "stdout"
        }
      ]
    },
    {
      "cell_type": "code",
      "metadata": {
        "id": "d6McVODdAzek",
        "colab_type": "code",
        "colab": {}
      },
      "source": [
        "#images, labels = balance_class_dist(images, labels, class_to_be_balanced = 0, skipping_factor = 7)\n",
        "#images, labels = balance_class_dist_for_classification(images, labels, 0, 30)"
      ],
      "execution_count": null,
      "outputs": []
    },
    {
      "cell_type": "code",
      "metadata": {
        "id": "1sbbz8YLA9NK",
        "colab_type": "code",
        "colab": {}
      },
      "source": [
        "#class_dist_data(labels)"
      ],
      "execution_count": null,
      "outputs": []
    },
    {
      "cell_type": "code",
      "metadata": {
        "id": "3xeGoFNsga9q",
        "colab_type": "code",
        "colab": {}
      },
      "source": [
        "#images, labels = balance_class_dist_for_classification(images, labels, 1, 3)"
      ],
      "execution_count": null,
      "outputs": []
    },
    {
      "cell_type": "code",
      "metadata": {
        "id": "G3tAyHoagayG",
        "colab_type": "code",
        "colab": {}
      },
      "source": [
        "#class_dist_data(labels, return_count = True)"
      ],
      "execution_count": null,
      "outputs": []
    },
    {
      "cell_type": "code",
      "metadata": {
        "id": "pbTQy96SrYh_",
        "colab_type": "code",
        "colab": {}
      },
      "source": [
        "#plot_section_mask(images, labels, 0, 7, (25, 3))"
      ],
      "execution_count": null,
      "outputs": []
    },
    {
      "cell_type": "code",
      "metadata": {
        "id": "x06e58G_rYa7",
        "colab_type": "code",
        "colab": {}
      },
      "source": [
        "images_train, images_valid, labels_train, labels_valid = train_test_split(images, labels, test_size=0.2, random_state=42)"
      ],
      "execution_count": null,
      "outputs": []
    },
    {
      "cell_type": "code",
      "metadata": {
        "id": "OCYkJUtEsI5d",
        "colab_type": "code",
        "colab": {
          "base_uri": "https://localhost:8080/",
          "height": 90
        },
        "outputId": "ba50321f-d9b8-4606-e0d8-a45b79ec6542"
      },
      "source": [
        "print(\"Train Images File Shape\\t:{0}\\nTrain Labels File Shape\\t:{1}\\nValid Images File Shape\\t:{2}\\nValid Labels File Shape\\t:{3}\".format(\n",
        "                                            images_train.shape, labels_train.shape, images_valid.shape, labels_valid.shape))"
      ],
      "execution_count": null,
      "outputs": [
        {
          "output_type": "stream",
          "text": [
            "Train Images File Shape\t:(9331, 40, 40)\n",
            "Train Labels File Shape\t:(9331,)\n",
            "Valid Images File Shape\t:(2333, 40, 40)\n",
            "Valid Labels File Shape\t:(2333,)\n"
          ],
          "name": "stdout"
        }
      ]
    },
    {
      "cell_type": "code",
      "metadata": {
        "id": "u8lU0J7I0ywa",
        "colab_type": "code",
        "colab": {}
      },
      "source": [
        "labels_train = labels_train.astype('int')\n",
        "labels_valid = labels_valid.astype('int')"
      ],
      "execution_count": null,
      "outputs": []
    },
    {
      "cell_type": "code",
      "metadata": {
        "id": "rxwDGJZJrYTO",
        "colab_type": "code",
        "colab": {}
      },
      "source": [
        "#plot_section_mask(images_train, labels_train, 0, 7, (25, 3))"
      ],
      "execution_count": null,
      "outputs": []
    },
    {
      "cell_type": "code",
      "metadata": {
        "id": "93YhbSE3rYJU",
        "colab_type": "code",
        "colab": {}
      },
      "source": [
        "#plot_section_mask(images_valid, labels_valid, 0, 7, (25, 3))"
      ],
      "execution_count": null,
      "outputs": []
    },
    {
      "cell_type": "code",
      "metadata": {
        "id": "cqBQ0h4QuK2v",
        "colab_type": "code",
        "colab": {
          "base_uri": "https://localhost:8080/",
          "height": 54
        },
        "outputId": "36cccbc0-71c3-4a13-fddf-4964d033ab46"
      },
      "source": [
        "class_dist_data(labels_train, return_count = True)"
      ],
      "execution_count": null,
      "outputs": [
        {
          "output_type": "stream",
          "text": [
            "Class Labels in given data: (array([0, 1, 2]), array([5796, 1770, 1765]))\n",
            "%age of each class in data: [62.1 19.  18.9]\n"
          ],
          "name": "stdout"
        }
      ]
    },
    {
      "cell_type": "code",
      "metadata": {
        "id": "1gCXQI-LuKsC",
        "colab_type": "code",
        "colab": {
          "base_uri": "https://localhost:8080/",
          "height": 54
        },
        "outputId": "9ab0b906-d317-4a9e-e7e0-8ebd38a2f773"
      },
      "source": [
        "class_dist_data(labels_valid, return_count = True)"
      ],
      "execution_count": null,
      "outputs": [
        {
          "output_type": "stream",
          "text": [
            "Class Labels in given data: (array([0, 1, 2]), array([1466,  426,  441]))\n",
            "%age of each class in data: [62.8 18.3 18.9]\n"
          ],
          "name": "stdout"
        }
      ]
    },
    {
      "cell_type": "markdown",
      "metadata": {
        "colab_type": "text",
        "id": "lf1rYExH8NF1"
      },
      "source": [
        "### Data Augmentation on Netherlands"
      ]
    },
    {
      "cell_type": "code",
      "metadata": {
        "colab_type": "code",
        "id": "nzveT6-v8NF4",
        "colab": {}
      },
      "source": [
        "#imagesClassExtract_class3 = extract_particular_class(images_train, labels_train, 3)"
      ],
      "execution_count": null,
      "outputs": []
    },
    {
      "cell_type": "code",
      "metadata": {
        "colab_type": "code",
        "id": "MPR6fAwS8NGD",
        "colab": {}
      },
      "source": [
        "#augmented_images_class3, augmented_labels_class3 = apply_augmentation(imagesClassExtract_class3, 3)"
      ],
      "execution_count": null,
      "outputs": []
    },
    {
      "cell_type": "code",
      "metadata": {
        "colab_type": "code",
        "id": "p12gS_ep8NGM",
        "colab": {
          "base_uri": "https://localhost:8080/",
          "height": 35
        },
        "outputId": "30b42d7a-23ba-4c60-f2d8-ce10863437dd"
      },
      "source": [
        "imagesClassExtract_class2 = extract_particular_class(images_train, labels_train, 2)"
      ],
      "execution_count": null,
      "outputs": [
        {
          "output_type": "stream",
          "text": [
            "Extracted Patch Images Shape (For Class 2) : (1765, 40, 40)\n"
          ],
          "name": "stdout"
        }
      ]
    },
    {
      "cell_type": "code",
      "metadata": {
        "colab_type": "code",
        "id": "mB1FZqV08NGW",
        "colab": {
          "base_uri": "https://localhost:8080/",
          "height": 54
        },
        "outputId": "0fbfa24f-d03f-4b10-a891-b50de053013c"
      },
      "source": [
        "augmented_images_class2, augmented_labels_class2 = apply_augmentation(imagesClassExtract_class2, 2)"
      ],
      "execution_count": null,
      "outputs": [
        {
          "output_type": "stream",
          "text": [
            "Augmented Patch Images Shape\t:(12355, 40, 40)\n",
            "Augmented Patch Labels Shape\t:(12355,)\n"
          ],
          "name": "stdout"
        }
      ]
    },
    {
      "cell_type": "code",
      "metadata": {
        "id": "NNaSoC6-S9e2",
        "colab_type": "code",
        "colab": {}
      },
      "source": [
        "images_class2 = np.concatenate([imagesClassExtract_class2, augmented_images_class2])\n",
        "labels_class2 = np.ones(images_class2.shape[0]) * 2"
      ],
      "execution_count": null,
      "outputs": []
    },
    {
      "cell_type": "code",
      "metadata": {
        "id": "0CeK1hGb8qZS",
        "colab_type": "code",
        "colab": {
          "base_uri": "https://localhost:8080/",
          "height": 35
        },
        "outputId": "0205834a-e6e5-4fad-f0ff-79739ea2fc7b"
      },
      "source": [
        "imagesClassExtract_class1 = extract_particular_class(images_train, labels_train, 1)"
      ],
      "execution_count": null,
      "outputs": [
        {
          "output_type": "stream",
          "text": [
            "Extracted Patch Images Shape (For Class 1) : (1770, 40, 40)\n"
          ],
          "name": "stdout"
        }
      ]
    },
    {
      "cell_type": "code",
      "metadata": {
        "id": "jh_1ftjk8qQ2",
        "colab_type": "code",
        "colab": {
          "base_uri": "https://localhost:8080/",
          "height": 54
        },
        "outputId": "556fbaa8-a04b-4051-ce86-a913817c2585"
      },
      "source": [
        "augmented_images_class1, augmented_labels_class1 = apply_augmentation(imagesClassExtract_class1, 1)"
      ],
      "execution_count": null,
      "outputs": [
        {
          "output_type": "stream",
          "text": [
            "Augmented Patch Images Shape\t:(12390, 40, 40)\n",
            "Augmented Patch Labels Shape\t:(12390,)\n"
          ],
          "name": "stdout"
        }
      ]
    },
    {
      "cell_type": "code",
      "metadata": {
        "id": "6ETb5_1FVzvT",
        "colab_type": "code",
        "colab": {}
      },
      "source": [
        "images_class1 = np.concatenate([imagesClassExtract_class1, augmented_images_class1])\n",
        "labels_class1 = np.ones(images_class1.shape[0])"
      ],
      "execution_count": null,
      "outputs": []
    },
    {
      "cell_type": "code",
      "metadata": {
        "id": "fr8JL7U4857e",
        "colab_type": "code",
        "colab": {
          "base_uri": "https://localhost:8080/",
          "height": 35
        },
        "outputId": "bafb6303-2c00-42b5-aa52-bccb4ee21d69"
      },
      "source": [
        "imagesClassExtract_class0 = extract_particular_class(images_train, labels_train, 0)"
      ],
      "execution_count": null,
      "outputs": [
        {
          "output_type": "stream",
          "text": [
            "Extracted Patch Images Shape (For Class 0) : (5796, 40, 40)\n"
          ],
          "name": "stdout"
        }
      ]
    },
    {
      "cell_type": "code",
      "metadata": {
        "id": "Hyhvo8x1Qyn3",
        "colab_type": "code",
        "colab": {
          "base_uri": "https://localhost:8080/",
          "height": 54
        },
        "outputId": "6e266292-602e-4d1a-b10a-bc494ad8e905"
      },
      "source": [
        "augmented_images_class0, augmented_labels_class0 = apply_augmentation(imagesClassExtract_class0, 0)"
      ],
      "execution_count": null,
      "outputs": [
        {
          "output_type": "stream",
          "text": [
            "Augmented Patch Images Shape\t:(40572, 40, 40)\n",
            "Augmented Patch Labels Shape\t:(40572,)\n"
          ],
          "name": "stdout"
        }
      ]
    },
    {
      "cell_type": "code",
      "metadata": {
        "id": "LeTdWziOWJAv",
        "colab_type": "code",
        "colab": {}
      },
      "source": [
        "images_class0 = np.concatenate([imagesClassExtract_class0, augmented_images_class0])\n",
        "labels_class0 = np.zeros(images_class0.shape[0])"
      ],
      "execution_count": null,
      "outputs": []
    },
    {
      "cell_type": "code",
      "metadata": {
        "id": "8yMYXaa7850X",
        "colab_type": "code",
        "colab": {}
      },
      "source": [
        "#images_train = np.concatenate([imagesClassExtract_class0, augmented_images_class1, augmented_images_class2, augmented_images_class3])\n",
        "#labels_train = np.concatenate([np.zeros(imagesClassExtract_class0.shape[0]), augmented_labels_class1, augmented_labels_class2, augmented_labels_class3])\n",
        "images_train = np.concatenate([images_class0, images_class1, images_class2])\n",
        "labels_train = np.concatenate([labels_class0, labels_class1, labels_class2])"
      ],
      "execution_count": null,
      "outputs": []
    },
    {
      "cell_type": "code",
      "metadata": {
        "id": "i845x2DI83lU",
        "colab_type": "code",
        "colab": {
          "base_uri": "https://localhost:8080/",
          "height": 54
        },
        "outputId": "e142ebf2-e7b1-4837-c80f-c0a305facd1e"
      },
      "source": [
        "class_dist_data(labels_train, return_count = True)"
      ],
      "execution_count": null,
      "outputs": [
        {
          "output_type": "stream",
          "text": [
            "Class Labels in given data: (array([0., 1., 2.]), array([46368, 14160, 14120]))\n",
            "%age of each class in data: [62.1 19.  18.9]\n"
          ],
          "name": "stdout"
        }
      ]
    },
    {
      "cell_type": "code",
      "metadata": {
        "id": "W40XzYT0AKi0",
        "colab_type": "code",
        "colab": {}
      },
      "source": [
        "labels_train = labels_train.astype('int')"
      ],
      "execution_count": null,
      "outputs": []
    },
    {
      "cell_type": "code",
      "metadata": {
        "id": "MGRKqtA3-ZBZ",
        "colab_type": "code",
        "colab": {}
      },
      "source": [
        "images_train, labels_train = shuffle(images_train, labels_train)"
      ],
      "execution_count": null,
      "outputs": []
    },
    {
      "cell_type": "code",
      "metadata": {
        "id": "PjCQ6jCfgsAC",
        "colab_type": "code",
        "colab": {
          "base_uri": "https://localhost:8080/",
          "height": 54
        },
        "outputId": "832f1b75-2657-446a-a385-cfd8e0e53ae3"
      },
      "source": [
        "class_dist_data(labels_train, return_count = True)"
      ],
      "execution_count": null,
      "outputs": [
        {
          "output_type": "stream",
          "text": [
            "Class Labels in given data: (array([0, 1, 2]), array([46368, 14160, 14120]))\n",
            "%age of each class in data: [62.1 19.  18.9]\n"
          ],
          "name": "stdout"
        }
      ]
    },
    {
      "cell_type": "code",
      "metadata": {
        "id": "DZtqh6PwVubw",
        "colab_type": "code",
        "colab": {
          "base_uri": "https://localhost:8080/",
          "height": 35
        },
        "outputId": "3b344893-f780-49b8-c477-5a154326328c"
      },
      "source": [
        "labels_train.shape"
      ],
      "execution_count": null,
      "outputs": [
        {
          "output_type": "execute_result",
          "data": {
            "text/plain": [
              "(74648,)"
            ]
          },
          "metadata": {
            "tags": []
          },
          "execution_count": 51
        }
      ]
    },
    {
      "cell_type": "code",
      "metadata": {
        "id": "n8IgizfcsFuI",
        "colab_type": "code",
        "colab": {}
      },
      "source": [
        "np.save(\"deep_domain_adaptation/DeepCORAL-master/data_netherlands/train/images\", images_train)\n",
        "np.save(\"deep_domain_adaptation/DeepCORAL-master/data_netherlands/train/labels\", labels_train)\n",
        "\n",
        "np.save(\"deep_domain_adaptation/DeepCORAL-master/data_netherlands/valid/images\", images_valid)\n",
        "np.save(\"deep_domain_adaptation/DeepCORAL-master/data_netherlands/valid/labels\", labels_valid)"
      ],
      "execution_count": null,
      "outputs": []
    },
    {
      "cell_type": "markdown",
      "metadata": {
        "id": "HW48h9GveCTz",
        "colab_type": "text"
      },
      "source": [
        "# Netherlands F3 Block (Using Original train_test_split and patch loader)"
      ]
    },
    {
      "cell_type": "code",
      "metadata": {
        "id": "7t9zpF9Xe9Bg",
        "colab_type": "code",
        "colab": {
          "base_uri": "https://localhost:8080/",
          "height": 51
        },
        "outputId": "8a393bda-8a46-4efa-b9bf-38328ea9daf2"
      },
      "source": [
        "%cd /content/drive/My Drive/PETAI-master\n",
        "%ls data/train"
      ],
      "execution_count": null,
      "outputs": [
        {
          "output_type": "stream",
          "text": [
            "/content/drive/My Drive/PETAI-master\n",
            "train_labels.npy  train_seismic.npy\n"
          ],
          "name": "stdout"
        }
      ]
    },
    {
      "cell_type": "code",
      "metadata": {
        "id": "Udq8FWfIfz_5",
        "colab_type": "code",
        "colab": {}
      },
      "source": [
        "import itertools\n",
        "from core.data_loader import *\n",
        "from torch.utils import data"
      ],
      "execution_count": null,
      "outputs": []
    },
    {
      "cell_type": "code",
      "metadata": {
        "id": "2ei3CJFNg8i2",
        "colab_type": "code",
        "colab": {}
      },
      "source": [
        "seismic = np.load(pjoin(\"data\", \"train\", \"train_seismic.npy\"))\n",
        "labels = np.load(pjoin(\"data\", \"train\", \"train_labels.npy\"))"
      ],
      "execution_count": null,
      "outputs": []
    },
    {
      "cell_type": "code",
      "metadata": {
        "id": "mPUMOu_mbTgt",
        "colab_type": "code",
        "colab": {}
      },
      "source": [
        "stride = 50\n",
        "patch = 99"
      ],
      "execution_count": null,
      "outputs": []
    },
    {
      "cell_type": "code",
      "metadata": {
        "id": "nqTqzPmRsFm2",
        "colab_type": "code",
        "colab": {}
      },
      "source": [
        "def split_train_val(stride, per_val=0.2):\n",
        "    # create inline and crossline pacthes for training and validation:\n",
        "    loader_type = 'patch'\n",
        "    labels = np.load(pjoin('data', 'train', 'train_labels.npy'))\n",
        "    iline, xline, depth = labels.shape\n",
        "\n",
        "    # INLINE PATCHES: ------------------------------------------------\n",
        "    i_list = []\n",
        "    horz_locations = range(0, xline-stride, stride)\n",
        "    vert_locations = range(0, depth-stride, stride)\n",
        "    for i in range(iline):\n",
        "        # for every inline:\n",
        "        # images are references by top-left corner:\n",
        "        locations = [[j, k] for j in horz_locations for k in vert_locations]\n",
        "        patches_list = ['i_'+str(i)+'_'+str(j)+'_'+str(k)\n",
        "                        for j, k in locations]\n",
        "        i_list.append(patches_list)\n",
        "\n",
        "    # flatten the list\n",
        "    i_list = list(itertools.chain(*i_list))\n",
        "\n",
        "    # XLINE PATCHES: ------------------------------------------------\n",
        "    x_list = []\n",
        "    horz_locations = range(0, iline-stride, stride)\n",
        "    vert_locations = range(0, depth-stride, stride)\n",
        "    for j in range(xline):\n",
        "        # for every xline:\n",
        "        # images are references by top-left corner:\n",
        "        locations = [[i, k] for i in horz_locations for k in vert_locations]\n",
        "        patches_list = ['x_'+str(i)+'_'+str(j)+'_'+str(k)\n",
        "                        for i, k in locations]\n",
        "        x_list.append(patches_list)\n",
        "\n",
        "    # flatten the list\n",
        "    x_list = list(itertools.chain(*x_list))\n",
        "\n",
        "    list_train_val = i_list + x_list\n",
        "\n",
        "    # create train and test splits:\n",
        "    list_train, list_val = train_test_split(\n",
        "        list_train_val, test_size=per_val, shuffle=True)\n",
        "\n",
        "    # write to files to disK:\n",
        "    file_object = open(\n",
        "        pjoin('data', 'splits', loader_type + '_train_val.txt'), 'w')\n",
        "    file_object.write('\\n'.join(list_train_val))\n",
        "    file_object.close()\n",
        "    file_object = open(\n",
        "        pjoin('data', 'splits', loader_type + '_train.txt'), 'w')\n",
        "    file_object.write('\\n'.join(list_train))\n",
        "    file_object.close()\n",
        "    file_object = open(pjoin('data', 'splits', loader_type + '_val.txt'), 'w')\n",
        "    file_object.write('\\n'.join(list_val))\n",
        "    file_object.close()"
      ],
      "execution_count": null,
      "outputs": []
    },
    {
      "cell_type": "code",
      "metadata": {
        "id": "xsUApLm4sFdJ",
        "colab_type": "code",
        "colab": {}
      },
      "source": [
        "split_train_val(stride = stride, per_val = 0.2)"
      ],
      "execution_count": null,
      "outputs": []
    },
    {
      "cell_type": "code",
      "metadata": {
        "id": "GWruP8ppqxOF",
        "colab_type": "code",
        "colab": {}
      },
      "source": [
        "train_set = PatchLoader(is_transform = False, split = 'train', stride = stride, patch_size = patch, augmentations = None)\n",
        "\n",
        "val_set = PatchLoader(is_transform = False, split = 'val', stride = stride, patch_size = patch)"
      ],
      "execution_count": null,
      "outputs": []
    },
    {
      "cell_type": "code",
      "metadata": {
        "id": "qkAffXOckQKR",
        "colab_type": "code",
        "colab": {}
      },
      "source": [
        "train_seismic = []\n",
        "train_labels = []\n",
        "for seismic, labels in train_set:\n",
        "    train_seismic.append(seismic)\n",
        "    train_labels.append(labels)"
      ],
      "execution_count": null,
      "outputs": []
    },
    {
      "cell_type": "code",
      "metadata": {
        "id": "xDRJs0MGkXbq",
        "colab_type": "code",
        "colab": {}
      },
      "source": [
        "train_seismic = np.asarray(train_seismic)\n",
        "train_labels = np.asarray(train_labels)"
      ],
      "execution_count": null,
      "outputs": []
    },
    {
      "cell_type": "code",
      "metadata": {
        "id": "Ne-ViI4Yaiyc",
        "colab_type": "code",
        "colab": {}
      },
      "source": [
        "plot_section_mask(train_seismic, train_labels, 0, 7, (25, 3))"
      ],
      "execution_count": null,
      "outputs": []
    },
    {
      "cell_type": "code",
      "metadata": {
        "id": "O9ro3-ICZ9oo",
        "colab_type": "code",
        "colab": {}
      },
      "source": [
        "train_labels = labels_conversion_netherlands(train_labels)"
      ],
      "execution_count": null,
      "outputs": []
    },
    {
      "cell_type": "code",
      "metadata": {
        "id": "OnPVhe8vaIfs",
        "colab_type": "code",
        "colab": {}
      },
      "source": [
        "train_images, train_labels = filter_patches(train_images, train_labels, threshold=0.8)"
      ],
      "execution_count": null,
      "outputs": []
    },
    {
      "cell_type": "code",
      "metadata": {
        "id": "5fEZ85XRZ9il",
        "colab_type": "code",
        "colab": {}
      },
      "source": [
        "plot_section_mask(train_images, train_labels, 0, 7, (25, 3))"
      ],
      "execution_count": null,
      "outputs": []
    },
    {
      "cell_type": "code",
      "metadata": {
        "id": "1ZhXnlC41BYa",
        "colab_type": "code",
        "colab": {}
      },
      "source": [
        "val_seismic = []\n",
        "val_labels = []\n",
        "for seismic, labels in val_set:\n",
        "    val_seismic.append(seismic)\n",
        "    val_labels.append(labels)"
      ],
      "execution_count": null,
      "outputs": []
    },
    {
      "cell_type": "code",
      "metadata": {
        "id": "4FkdjXbc1K5q",
        "colab_type": "code",
        "colab": {}
      },
      "source": [
        "val_seismic = np.asarray(val_seismic)\n",
        "val_labels = np.asarray(val_labels)"
      ],
      "execution_count": null,
      "outputs": []
    },
    {
      "cell_type": "code",
      "metadata": {
        "colab_type": "code",
        "id": "X9ZjdmlNam0z",
        "colab": {}
      },
      "source": [
        "plot_section_mask(val_seismic, val_labels, 0, 7, (25, 3))"
      ],
      "execution_count": null,
      "outputs": []
    },
    {
      "cell_type": "code",
      "metadata": {
        "colab_type": "code",
        "id": "15JUiYcIam0_",
        "colab": {}
      },
      "source": [
        "val_labels = labels_conversion_netherlands(val_labels)"
      ],
      "execution_count": null,
      "outputs": []
    },
    {
      "cell_type": "code",
      "metadata": {
        "colab_type": "code",
        "id": "HKJaXV7Vam1J",
        "colab": {}
      },
      "source": [
        "val_seismic, val_labels = filter_patches(val_seismic, val_labels, threshold=0.8)"
      ],
      "execution_count": null,
      "outputs": []
    },
    {
      "cell_type": "code",
      "metadata": {
        "colab_type": "code",
        "id": "ojCtLJNSam1S",
        "colab": {}
      },
      "source": [
        "plot_section_mask(val_seismic, val_labels, 0, 7, (25, 3))"
      ],
      "execution_count": null,
      "outputs": []
    },
    {
      "cell_type": "code",
      "metadata": {
        "id": "tCYM7QRR3OJf",
        "colab_type": "code",
        "colab": {}
      },
      "source": [
        "np.save(\"/content/drive/My Drive/Netherlands Original/train_images\", train_seismic)\n",
        "np.save(\"/content/drive/My Drive/Netherlands Original/train_labels\", train_labels)\n",
        "\n",
        "np.save(\"/content/drive/My Drive/Netherlands Original/valid_images\", val_seismic)\n",
        "np.save(\"/content/drive/My Drive/Netherlands Original/valid_labels\", val_labels)"
      ],
      "execution_count": null,
      "outputs": []
    }
  ]
}